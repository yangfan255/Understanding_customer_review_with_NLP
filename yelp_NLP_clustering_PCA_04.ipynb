{
 "cells": [
  {
   "cell_type": "markdown",
   "metadata": {},
   "source": [
    "### Yelp capstone project part 4: \n",
    "KMeans divide review text into 5 clusters; cluster centroids reveal top features in each cluster; perform PCA to reduce dimensionality and speed up Logistic regression and Random forest classifier.  "
   ]
  },
  {
   "cell_type": "code",
   "execution_count": 1,
   "metadata": {},
   "outputs": [],
   "source": [
    "import pandas as pd\n",
    "import numpy as np\n",
    "import matplotlib.pyplot as plt\n",
    "% matplotlib inline\n",
    "plt.style.use(\"ggplot\")\n",
    "\n",
    "import warnings\n",
    "warnings.filterwarnings('ignore')"
   ]
  },
  {
   "cell_type": "code",
   "execution_count": 2,
   "metadata": {},
   "outputs": [],
   "source": [
    "df = pd.read_csv('/Users/fanyang/Documents/yelp_project/12_24/last_2_years_restaurant_reviews_AZ.csv')"
   ]
  },
  {
   "cell_type": "code",
   "execution_count": 3,
   "metadata": {},
   "outputs": [
    {
     "data": {
      "text/html": [
       "<div>\n",
       "<style scoped>\n",
       "    .dataframe tbody tr th:only-of-type {\n",
       "        vertical-align: middle;\n",
       "    }\n",
       "\n",
       "    .dataframe tbody tr th {\n",
       "        vertical-align: top;\n",
       "    }\n",
       "\n",
       "    .dataframe thead th {\n",
       "        text-align: right;\n",
       "    }\n",
       "</style>\n",
       "<table border=\"1\" class=\"dataframe\">\n",
       "  <thead>\n",
       "    <tr style=\"text-align: right;\">\n",
       "      <th></th>\n",
       "      <th>business_id</th>\n",
       "      <th>Unnamed: 0</th>\n",
       "      <th>name</th>\n",
       "      <th>categories</th>\n",
       "      <th>starts_business</th>\n",
       "      <th>cool</th>\n",
       "      <th>date</th>\n",
       "      <th>funny</th>\n",
       "      <th>review_id</th>\n",
       "      <th>stars</th>\n",
       "      <th>text</th>\n",
       "      <th>useful</th>\n",
       "      <th>user_id</th>\n",
       "    </tr>\n",
       "  </thead>\n",
       "  <tbody>\n",
       "    <tr>\n",
       "      <th>0</th>\n",
       "      <td>-01XupAWZEXbdNbxNg5mEg</td>\n",
       "      <td>8836</td>\n",
       "      <td>18 Degrees Neighborhood Grill</td>\n",
       "      <td>Nightlife, Bars, Restaurants, American (Tradit...</td>\n",
       "      <td>3.0</td>\n",
       "      <td>0</td>\n",
       "      <td>2017-06-26</td>\n",
       "      <td>0</td>\n",
       "      <td>VpdB20xoSH514ks0MkNqGQ</td>\n",
       "      <td>1</td>\n",
       "      <td>False advertisement! Website says open until 1...</td>\n",
       "      <td>0</td>\n",
       "      <td>GbYhdXKQGYGp6D2_S3Oyfw</td>\n",
       "    </tr>\n",
       "    <tr>\n",
       "      <th>1</th>\n",
       "      <td>-01XupAWZEXbdNbxNg5mEg</td>\n",
       "      <td>8836</td>\n",
       "      <td>18 Degrees Neighborhood Grill</td>\n",
       "      <td>Nightlife, Bars, Restaurants, American (Tradit...</td>\n",
       "      <td>3.0</td>\n",
       "      <td>1</td>\n",
       "      <td>2017-01-29</td>\n",
       "      <td>0</td>\n",
       "      <td>Xvdqblf2f7nx2h4B2UuD-g</td>\n",
       "      <td>2</td>\n",
       "      <td>Came in so my kiddo could skate and I could ju...</td>\n",
       "      <td>0</td>\n",
       "      <td>CU_RU1o3sKSwymRotn3DUg</td>\n",
       "    </tr>\n",
       "    <tr>\n",
       "      <th>2</th>\n",
       "      <td>-01XupAWZEXbdNbxNg5mEg</td>\n",
       "      <td>8836</td>\n",
       "      <td>18 Degrees Neighborhood Grill</td>\n",
       "      <td>Nightlife, Bars, Restaurants, American (Tradit...</td>\n",
       "      <td>3.0</td>\n",
       "      <td>0</td>\n",
       "      <td>2016-09-03</td>\n",
       "      <td>1</td>\n",
       "      <td>Z7ufB8dFZ_9VjkcntOEsig</td>\n",
       "      <td>1</td>\n",
       "      <td>Horrible!  Had the happy hour nachos.  The che...</td>\n",
       "      <td>2</td>\n",
       "      <td>-XoCb6sUMa7NoFayUW0FlA</td>\n",
       "    </tr>\n",
       "  </tbody>\n",
       "</table>\n",
       "</div>"
      ],
      "text/plain": [
       "              business_id  Unnamed: 0                           name  \\\n",
       "0  -01XupAWZEXbdNbxNg5mEg        8836  18 Degrees Neighborhood Grill   \n",
       "1  -01XupAWZEXbdNbxNg5mEg        8836  18 Degrees Neighborhood Grill   \n",
       "2  -01XupAWZEXbdNbxNg5mEg        8836  18 Degrees Neighborhood Grill   \n",
       "\n",
       "                                          categories  starts_business  cool  \\\n",
       "0  Nightlife, Bars, Restaurants, American (Tradit...              3.0     0   \n",
       "1  Nightlife, Bars, Restaurants, American (Tradit...              3.0     1   \n",
       "2  Nightlife, Bars, Restaurants, American (Tradit...              3.0     0   \n",
       "\n",
       "         date  funny               review_id  stars  \\\n",
       "0  2017-06-26      0  VpdB20xoSH514ks0MkNqGQ      1   \n",
       "1  2017-01-29      0  Xvdqblf2f7nx2h4B2UuD-g      2   \n",
       "2  2016-09-03      1  Z7ufB8dFZ_9VjkcntOEsig      1   \n",
       "\n",
       "                                                text  useful  \\\n",
       "0  False advertisement! Website says open until 1...       0   \n",
       "1  Came in so my kiddo could skate and I could ju...       0   \n",
       "2  Horrible!  Had the happy hour nachos.  The che...       2   \n",
       "\n",
       "                  user_id  \n",
       "0  GbYhdXKQGYGp6D2_S3Oyfw  \n",
       "1  CU_RU1o3sKSwymRotn3DUg  \n",
       "2  -XoCb6sUMa7NoFayUW0FlA  "
      ]
     },
     "execution_count": 3,
     "metadata": {},
     "output_type": "execute_result"
    }
   ],
   "source": [
    "df.head(3)"
   ]
  },
  {
   "cell_type": "markdown",
   "metadata": {},
   "source": [
    "#### select review text as documents"
   ]
  },
  {
   "cell_type": "code",
   "execution_count": 4,
   "metadata": {},
   "outputs": [
    {
     "data": {
      "text/plain": [
       "array(['False advertisement! Website says open until 11pm and the truth is...they are only open until the ice is open.',\n",
       "       \"Came in so my kiddo could skate and I could just watch front the comfort of the bar.  Service was non existent.  The waitresses walked past me about 10 times.... never even making eye contact.  I had to go to the bar to get a drink twice.  The bartender was speedy and friendly!  It's annoying and frustrating to be ignored.  Tips are earned.\",\n",
       "       'Horrible!  Had the happy hour nachos.  The cheese tasted like old plastic and smelled like vomit!  Absolutely disgusting!    I would never eat here again!',\n",
       "       'Been here a few times and most times decent to good service.\\n\\nLast time I was there I had the best burger I have had in a long time. Great flavor!\\n\\nGood bar atmosphere and really nice to walk hockey or LaCrosse at the same time.',\n",
       "       \"This place sucks. The waitress is really rude and wont give you water unless you eat food. My friend and i went there after a public skate and he ordered a burger and the waitress charged us $21. The waitress seemed like she didn't want to be there and i went there yesterday and she was 10 feet away from me and was mad because i asked for a menu so i just got up and left also she wouldn't give me a water when i asked for one which seems very rude. I have been to 18 degrees many times and the food is decent but this waitress is rude.\"],\n",
       "      dtype=object)"
      ]
     },
     "execution_count": 4,
     "metadata": {},
     "output_type": "execute_result"
    }
   ],
   "source": [
    "documents = df['text']\n",
    "indx = pd.notnull(documents)\n",
    "documents = documents[indx]\n",
    "documents = documents.values\n",
    "documents[:5]"
   ]
  },
  {
   "cell_type": "markdown",
   "metadata": {},
   "source": [
    "#### take review is positive when stars given by reviewer above 4.0"
   ]
  },
  {
   "cell_type": "code",
   "execution_count": 5,
   "metadata": {},
   "outputs": [
    {
     "data": {
      "text/plain": [
       "False    0.514724\n",
       "True     0.485276\n",
       "Name: positive_review, dtype: float64"
      ]
     },
     "execution_count": 5,
     "metadata": {},
     "output_type": "execute_result"
    }
   ],
   "source": [
    "df['positive_review'] = (df['stars']>4)\n",
    "df['positive_review'].value_counts(normalize=True)"
   ]
  },
  {
   "cell_type": "code",
   "execution_count": 6,
   "metadata": {},
   "outputs": [
    {
     "data": {
      "text/plain": [
       "array([False, False, False, False, False, False, False, False, False,\n",
       "       False])"
      ]
     },
     "execution_count": 6,
     "metadata": {},
     "output_type": "execute_result"
    }
   ],
   "source": [
    "target = df['positive_review'].values\n",
    "target = target[indx]\n",
    "target[:10]"
   ]
  },
  {
   "cell_type": "code",
   "execution_count": 7,
   "metadata": {},
   "outputs": [],
   "source": [
    "indices = df.index"
   ]
  },
  {
   "cell_type": "code",
   "execution_count": 8,
   "metadata": {
    "scrolled": true
   },
   "outputs": [
    {
     "data": {
      "text/plain": [
       "(462965, 462965)"
      ]
     },
     "execution_count": 8,
     "metadata": {},
     "output_type": "execute_result"
    }
   ],
   "source": [
    "documents.size, target.size"
   ]
  },
  {
   "cell_type": "markdown",
   "metadata": {},
   "source": [
    "#### split training and test datasets"
   ]
  },
  {
   "cell_type": "code",
   "execution_count": 9,
   "metadata": {},
   "outputs": [
    {
     "name": "stderr",
     "output_type": "stream",
     "text": [
      "/usr/local/lib/python3.7/site-packages/sklearn/cross_validation.py:41: DeprecationWarning: This module was deprecated in version 0.18 in favor of the model_selection module into which all the refactored classes and functions are moved. Also note that the interface of the new CV iterators are different from that of this module. This module will be removed in 0.20.\n",
      "  \"This module will be removed in 0.20.\", DeprecationWarning)\n"
     ]
    }
   ],
   "source": [
    "from sklearn.cross_validation import train_test_split"
   ]
  },
  {
   "cell_type": "code",
   "execution_count": 10,
   "metadata": {},
   "outputs": [],
   "source": [
    "documents_train, documents_test, target_train, target_test, indices_train, indices_test = train_test_split(documents,target,indices,test_size=0.2, random_state=0)"
   ]
  },
  {
   "cell_type": "markdown",
   "metadata": {},
   "source": [
    "#### tranform review text into tf-idf by TfidfVectorizer "
   ]
  },
  {
   "cell_type": "code",
   "execution_count": 11,
   "metadata": {},
   "outputs": [],
   "source": [
    "from sklearn.feature_extraction.text import TfidfVectorizer\n",
    "\n",
    "vectorizer = TfidfVectorizer(stop_words='english',max_features=1000,min_df=1)\n",
    "\n",
    "X_train = vectorizer.fit_transform(documents_train).toarray()\n",
    "\n",
    "features_name = vectorizer.get_feature_names()\n",
    "\n",
    "X_test = vectorizer.transform(documents_test).toarray()\n",
    "\n",
    "X_all = vectorizer.transform(documents).toarray()"
   ]
  },
  {
   "cell_type": "markdown",
   "metadata": {},
   "source": [
    "#### Cluster review text with KMeans"
   ]
  },
  {
   "cell_type": "code",
   "execution_count": 12,
   "metadata": {},
   "outputs": [],
   "source": [
    "# choose 5 clusters\n",
    "\n",
    "from sklearn.cluster import KMeans\n",
    "kmeans = KMeans(n_clusters=5,random_state=42)\n",
    "kmeans.fit(X_train)\n",
    "assigned_cluster_train = kmeans.predict(X_train)\n",
    "assigned_cluster_test = kmeans.predict(X_test)"
   ]
  },
  {
   "cell_type": "code",
   "execution_count": 13,
   "metadata": {},
   "outputs": [],
   "source": [
    "assigned_cluster_all = kmeans.predict(X_all)"
   ]
  },
  {
   "cell_type": "code",
   "execution_count": 14,
   "metadata": {},
   "outputs": [
    {
     "name": "stdout",
     "output_type": "stream",
     "text": [
      "top features for each cluster:\n",
      "0: chicken, good, food, fried, place, rice, ordered, salad, great, like\n",
      "1: order, food, time, minutes, service, just, came, asked, got, didn\n",
      "2: good, food, place, best, delicious, service, love, like, amazing, really\n",
      "3: pizza, crust, good, great, place, wings, service, best, cheese, love\n",
      "4: great, food, service, place, good, friendly, love, atmosphere, amazing, staff\n"
     ]
    }
   ],
   "source": [
    "top_centroids = kmeans.cluster_centers_.argsort()[:,-1:-11:-1]\n",
    "print(\"top features for each cluster:\")\n",
    "for num, centroid in enumerate(top_centroids):\n",
    "    print(\"%d: %s\" % (num, \", \".join(features_name[i] for i in centroid)))"
   ]
  },
  {
   "cell_type": "code",
   "execution_count": 12,
   "metadata": {},
   "outputs": [
    {
     "name": "stdout",
     "output_type": "stream",
     "text": [
      "top features for each cluster:\n",
      "0: good, food, place, just, like, time, order, ordered, service, chicken\n",
      "1: great, food, place, service, love, amazing, friendly, good, staff, delicious\n"
     ]
    }
   ],
   "source": [
    "# choose 2 clusters\n",
    "\n",
    "from sklearn.cluster import KMeans\n",
    "kmeans2 = KMeans(n_clusters=2,random_state=42)\n",
    "kmeans2.fit(X_train)\n",
    "assigned_cluster_train2 = kmeans2.predict(X_train)\n",
    "assigned_cluster_test2 = kmeans2.predict(X_test)\n",
    "\n",
    "assigned_cluster_all2 = kmeans2.predict(X_all)\n",
    "\n",
    "top_centroids = kmeans2.cluster_centers_.argsort()[:,-1:-11:-1]\n",
    "print(\"top features for each cluster:\")\n",
    "for num, centroid in enumerate(top_centroids):\n",
    "    print(\"%d: %s\" % (num, \", \".join(features_name[i] for i in centroid)))"
   ]
  },
  {
   "cell_type": "markdown",
   "metadata": {},
   "source": [
    "#### Print out the rating and review of a random sample from each cluster"
   ]
  },
  {
   "cell_type": "code",
   "execution_count": 15,
   "metadata": {
    "scrolled": false
   },
   "outputs": [
    {
     "name": "stdout",
     "output_type": "stream",
     "text": [
      "cluster 0:\n",
      "rating: 5.000000\n",
      "       Highly recommend this hippie coffee house .... The food and coffee is amazing ... Started off with a homemade donut filled with Nutella .... A M A Z I N G!!\n",
      "Then had a grilled cheese sandwich with chicken flavored with chorizo .... With roasted potatoes .... Grilled and seasoned perfectly ..... If you are a red state voter you may not care for the clientele and stickers ...\n",
      "rating: 5.000000\n",
      "       Good Lord!!! Good greasy, grandma tasting, filling, soul food. Seriously good. The items are made daily so it's likely your favorite dish maybe be sold out by time evening comes. \n",
      "\n",
      "My significant other and I had Mrs. Whites Monday night. He was craving something filling and filling, I wanted Mac and cheese. \n",
      "\n",
      "On a Monday there were about 5 couples dining, including us. I ordered smothered chicken with Mac and cheese and green beans win potatoes. It came with 3 huge pieces of chicken. He ordered ox tails, sweet potatoes, and rice and gravy. Both dishes came with cornbread. The ox tails were cooked to perfection, very little fat, very meaty. OMG!!! Delicious!! I've probably had Mrs. Whites only 3 times since I've been in the valley (almost 3 years). It's definitely something you shouldn't be eating all the time, but when you want some go ole fashioned, filling soul food. You better head to Mrs. Whites.\n",
      "rating: 5.000000\n",
      "       Listen, for a quick bite to eat for on the go, this place it great! I've come here a few times because I hate fast food and this place nailed it with being fast yet not fast foodish. I've ordered a bean and cheese burrito, chicken tacos, and quesadillas. The chicken was a tad bland and dry but beats taco bell by far. I'm glad I found it. Fresh and great price.\n",
      "cluster 1:\n",
      "rating: 4.000000\n",
      "       Went there this evening cause a group I'm in was meeting here.    It is a really new place, having just opened within the last couple of weeks.   It was hard to find.   In fact, I walked around the building twice trying to find it, having first drove into the parking lot of the \"gentlemen's club\"  next door.   Maybe it's just me.   When I found it, I did see a sign.\n",
      "\n",
      "I sat at the bar.   Michelle, one of the owners, waited on me.   She is very friendly, and introduced me to the other two owners, who were also working.   \n",
      "\n",
      "I ordered a cab -- no, not a car!  -- and it was a good choice.    I was going to order food, but got to talking to the gentleman I was sitting next to and didn't have a chance.   He ordered something with fries.   He said it was good.   I should have taken a photo of the menus.   \n",
      "\n",
      "I did see they have sweet potato fries, which I LOVE if they're done correctly.   The prices are really reasonable.  The place has plenty of seating space, tables, bar area, etc.   Very open and light.   I don't think they have a full bar, just wine and beer, which is enough.   I could be mistaken, though.\n",
      "\n",
      "I would definitely return and check out their food.\n",
      "rating: 1.000000\n",
      "       Absolutely the WORST customer service! Go anywhere but here. Waited 30 minutes plus!  Watched other people get their wings before us when we had arrived first. For the lady on the floor that night learn some respect! You were the most disrespectful person I've ever seen hold a job dealing with the public maybe you should try something new. If only I could give 0 stars\n",
      "rating: 5.000000\n",
      "       We've been going here for a while because I love the guacamole. This time I just wanted to grab takeout and go home after a long week. After I got home I realized half of my order was missing. I was pretty unhappy but I didn't I want to leave again because it was pouring outside. \n",
      "The owner called and offered to drive our order up right away. \n",
      "That is probably some of the best customer service I've seen in a long time. And just because of that I will definitely be going back to enjoy their food.\n",
      "cluster 2:\n",
      "rating: 4.000000\n",
      "       The service is quick and friendly, exactly what you'd expect from a no-frills breakfast place. Funny thing about US Egg is I'm definitely a fan although I absolutely hate eggs.\n",
      "\n",
      "During my last visit I was served by Erica, she was friendly and pleasant. My meal came out cooked perfectly and it was really good. I had corned beef and hash, with hash browns, bacon and sourdough toast. I rarely finish a big breakfast but I ate every bit of this. You really can't beat a classic restaurant place. No major complaints about this location, it's very lively and clean. \n",
      "\n",
      "One thing I will say is a bummer is not being able to substitute for the eggs on the corned beef and hash meal, it increased my ticket $5 not being able to do that. Other than that it's good.\n",
      "rating: 5.000000\n",
      "       Simple sandwich shop that is perfect. The $3.50 combo sub is the way to go!\n",
      "\n",
      "Service is always quick and friendly.\n",
      "rating: 5.000000\n",
      "       too many bobas. Stopped by with my girlfriend. we liked all the yogurts and the toppings were really cool.\n",
      "cluster 3:\n",
      "rating: 3.000000\n",
      "       My girlfriend really likes this place I'm ok with it because pizza is pizza but it's nothing special. We did order 20 pizzas for a party and it was a cheap option to feed lots of kids and they loved it.\n",
      "rating: 2.000000\n",
      "       Wouldn't recommend to friends.  Decor cool and staff friendly but this is the 2nd time I've eaten here and it takes over 45 minutes to get your pizza. The artichokes were canned and the cheese was low grade.  They brushed some oil on the crust and used canned Parmesan, really? Bottom line you pay premium price for low grade food.\n",
      "rating: 3.000000\n",
      "       Well..the pan pizza turned out a lot better than the regular pizza they serve. The dough is thicker and it just tastes 100 percent better. The price was pretty good as well - only $8.99 for a medium two-topping.\n",
      "cluster 4:\n",
      "rating: 4.000000\n",
      "       Wonderfully done! Pho was amazing, Service was great. The only reason why I did not give the 5th star was because our tea was not hot and the fact that there is no kids menu ended up paying $11.50 for a teriyaki plate for my 9 yr old. The place was very clean, The food is amazing. Most of the prices are reasonable.\n",
      "rating: 5.000000\n",
      "       The absolute best seafood in town. The oysters are fresh and the crab cakes are seriously to die for! They also have an outstanding brunch menu, don't sleep on it! The location is great and the staff is genuine and friendly. Great atmosphere for a special occasion or a friends night out or even a small event. I highly recommend Buck & Rider if you want to eat well and impress your friends, lol!\n",
      "rating: 5.000000\n",
      "       The food was great and the service even better lol.. Katie was the highlight by giving me more information on the food and beverages that would best compliment the meal. Hands down must try I guarantee you will love it 10/10 service 10/10 food absolutely excellent!!!!!!!\n"
     ]
    }
   ],
   "source": [
    "for i in range(kmeans.n_clusters):\n",
    "    cluster = indices[assigned_cluster_all==i]\n",
    "    sample_reviews = np.random.choice(cluster, 3, replace=False)\n",
    "    print(\"cluster %d:\" % i)\n",
    "    for review in sample_reviews:\n",
    "        print(\"rating: %f\" % df.loc[review]['stars'])\n",
    "        print(\"       %s\" % df.loc[review]['text'])"
   ]
  },
  {
   "cell_type": "markdown",
   "metadata": {},
   "source": [
    "#### PCA reduce dimensionality"
   ]
  },
  {
   "cell_type": "code",
   "execution_count": 16,
   "metadata": {},
   "outputs": [],
   "source": [
    "from sklearn.preprocessing import StandardScaler\n",
    "\n",
    "scaler = StandardScaler()\n",
    "\n",
    "X_scaled_train = scaler.fit_transform(X_train)\n",
    "X_scaled_test = scaler.fit_transform(X_test)"
   ]
  },
  {
   "cell_type": "code",
   "execution_count": 17,
   "metadata": {},
   "outputs": [],
   "source": [
    "# PCA transform train and test dataset\n",
    "from sklearn.decomposition import PCA\n",
    "\n",
    "n_col = 50\n",
    "\n",
    "pca = PCA(n_components = n_col)\n",
    "\n",
    "train_components = pca.fit_transform(X_scaled_train)\n",
    "test_components = pca.transform(X_scaled_test)"
   ]
  },
  {
   "cell_type": "code",
   "execution_count": 18,
   "metadata": {},
   "outputs": [
    {
     "name": "stdout",
     "output_type": "stream",
     "text": [
      "(370372, 50)\n",
      "(92593, 50)\n"
     ]
    }
   ],
   "source": [
    "print(train_components.shape)\n",
    "print(test_components.shape)"
   ]
  },
  {
   "cell_type": "code",
   "execution_count": 19,
   "metadata": {},
   "outputs": [
    {
     "name": "stdout",
     "output_type": "stream",
     "text": [
      "(50, 1000)\n"
     ]
    }
   ],
   "source": [
    "print(pca.components_.shape)"
   ]
  },
  {
   "cell_type": "markdown",
   "metadata": {},
   "source": [
    "#### visualize percentage of variance the principal components explain"
   ]
  },
  {
   "cell_type": "code",
   "execution_count": 20,
   "metadata": {},
   "outputs": [
    {
     "name": "stdout",
     "output_type": "stream",
     "text": [
      "(50,)\n",
      "[0.00580321 0.00403528 0.00320956 0.00272446 0.00268695 0.00257096\n",
      " 0.00242632 0.00236801 0.00228042 0.00217698 0.00211921 0.00209025\n",
      " 0.00198988 0.00196692 0.00191002 0.00188302 0.00183782 0.00182325\n",
      " 0.00180191 0.00177712 0.0017437  0.00172747 0.0016967  0.00164593\n",
      " 0.00163346 0.00161987 0.00160746 0.00158986 0.00156805 0.00156665\n",
      " 0.00154086 0.00152642 0.00151952 0.00150559 0.00148266 0.00147766\n",
      " 0.00146742 0.00145837 0.0014456  0.00143103 0.00142686 0.00140653\n",
      " 0.00140005 0.0013805  0.0013719  0.00136875 0.00135182 0.00133726\n",
      " 0.00132183 0.00130716]\n"
     ]
    }
   ],
   "source": [
    "print(pca.explained_variance_ratio_.shape)\n",
    "print(pca.explained_variance_ratio_)"
   ]
  },
  {
   "cell_type": "code",
   "execution_count": 21,
   "metadata": {},
   "outputs": [
    {
     "data": {
      "text/plain": [
       "Text(0,0.5,'Proportion of Variance Explained')"
      ]
     },
     "execution_count": 21,
     "metadata": {},
     "output_type": "execute_result"
    },
    {
     "data": {
      "image/png": "[encoded data removed]",
      "text/plain": [
       "<Figure size 432x288 with 1 Axes>"
      ]
     },
     "metadata": {
      "needs_background": "light"
     },
     "output_type": "display_data"
    }
   ],
   "source": [
    "pca_range = np.arange(20) + 1\n",
    "explained_var_top20 = pca.explained_variance_ratio_[:20]\n",
    "\n",
    "pca_names = ['PCA_%s' % i for i in pca_range]\n",
    "\n",
    "plt.bar(pca_range, explained_var_top20, align='center')\n",
    "\n",
    "xticks = plt.xticks(pca_range, pca_names, rotation=90)\n",
    "\n",
    "plt.ylabel('Proportion of Variance Explained')"
   ]
  },
  {
   "cell_type": "markdown",
   "metadata": {},
   "source": [
    "#### test if PCA affect performance of positive/negative classifier "
   ]
  },
  {
   "cell_type": "code",
   "execution_count": 22,
   "metadata": {},
   "outputs": [],
   "source": [
    "from sklearn.metrics import precision_score,accuracy_score,recall_score,f1_score,roc_auc_score"
   ]
  },
  {
   "cell_type": "code",
   "execution_count": 23,
   "metadata": {},
   "outputs": [],
   "source": [
    "def get_performance_metrics(y_train, y_train_pred, y_test, y_test_pred, threshold=0.5):\n",
    "    metric_names = ['AUC','Accuracy','Precision','Recall','f1-score']\n",
    "    metric_values_train = [roc_auc_score(y_train, y_train_pred),\n",
    "                    accuracy_score(y_train, y_train_pred>threshold),\n",
    "                    precision_score(y_train, y_train_pred>threshold),\n",
    "                    recall_score(y_train, y_train_pred>threshold),\n",
    "                    f1_score(y_train, y_train_pred>threshold)\n",
    "                   ]\n",
    "    metric_values_test = [roc_auc_score(y_test, y_test_pred),\n",
    "                    accuracy_score(y_test, y_test_pred>threshold),\n",
    "                    precision_score(y_test, y_test_pred>threshold),\n",
    "                    recall_score(y_test, y_test_pred>threshold),\n",
    "                    f1_score(y_test, y_test_pred>threshold)\n",
    "                   ]\n",
    "    all_metrics = pd.DataFrame({'metrics':metric_names,\n",
    "                                'train':metric_values_train,\n",
    "                                'test':metric_values_test},columns=['metrics','train','test']).set_index('metrics')\n",
    "    print(all_metrics)"
   ]
  },
  {
   "cell_type": "code",
   "execution_count": 24,
   "metadata": {},
   "outputs": [],
   "source": [
    "from sklearn.metrics import roc_curve, auc\n",
    "\n",
    "def plot_roc_curve(y_train, y_train_pred, y_test, y_test_pred):\n",
    "    roc_auc_train = roc_auc_score(y_train, y_train_pred)\n",
    "    fpr_train, tpr_train, _ = roc_curve(y_train, y_train_pred)\n",
    "\n",
    "    roc_auc_test = roc_auc_score(y_test, y_test_pred)\n",
    "    fpr_test, tpr_test, _ = roc_curve(y_test, y_test_pred)\n",
    "    plt.figure()\n",
    "    lw = 2\n",
    "    plt.plot(fpr_train, tpr_train, color='green',\n",
    "             lw=lw, label='ROC Train (AUC = %0.4f)' % roc_auc_train)\n",
    "    plt.plot(fpr_test, tpr_test, color='darkorange',\n",
    "             lw=lw, label='ROC Test (AUC = %0.4f)' % roc_auc_test)\n",
    "    plt.plot([0, 1], [0, 1], color='navy', lw=lw, linestyle='--')\n",
    "    plt.xlim([0.0, 1.0])\n",
    "    plt.ylim([0.0, 1.05])\n",
    "    plt.xlabel('False Positive Rate')\n",
    "    plt.ylabel('True Positive Rate')\n",
    "    plt.title('Receiver operating characteristic example')\n",
    "    plt.legend(loc=\"lower right\")\n",
    "    plt.show()"
   ]
  },
  {
   "cell_type": "code",
   "execution_count": 25,
   "metadata": {},
   "outputs": [],
   "source": [
    "def train_test_model(clf, X_train, y_train, X_test, y_test):\n",
    "    \n",
    "    clf.fit(X_train, y_train)\n",
    "\n",
    "    y_train_pred = clf.predict(X_train)\n",
    "    p_train_pred = clf.predict_proba(X_train)[:,1]\n",
    "\n",
    "    y_test_pred = clf.predict(X_test)\n",
    "    p_test_pred = clf.predict_proba(X_test)[:,1]\n",
    "\n",
    "    get_performance_metrics(y_train, p_train_pred, y_test, p_test_pred)\n",
    "    plot_roc_curve(y_train, p_train_pred, y_test, p_test_pred)"
   ]
  },
  {
   "cell_type": "markdown",
   "metadata": {},
   "source": [
    "#### Logistic regression classifier"
   ]
  },
  {
   "cell_type": "code",
   "execution_count": 26,
   "metadata": {},
   "outputs": [
    {
     "name": "stdout",
     "output_type": "stream",
     "text": [
      "CPU times: user 2min 25s, sys: 10min 13s, total: 12min 38s\n",
      "Wall time: 17min 7s\n"
     ]
    }
   ],
   "source": [
    "%%time\n",
    "from sklearn.linear_model import LogisticRegression\n",
    "\n",
    "clf_lrc = LogisticRegression()\n",
    "clf_lrc.fit(X_scaled_train, target_train)"
   ]
  },
  {
   "cell_type": "code",
   "execution_count": 27,
   "metadata": {},
   "outputs": [
    {
     "name": "stdout",
     "output_type": "stream",
     "text": [
      "              train      test\n",
      "metrics                      \n",
      "AUC        0.908139  0.908985\n",
      "Accuracy   0.830109  0.829620\n",
      "Precision  0.813094  0.810943\n",
      "Recall     0.844134  0.845198\n",
      "f1-score   0.828324  0.827717\n"
     ]
    },
    {
     "data": {
      "image/png": "[encoded data removed]",
      "text/plain": [
       "<Figure size 432x288 with 1 Axes>"
      ]
     },
     "metadata": {
      "needs_background": "light"
     },
     "output_type": "display_data"
    },
    {
     "name": "stdout",
     "output_type": "stream",
     "text": [
      "CPU times: user 2min 30s, sys: 10min 19s, total: 12min 50s\n",
      "Wall time: 17min 33s\n"
     ]
    }
   ],
   "source": [
    "%%time\n",
    "train_test_model(clf_lrc, X_scaled_train, target_train, X_scaled_test, target_test)"
   ]
  },
  {
   "cell_type": "markdown",
   "metadata": {},
   "source": [
    "#### PCA + Logistic regression classifier"
   ]
  },
  {
   "cell_type": "code",
   "execution_count": 28,
   "metadata": {},
   "outputs": [
    {
     "name": "stdout",
     "output_type": "stream",
     "text": [
      "CPU times: user 3min 19s, sys: 16min 54s, total: 20min 14s\n",
      "Wall time: 38min 29s\n"
     ]
    }
   ],
   "source": [
    "%%time\n",
    "from sklearn.linear_model import LogisticRegression\n",
    "clf_lrc_pca = LogisticRegression()\n",
    "clf_lrc_pca.fit(X_scaled_train, target_train)"
   ]
  },
  {
   "cell_type": "code",
   "execution_count": 29,
   "metadata": {},
   "outputs": [
    {
     "name": "stdout",
     "output_type": "stream",
     "text": [
      "              train      test\n",
      "metrics                      \n",
      "AUC        0.889618  0.892533\n",
      "Accuracy   0.809637  0.813366\n",
      "Precision  0.792867  0.795454\n",
      "Recall     0.822914  0.827334\n",
      "f1-score   0.807611  0.811081\n"
     ]
    },
    {
     "data": {
      "image/png": "[encoded data removed]",
      "text/plain": [
       "<Figure size 432x288 with 1 Axes>"
      ]
     },
     "metadata": {
      "needs_background": "light"
     },
     "output_type": "display_data"
    },
    {
     "name": "stdout",
     "output_type": "stream",
     "text": [
      "CPU times: user 4.66 s, sys: 944 ms, total: 5.6 s\n",
      "Wall time: 4.73 s\n"
     ]
    }
   ],
   "source": [
    "%%time\n",
    "train_test_model(clf_lrc_pca, train_components, target_train, test_components, target_test)"
   ]
  },
  {
   "cell_type": "markdown",
   "metadata": {},
   "source": [
    "####  plot logistic regression coefficients against principal components\n"
   ]
  },
  {
   "cell_type": "code",
   "execution_count": 30,
   "metadata": {},
   "outputs": [
    {
     "data": {
      "text/plain": [
       "array([-0.67719228, -0.26536063,  0.24199084, -0.20752108, -0.15413744,\n",
       "       -0.00421759,  0.49993045,  0.50077585, -0.30435058,  0.11445072,\n",
       "        0.15115873,  0.01490535, -0.15824154,  0.10459768,  0.05031249,\n",
       "        0.08038916, -0.1603892 , -0.1737188 ,  0.03489049,  0.06037193,\n",
       "        0.20743334, -0.12779637,  0.09840969,  0.02168535,  0.12022529,\n",
       "        0.00323019,  0.02250845, -0.06953855, -0.00934263,  0.02933235,\n",
       "       -0.07502245,  0.03190693, -0.05040016,  0.0047986 , -0.06241581,\n",
       "       -0.01854341, -0.00572528,  0.0442797 , -0.09174595, -0.02436941,\n",
       "       -0.03988774,  0.0811435 ,  0.08598168,  0.03538487,  0.00485761,\n",
       "       -0.00620223, -0.04151824, -0.01225572,  0.01154579,  0.02369731])"
      ]
     },
     "execution_count": 30,
     "metadata": {},
     "output_type": "execute_result"
    }
   ],
   "source": [
    "clf_lrc_pca.coef_[0]"
   ]
  },
  {
   "cell_type": "code",
   "execution_count": 31,
   "metadata": {},
   "outputs": [
    {
     "data": {
      "text/plain": [
       "Text(0,0.5,'Coefficients')"
      ]
     },
     "execution_count": 31,
     "metadata": {},
     "output_type": "execute_result"
    },
    {
     "data": {
      "image/png": "[encoded data removed]",
      "text/plain": [
       "<Figure size 432x288 with 1 Axes>"
      ]
     },
     "metadata": {
      "needs_background": "light"
     },
     "output_type": "display_data"
    }
   ],
   "source": [
    "pca_range = np.arange(50) + 1\n",
    "\n",
    "pca_names = ['PCA_%s' % i for i in pca_range]\n",
    "\n",
    "plt.bar(pca_range, clf_lrc_pca.coef_[0], align='center')\n",
    "\n",
    "xticks = plt.xticks(pca_range, pca_names, rotation=90)\n",
    "\n",
    "plt.ylabel('Coefficients')"
   ]
  },
  {
   "cell_type": "markdown",
   "metadata": {},
   "source": [
    "#### random forest classifier"
   ]
  },
  {
   "cell_type": "code",
   "execution_count": 32,
   "metadata": {},
   "outputs": [
    {
     "name": "stderr",
     "output_type": "stream",
     "text": [
      "/usr/local/lib/python3.7/site-packages/sklearn/ensemble/weight_boosting.py:29: DeprecationWarning: numpy.core.umath_tests is an internal NumPy module and should not be imported. It will be removed in a future NumPy release.\n",
      "  from numpy.core.umath_tests import inner1d\n"
     ]
    },
    {
     "name": "stdout",
     "output_type": "stream",
     "text": [
      "CPU times: user 41.8 s, sys: 5.92 s, total: 47.7 s\n",
      "Wall time: 53.3 s\n"
     ]
    }
   ],
   "source": [
    "%%time\n",
    "from sklearn.ensemble import RandomForestClassifier\n",
    "\n",
    "\n",
    "clf_rfc = RandomForestClassifier(max_depth=20, n_estimators=10, min_samples_leaf=100)\n",
    "\n",
    "clf_rfc.fit(X_scaled_train, target_train)"
   ]
  },
  {
   "cell_type": "code",
   "execution_count": 33,
   "metadata": {},
   "outputs": [
    {
     "name": "stdout",
     "output_type": "stream",
     "text": [
      "              train      test\n",
      "metrics                      \n",
      "AUC        0.860609  0.859348\n",
      "Accuracy   0.780855  0.779940\n",
      "Precision  0.771800  0.770191\n",
      "Recall     0.778972  0.777577\n",
      "f1-score   0.775370  0.773866\n"
     ]
    },
    {
     "data": {
      "image/png": "[encoded data removed]",
      "text/plain": [
       "<Figure size 432x288 with 1 Axes>"
      ]
     },
     "metadata": {
      "needs_background": "light"
     },
     "output_type": "display_data"
    },
    {
     "name": "stdout",
     "output_type": "stream",
     "text": [
      "CPU times: user 46.3 s, sys: 4.33 s, total: 50.6 s\n",
      "Wall time: 52 s\n"
     ]
    }
   ],
   "source": [
    "%%time\n",
    "train_test_model(clf_rfc, X_scaled_train, target_train, X_scaled_test, target_test)"
   ]
  },
  {
   "cell_type": "markdown",
   "metadata": {},
   "source": [
    "#### PCA + Random forest classifier"
   ]
  },
  {
   "cell_type": "code",
   "execution_count": 34,
   "metadata": {},
   "outputs": [
    {
     "name": "stdout",
     "output_type": "stream",
     "text": [
      "CPU times: user 25.4 s, sys: 300 ms, total: 25.7 s\n",
      "Wall time: 25.9 s\n"
     ]
    }
   ],
   "source": [
    "%%time\n",
    "from sklearn.ensemble import RandomForestClassifier\n",
    "\n",
    "clf_rfc_pca = RandomForestClassifier(max_depth=20, n_estimators=10, min_samples_leaf=100)\n",
    "\n",
    "clf_rfc_pca.fit(train_components, target_train)"
   ]
  },
  {
   "cell_type": "code",
   "execution_count": 35,
   "metadata": {},
   "outputs": [
    {
     "name": "stdout",
     "output_type": "stream",
     "text": [
      "              train      test\n",
      "metrics                      \n",
      "AUC        0.890883  0.872665\n",
      "Accuracy   0.807067  0.790384\n",
      "Precision  0.790503  0.772312\n",
      "Recall     0.819933  0.804229\n",
      "f1-score   0.804949  0.787947\n"
     ]
    },
    {
     "data": {
      "image/png": "[encoded data removed]",
      "text/plain": [
       "<Figure size 432x288 with 1 Axes>"
      ]
     },
     "metadata": {
      "needs_background": "light"
     },
     "output_type": "display_data"
    },
    {
     "name": "stdout",
     "output_type": "stream",
     "text": [
      "CPU times: user 29.3 s, sys: 625 ms, total: 29.9 s\n",
      "Wall time: 30 s\n"
     ]
    }
   ],
   "source": [
    "%%time\n",
    "train_test_model(clf_rfc_pca, train_components, target_train, test_components, target_test)"
   ]
  },
  {
   "cell_type": "markdown",
   "metadata": {},
   "source": [
    "#### plot RF feature importances against principal components\n"
   ]
  },
  {
   "cell_type": "code",
   "execution_count": 36,
   "metadata": {},
   "outputs": [
    {
     "data": {
      "text/plain": [
       "array([0.38449677, 0.06326542, 0.05611305, 0.04915699, 0.02558869,\n",
       "       0.0079779 , 0.09434483, 0.09121528, 0.04752125, 0.00970022,\n",
       "       0.01045324, 0.00517542, 0.01093878, 0.00418865, 0.00539091,\n",
       "       0.01682514, 0.01027739, 0.01142697, 0.00266425, 0.00349277,\n",
       "       0.00859314, 0.00619366, 0.0028019 , 0.00333958, 0.00508532,\n",
       "       0.00342012, 0.00306482, 0.00387848, 0.00327411, 0.00290979,\n",
       "       0.00288543, 0.00422061, 0.00335944, 0.00248681, 0.00268514,\n",
       "       0.00168681, 0.00120698, 0.00186319, 0.00391034, 0.0024195 ,\n",
       "       0.0017374 , 0.00317927, 0.00247237, 0.00172927, 0.00130334,\n",
       "       0.00263751, 0.0020514 , 0.001356  , 0.00138138, 0.00265299])"
      ]
     },
     "execution_count": 36,
     "metadata": {},
     "output_type": "execute_result"
    }
   ],
   "source": [
    "clf_rfc_pca.feature_importances_"
   ]
  },
  {
   "cell_type": "code",
   "execution_count": 37,
   "metadata": {},
   "outputs": [
    {
     "data": {
      "text/plain": [
       "Text(0,0.5,'feature importance')"
      ]
     },
     "execution_count": 37,
     "metadata": {},
     "output_type": "execute_result"
    },
    {
     "data": {
      "image/png": "[encoded data removed]",
      "text/plain": [
       "<Figure size 432x288 with 1 Axes>"
      ]
     },
     "metadata": {
      "needs_background": "light"
     },
     "output_type": "display_data"
    }
   ],
   "source": [
    "pca_range = np.arange(50) + 1\n",
    "\n",
    "pca_names = ['PCA_%s' % i for i in pca_range]\n",
    "\n",
    "plt.bar(pca_range, clf_rfc_pca.feature_importances_, align='center')\n",
    "\n",
    "xticks = plt.xticks(pca_range, pca_names, rotation=90)\n",
    "\n",
    "plt.ylabel('feature importance')"
   ]
  },
  {
   "cell_type": "code",
   "execution_count": null,
   "metadata": {},
   "outputs": [],
   "source": []
  }
 ],
 "metadata": {
  "anaconda-cloud": {},
  "kernelspec": {
   "display_name": "Python 3",
   "language": "python",
   "name": "python3"
  },
  "language_info": {
   "codemirror_mode": {
    "name": "ipython",
    "version": 3
   },
   "file_extension": ".py",
   "mimetype": "text/x-python",
   "name": "python",
   "nbconvert_exporter": "python",
   "pygments_lexer": "ipython3",
   "version": "3.7.1"
  }
 },
 "nbformat": 4,
 "nbformat_minor": 1
}
