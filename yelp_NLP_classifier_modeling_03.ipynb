{
 "cells": [
  {
   "cell_type": "code",
   "execution_count": 7,
   "metadata": {},
   "outputs": [],
   "source": [
    "import pandas as pd\n",
    "import numpy as np\n",
    "import matplotlib.pyplot as plt\n",
    "%matplotlib inline"
   ]
  },
  {
   "cell_type": "code",
   "execution_count": 2,
   "metadata": {},
   "outputs": [],
   "source": [
    "df = pd.read_csv('/Users/fanyang/Documents/yelp_project/12_24/last_2_years_restaurant_reviews_AZ.csv')"
   ]
  },
  {
   "cell_type": "code",
   "execution_count": 3,
   "metadata": {},
   "outputs": [
    {
     "data": {
      "text/html": [
       "<div>\n",
       "<style scoped>\n",
       "    .dataframe tbody tr th:only-of-type {\n",
       "        vertical-align: middle;\n",
       "    }\n",
       "\n",
       "    .dataframe tbody tr th {\n",
       "        vertical-align: top;\n",
       "    }\n",
       "\n",
       "    .dataframe thead th {\n",
       "        text-align: right;\n",
       "    }\n",
       "</style>\n",
       "<table border=\"1\" class=\"dataframe\">\n",
       "  <thead>\n",
       "    <tr style=\"text-align: right;\">\n",
       "      <th></th>\n",
       "      <th>business_id</th>\n",
       "      <th>Unnamed: 0</th>\n",
       "      <th>name</th>\n",
       "      <th>categories</th>\n",
       "      <th>starts_business</th>\n",
       "      <th>cool</th>\n",
       "      <th>date</th>\n",
       "      <th>funny</th>\n",
       "      <th>review_id</th>\n",
       "      <th>stars</th>\n",
       "      <th>text</th>\n",
       "      <th>useful</th>\n",
       "      <th>user_id</th>\n",
       "    </tr>\n",
       "  </thead>\n",
       "  <tbody>\n",
       "    <tr>\n",
       "      <th>0</th>\n",
       "      <td>-01XupAWZEXbdNbxNg5mEg</td>\n",
       "      <td>8836</td>\n",
       "      <td>18 Degrees Neighborhood Grill</td>\n",
       "      <td>Nightlife, Bars, Restaurants, American (Tradit...</td>\n",
       "      <td>3.0</td>\n",
       "      <td>0</td>\n",
       "      <td>2017-06-26</td>\n",
       "      <td>0</td>\n",
       "      <td>VpdB20xoSH514ks0MkNqGQ</td>\n",
       "      <td>1</td>\n",
       "      <td>False advertisement! Website says open until 1...</td>\n",
       "      <td>0</td>\n",
       "      <td>GbYhdXKQGYGp6D2_S3Oyfw</td>\n",
       "    </tr>\n",
       "    <tr>\n",
       "      <th>1</th>\n",
       "      <td>-01XupAWZEXbdNbxNg5mEg</td>\n",
       "      <td>8836</td>\n",
       "      <td>18 Degrees Neighborhood Grill</td>\n",
       "      <td>Nightlife, Bars, Restaurants, American (Tradit...</td>\n",
       "      <td>3.0</td>\n",
       "      <td>1</td>\n",
       "      <td>2017-01-29</td>\n",
       "      <td>0</td>\n",
       "      <td>Xvdqblf2f7nx2h4B2UuD-g</td>\n",
       "      <td>2</td>\n",
       "      <td>Came in so my kiddo could skate and I could ju...</td>\n",
       "      <td>0</td>\n",
       "      <td>CU_RU1o3sKSwymRotn3DUg</td>\n",
       "    </tr>\n",
       "    <tr>\n",
       "      <th>2</th>\n",
       "      <td>-01XupAWZEXbdNbxNg5mEg</td>\n",
       "      <td>8836</td>\n",
       "      <td>18 Degrees Neighborhood Grill</td>\n",
       "      <td>Nightlife, Bars, Restaurants, American (Tradit...</td>\n",
       "      <td>3.0</td>\n",
       "      <td>0</td>\n",
       "      <td>2016-09-03</td>\n",
       "      <td>1</td>\n",
       "      <td>Z7ufB8dFZ_9VjkcntOEsig</td>\n",
       "      <td>1</td>\n",
       "      <td>Horrible!  Had the happy hour nachos.  The che...</td>\n",
       "      <td>2</td>\n",
       "      <td>-XoCb6sUMa7NoFayUW0FlA</td>\n",
       "    </tr>\n",
       "  </tbody>\n",
       "</table>\n",
       "</div>"
      ],
      "text/plain": [
       "              business_id  Unnamed: 0                           name  \\\n",
       "0  -01XupAWZEXbdNbxNg5mEg        8836  18 Degrees Neighborhood Grill   \n",
       "1  -01XupAWZEXbdNbxNg5mEg        8836  18 Degrees Neighborhood Grill   \n",
       "2  -01XupAWZEXbdNbxNg5mEg        8836  18 Degrees Neighborhood Grill   \n",
       "\n",
       "                                          categories  starts_business  cool  \\\n",
       "0  Nightlife, Bars, Restaurants, American (Tradit...              3.0     0   \n",
       "1  Nightlife, Bars, Restaurants, American (Tradit...              3.0     1   \n",
       "2  Nightlife, Bars, Restaurants, American (Tradit...              3.0     0   \n",
       "\n",
       "         date  funny               review_id  stars  \\\n",
       "0  2017-06-26      0  VpdB20xoSH514ks0MkNqGQ      1   \n",
       "1  2017-01-29      0  Xvdqblf2f7nx2h4B2UuD-g      2   \n",
       "2  2016-09-03      1  Z7ufB8dFZ_9VjkcntOEsig      1   \n",
       "\n",
       "                                                text  useful  \\\n",
       "0  False advertisement! Website says open until 1...       0   \n",
       "1  Came in so my kiddo could skate and I could ju...       0   \n",
       "2  Horrible!  Had the happy hour nachos.  The che...       2   \n",
       "\n",
       "                  user_id  \n",
       "0  GbYhdXKQGYGp6D2_S3Oyfw  \n",
       "1  CU_RU1o3sKSwymRotn3DUg  \n",
       "2  -XoCb6sUMa7NoFayUW0FlA  "
      ]
     },
     "execution_count": 3,
     "metadata": {},
     "output_type": "execute_result"
    }
   ],
   "source": [
    "df.head(3)"
   ]
  },
  {
   "cell_type": "code",
   "execution_count": 4,
   "metadata": {},
   "outputs": [
    {
     "data": {
      "text/plain": [
       "(462965, 13)"
      ]
     },
     "execution_count": 4,
     "metadata": {},
     "output_type": "execute_result"
    }
   ],
   "source": [
    "df.shape"
   ]
  },
  {
   "cell_type": "code",
   "execution_count": 5,
   "metadata": {},
   "outputs": [
    {
     "name": "stdout",
     "output_type": "stream",
     "text": [
      "<class 'pandas.core.frame.DataFrame'>\n",
      "RangeIndex: 462965 entries, 0 to 462964\n",
      "Data columns (total 13 columns):\n",
      "business_id        462965 non-null object\n",
      "Unnamed: 0         462965 non-null int64\n",
      "name               462965 non-null object\n",
      "categories         462965 non-null object\n",
      "starts_business    462965 non-null float64\n",
      "cool               462965 non-null int64\n",
      "date               462965 non-null object\n",
      "funny              462965 non-null int64\n",
      "review_id          462965 non-null object\n",
      "stars              462965 non-null int64\n",
      "text               462965 non-null object\n",
      "useful             462965 non-null int64\n",
      "user_id            462965 non-null object\n",
      "dtypes: float64(1), int64(5), object(7)\n",
      "memory usage: 45.9+ MB\n"
     ]
    }
   ],
   "source": [
    "df.info()"
   ]
  },
  {
   "cell_type": "markdown",
   "metadata": {},
   "source": [
    "#### prepare review 'text' for NLP extraction"
   ]
  },
  {
   "cell_type": "code",
   "execution_count": 15,
   "metadata": {},
   "outputs": [],
   "source": [
    "documents = df['text']"
   ]
  },
  {
   "cell_type": "code",
   "execution_count": 16,
   "metadata": {},
   "outputs": [],
   "source": [
    "# get non Null index\n",
    "indx = pd.notnull(documents)"
   ]
  },
  {
   "cell_type": "code",
   "execution_count": 17,
   "metadata": {},
   "outputs": [
    {
     "data": {
      "text/plain": [
       "pandas.core.series.Series"
      ]
     },
     "execution_count": 17,
     "metadata": {},
     "output_type": "execute_result"
    }
   ],
   "source": [
    "type(indx)"
   ]
  },
  {
   "cell_type": "code",
   "execution_count": 18,
   "metadata": {},
   "outputs": [
    {
     "data": {
      "text/plain": [
       "0    True\n",
       "1    True\n",
       "2    True\n",
       "3    True\n",
       "4    True\n",
       "5    True\n",
       "6    True\n",
       "7    True\n",
       "8    True\n",
       "9    True\n",
       "Name: text, dtype: bool"
      ]
     },
     "execution_count": 18,
     "metadata": {},
     "output_type": "execute_result"
    }
   ],
   "source": [
    "indx[:10]"
   ]
  },
  {
   "cell_type": "code",
   "execution_count": 19,
   "metadata": {},
   "outputs": [],
   "source": [
    "# select review that is not null\n",
    "documents = documents[indx].values"
   ]
  },
  {
   "cell_type": "code",
   "execution_count": 20,
   "metadata": {},
   "outputs": [
    {
     "data": {
      "text/plain": [
       "array(['False advertisement! Website says open until 11pm and the truth is...they are only open until the ice is open.',\n",
       "       \"Came in so my kiddo could skate and I could just watch front the comfort of the bar.  Service was non existent.  The waitresses walked past me about 10 times.... never even making eye contact.  I had to go to the bar to get a drink twice.  The bartender was speedy and friendly!  It's annoying and frustrating to be ignored.  Tips are earned.\",\n",
       "       'Horrible!  Had the happy hour nachos.  The cheese tasted like old plastic and smelled like vomit!  Absolutely disgusting!    I would never eat here again!',\n",
       "       'Been here a few times and most times decent to good service.\\n\\nLast time I was there I had the best burger I have had in a long time. Great flavor!\\n\\nGood bar atmosphere and really nice to walk hockey or LaCrosse at the same time.',\n",
       "       \"This place sucks. The waitress is really rude and wont give you water unless you eat food. My friend and i went there after a public skate and he ordered a burger and the waitress charged us $21. The waitress seemed like she didn't want to be there and i went there yesterday and she was 10 feet away from me and was mad because i asked for a menu so i just got up and left also she wouldn't give me a water when i asked for one which seems very rude. I have been to 18 degrees many times and the food is decent but this waitress is rude.\"],\n",
       "      dtype=object)"
      ]
     },
     "execution_count": 20,
     "metadata": {},
     "output_type": "execute_result"
    }
   ],
   "source": [
    "documents[:5]"
   ]
  },
  {
   "cell_type": "code",
   "execution_count": 21,
   "metadata": {},
   "outputs": [
    {
     "data": {
      "text/plain": [
       "numpy.ndarray"
      ]
     },
     "execution_count": 21,
     "metadata": {},
     "output_type": "execute_result"
    }
   ],
   "source": [
    "type(documents)"
   ]
  },
  {
   "cell_type": "markdown",
   "metadata": {},
   "source": [
    "#### define labels for classification"
   ]
  },
  {
   "cell_type": "code",
   "execution_count": 24,
   "metadata": {},
   "outputs": [
    {
     "data": {
      "text/html": [
       "<div>\n",
       "<style scoped>\n",
       "    .dataframe tbody tr th:only-of-type {\n",
       "        vertical-align: middle;\n",
       "    }\n",
       "\n",
       "    .dataframe tbody tr th {\n",
       "        vertical-align: top;\n",
       "    }\n",
       "\n",
       "    .dataframe thead th {\n",
       "        text-align: right;\n",
       "    }\n",
       "</style>\n",
       "<table border=\"1\" class=\"dataframe\">\n",
       "  <thead>\n",
       "    <tr style=\"text-align: right;\">\n",
       "      <th></th>\n",
       "      <th>starts_business</th>\n",
       "      <th>stars</th>\n",
       "      <th>cool</th>\n",
       "      <th>funny</th>\n",
       "      <th>useful</th>\n",
       "    </tr>\n",
       "  </thead>\n",
       "  <tbody>\n",
       "    <tr>\n",
       "      <th>count</th>\n",
       "      <td>462965.000000</td>\n",
       "      <td>462965.000000</td>\n",
       "      <td>462965.000000</td>\n",
       "      <td>462965.000000</td>\n",
       "      <td>462965.000000</td>\n",
       "    </tr>\n",
       "    <tr>\n",
       "      <th>mean</th>\n",
       "      <td>3.809574</td>\n",
       "      <td>3.787755</td>\n",
       "      <td>0.471999</td>\n",
       "      <td>0.326504</td>\n",
       "      <td>0.825976</td>\n",
       "    </tr>\n",
       "    <tr>\n",
       "      <th>std</th>\n",
       "      <td>0.625396</td>\n",
       "      <td>1.472953</td>\n",
       "      <td>2.857376</td>\n",
       "      <td>2.914266</td>\n",
       "      <td>3.478056</td>\n",
       "    </tr>\n",
       "    <tr>\n",
       "      <th>min</th>\n",
       "      <td>1.000000</td>\n",
       "      <td>1.000000</td>\n",
       "      <td>-1.000000</td>\n",
       "      <td>0.000000</td>\n",
       "      <td>-1.000000</td>\n",
       "    </tr>\n",
       "    <tr>\n",
       "      <th>25%</th>\n",
       "      <td>3.500000</td>\n",
       "      <td>3.000000</td>\n",
       "      <td>0.000000</td>\n",
       "      <td>0.000000</td>\n",
       "      <td>0.000000</td>\n",
       "    </tr>\n",
       "    <tr>\n",
       "      <th>50%</th>\n",
       "      <td>4.000000</td>\n",
       "      <td>4.000000</td>\n",
       "      <td>0.000000</td>\n",
       "      <td>0.000000</td>\n",
       "      <td>0.000000</td>\n",
       "    </tr>\n",
       "    <tr>\n",
       "      <th>75%</th>\n",
       "      <td>4.000000</td>\n",
       "      <td>5.000000</td>\n",
       "      <td>0.000000</td>\n",
       "      <td>0.000000</td>\n",
       "      <td>1.000000</td>\n",
       "    </tr>\n",
       "    <tr>\n",
       "      <th>max</th>\n",
       "      <td>5.000000</td>\n",
       "      <td>5.000000</td>\n",
       "      <td>220.000000</td>\n",
       "      <td>991.000000</td>\n",
       "      <td>822.000000</td>\n",
       "    </tr>\n",
       "  </tbody>\n",
       "</table>\n",
       "</div>"
      ],
      "text/plain": [
       "       starts_business          stars           cool          funny  \\\n",
       "count    462965.000000  462965.000000  462965.000000  462965.000000   \n",
       "mean          3.809574       3.787755       0.471999       0.326504   \n",
       "std           0.625396       1.472953       2.857376       2.914266   \n",
       "min           1.000000       1.000000      -1.000000       0.000000   \n",
       "25%           3.500000       3.000000       0.000000       0.000000   \n",
       "50%           4.000000       4.000000       0.000000       0.000000   \n",
       "75%           4.000000       5.000000       0.000000       0.000000   \n",
       "max           5.000000       5.000000     220.000000     991.000000   \n",
       "\n",
       "              useful  \n",
       "count  462965.000000  \n",
       "mean        0.825976  \n",
       "std         3.478056  \n",
       "min        -1.000000  \n",
       "25%         0.000000  \n",
       "50%         0.000000  \n",
       "75%         1.000000  \n",
       "max       822.000000  "
      ]
     },
     "execution_count": 24,
     "metadata": {},
     "output_type": "execute_result"
    }
   ],
   "source": [
    "var_list = [u'starts_business',u'stars',u'cool',u'funny',u'useful']\n",
    "df[var_list].describe()"
   ]
  },
  {
   "cell_type": "markdown",
   "metadata": {},
   "source": [
    "##### both 'starts_business' and 'stars' have similar mean and similar distribution\n",
    "#### take review is positive when stars given by reviewer above 4.0"
   ]
  },
  {
   "cell_type": "code",
   "execution_count": 25,
   "metadata": {},
   "outputs": [],
   "source": [
    "df['positive_review'] = (df['stars']>4)"
   ]
  },
  {
   "cell_type": "code",
   "execution_count": 26,
   "metadata": {},
   "outputs": [
    {
     "data": {
      "text/plain": [
       "False    238299\n",
       "True     224666\n",
       "Name: positive_review, dtype: int64"
      ]
     },
     "execution_count": 26,
     "metadata": {},
     "output_type": "execute_result"
    }
   ],
   "source": [
    "df['positive_review'].value_counts()"
   ]
  },
  {
   "cell_type": "code",
   "execution_count": 27,
   "metadata": {},
   "outputs": [
    {
     "data": {
      "text/plain": [
       "False    0.514724\n",
       "True     0.485276\n",
       "Name: positive_review, dtype: float64"
      ]
     },
     "execution_count": 27,
     "metadata": {},
     "output_type": "execute_result"
    }
   ],
   "source": [
    "# look the distribution\n",
    "df['positive_review'].value_counts(normalize=True)"
   ]
  },
  {
   "cell_type": "code",
   "execution_count": 28,
   "metadata": {},
   "outputs": [
    {
     "data": {
      "text/plain": [
       "0    False\n",
       "1    False\n",
       "2    False\n",
       "3    False\n",
       "4    False\n",
       "Name: positive_review, dtype: bool"
      ]
     },
     "execution_count": 28,
     "metadata": {},
     "output_type": "execute_result"
    }
   ],
   "source": [
    "df['positive_review'][:5]"
   ]
  },
  {
   "cell_type": "code",
   "execution_count": 30,
   "metadata": {},
   "outputs": [],
   "source": [
    "target = df['positive_review'].values"
   ]
  },
  {
   "cell_type": "code",
   "execution_count": 31,
   "metadata": {},
   "outputs": [
    {
     "data": {
      "text/plain": [
       "array([False, False, False, False, False])"
      ]
     },
     "execution_count": 31,
     "metadata": {},
     "output_type": "execute_result"
    }
   ],
   "source": [
    "target[:5]"
   ]
  },
  {
   "cell_type": "code",
   "execution_count": 32,
   "metadata": {},
   "outputs": [],
   "source": [
    "# only select 'stars' that have review\n",
    "\n",
    "target = target[indx]"
   ]
  },
  {
   "cell_type": "code",
   "execution_count": 33,
   "metadata": {},
   "outputs": [
    {
     "data": {
      "text/plain": [
       "array([False, False, False, False, False])"
      ]
     },
     "execution_count": 33,
     "metadata": {},
     "output_type": "execute_result"
    }
   ],
   "source": [
    "target[:5]"
   ]
  },
  {
   "cell_type": "code",
   "execution_count": 36,
   "metadata": {},
   "outputs": [
    {
     "data": {
      "text/plain": [
       "4.016796043905175"
      ]
     },
     "execution_count": 36,
     "metadata": {},
     "output_type": "execute_result"
    }
   ],
   "source": [
    "df[df['positive_review']==True]['starts_business'].mean()"
   ]
  },
  {
   "cell_type": "code",
   "execution_count": 37,
   "metadata": {},
   "outputs": [
    {
     "data": {
      "text/plain": [
       "(462965, 462965)"
      ]
     },
     "execution_count": 37,
     "metadata": {},
     "output_type": "execute_result"
    }
   ],
   "source": [
    "# review and target label should have the same size\n",
    "documents.size,target.size"
   ]
  },
  {
   "cell_type": "markdown",
   "metadata": {},
   "source": [
    "#### review text vectorization"
   ]
  },
  {
   "cell_type": "code",
   "execution_count": 38,
   "metadata": {},
   "outputs": [
    {
     "name": "stderr",
     "output_type": "stream",
     "text": [
      "/usr/local/lib/python3.7/site-packages/sklearn/cross_validation.py:41: DeprecationWarning: This module was deprecated in version 0.18 in favor of the model_selection module into which all the refactored classes and functions are moved. Also note that the interface of the new CV iterators are different from that of this module. This module will be removed in 0.20.\n",
      "  \"This module will be removed in 0.20.\", DeprecationWarning)\n"
     ]
    }
   ],
   "source": [
    "# split train and test dataset\n",
    "from sklearn.cross_validation import train_test_split\n",
    "\n",
    "documents_train,documents_test,target_train,target_test = train_test_split(documents,target,test_size=0.3, random_state=0)"
   ]
  },
  {
   "cell_type": "code",
   "execution_count": 39,
   "metadata": {},
   "outputs": [],
   "source": [
    "# single gram\n",
    "from sklearn.feature_extraction.text import TfidfVectorizer\n",
    "\n",
    "vectorizer = TfidfVectorizer(stop_words='english',max_features=5000,min_df=1)"
   ]
  },
  {
   "cell_type": "code",
   "execution_count": 40,
   "metadata": {},
   "outputs": [],
   "source": [
    "# model training\n",
    "x_train = vectorizer.fit_transform(documents_train).toarray()"
   ]
  },
  {
   "cell_type": "code",
   "execution_count": 41,
   "metadata": {},
   "outputs": [],
   "source": [
    "# get tfidf\n",
    "features_name = vectorizer.get_feature_names()"
   ]
  },
  {
   "cell_type": "code",
   "execution_count": 42,
   "metadata": {},
   "outputs": [],
   "source": [
    "# let model to transform test dataset\n",
    "x_test = vectorizer.transform(documents_test).toarray()"
   ]
  },
  {
   "cell_type": "code",
   "execution_count": 43,
   "metadata": {},
   "outputs": [],
   "source": [
    "# bigram\n",
    "\n",
    "vectorizer2 = TfidfVectorizer(stop_words='english',max_features=5000,min_df=1,ngram_range=(1, 2))\n",
    "x_train2 = vectorizer2.fit_transform(documents_train).toarray()\n",
    "features_name2 = vectorizer2.get_feature_names()\n",
    "x_test2 = vectorizer2.transform(documents_test).toarray()"
   ]
  },
  {
   "cell_type": "markdown",
   "metadata": {},
   "source": [
    "#### search for similar review text"
   ]
  },
  {
   "cell_type": "code",
   "execution_count": 45,
   "metadata": {},
   "outputs": [],
   "source": [
    "# generate function that return top and bottom values\n",
    "import numpy as np\n",
    "\n",
    "def get_top_values(lst, n, labels):\n",
    "\n",
    "    return [labels[i] for i in np.argsort(lst)[::-1][:n]]  \n",
    "\n",
    "def get_bottom_values(lst, n, labels):\n",
    "\n",
    "    return [labels[i] for i in np.argsort(lst)[:n]]"
   ]
  },
  {
   "cell_type": "code",
   "execution_count": 46,
   "metadata": {},
   "outputs": [],
   "source": [
    "from sklearn.metrics.pairwise import cosine_similarity"
   ]
  },
  {
   "cell_type": "code",
   "execution_count": 47,
   "metadata": {},
   "outputs": [
    {
     "data": {
      "text/plain": [
       "['Went here for my 50th birthday and had a very enjoyable night.  I had the Smoked Prime Rib w/Mac and Cheese and Potato Salad.  It had a wonderful flavor and was tender as well.  Perfectly cooked.\\n\\nThe place was just starting to get busy, but it in no way took away from the great service I had.  The place has a fully stocked bar, so I had to have a spicy Bloody Mary.  \\n\\nI started with the Cajun Shrimp appetizer and the flavor was spot on.  The shrimp were juicy and delicious and it comes with like garlic bread sticks to sop up the wonderful juices in the bowl.  \\n\\nTo top the night off, I was presented with a Brownie Sundae with candle for my birthday!  (Totally unexpected and delicious)  \\n\\nOnly regret was not going back and getting some BBQ to take home with me.']"
      ]
     },
     "execution_count": 47,
     "metadata": {},
     "output_type": "execute_result"
    }
   ],
   "source": [
    "# Draw an arbitrary review from test (unseen in training) documents\n",
    "sample_review = [documents_test[10]]\n",
    "sample_review"
   ]
  },
  {
   "cell_type": "code",
   "execution_count": 48,
   "metadata": {},
   "outputs": [],
   "source": [
    "# Transform the drawn review(s) to vector(s)\n",
    "vector_review = vectorizer.transform(sample_review).toarray()"
   ]
  },
  {
   "cell_type": "code",
   "execution_count": 49,
   "metadata": {},
   "outputs": [],
   "source": [
    "vector_review2 = vectorizer2.transform(sample_review).toarray()"
   ]
  },
  {
   "cell_type": "code",
   "execution_count": 50,
   "metadata": {},
   "outputs": [],
   "source": [
    "# Calculate the similarity score between vector and training vectors\n",
    "similarity_scores = cosine_similarity(vector_review, x_test[:100])"
   ]
  },
  {
   "cell_type": "code",
   "execution_count": 51,
   "metadata": {},
   "outputs": [],
   "source": [
    "similarity_scores2 = cosine_similarity(vector_review2,x_test2[:100])"
   ]
  },
  {
   "cell_type": "code",
   "execution_count": 52,
   "metadata": {},
   "outputs": [
    {
     "data": {
      "text/plain": [
       "array([0.        , 0.01972214, 0.09092194, 0.03215549, 0.02235551,\n",
       "       0.03632777, 0.01314705, 0.03735454, 0.02695115, 0.04589935,\n",
       "       1.        , 0.03003093, 0.00420568, 0.08652298, 0.        ,\n",
       "       0.03426224, 0.02927336, 0.01967489, 0.01573825, 0.10148243,\n",
       "       0.        , 0.05469829, 0.01941662, 0.03149428, 0.04907891,\n",
       "       0.02049893, 0.02166269, 0.0628093 , 0.03364375, 0.07429393,\n",
       "       0.01502597, 0.04771861, 0.        , 0.01862386, 0.0599105 ,\n",
       "       0.02348196, 0.01292796, 0.01120118, 0.05995684, 0.00692731,\n",
       "       0.03460658, 0.02043189, 0.01052673, 0.        , 0.051248  ,\n",
       "       0.04363844, 0.01015876, 0.01165514, 0.03039155, 0.01018661,\n",
       "       0.05887872, 0.10859224, 0.02296391, 0.00776329, 0.00784552,\n",
       "       0.05847493, 0.01581053, 0.03195255, 0.02211209, 0.05098562,\n",
       "       0.02734876, 0.07314433, 0.03190248, 0.04927461, 0.08788393,\n",
       "       0.06704977, 0.06583373, 0.05030685, 0.02353605, 0.0108093 ,\n",
       "       0.01625968, 0.06871412, 0.        , 0.00994552, 0.031902  ,\n",
       "       0.02299072, 0.03596317, 0.02913013, 0.06110022, 0.10291071,\n",
       "       0.01447669, 0.01468165, 0.088817  , 0.03827634, 0.00597302,\n",
       "       0.02228244, 0.00486554, 0.04118403, 0.02256865, 0.03981851,\n",
       "       0.05086566, 0.03030103, 0.        , 0.        , 0.01968005,\n",
       "       0.01914543, 0.08289724, 0.04329626, 0.02492964, 0.00620474])"
      ]
     },
     "execution_count": 52,
     "metadata": {},
     "output_type": "execute_result"
    }
   ],
   "source": [
    "similarity_scores[0]"
   ]
  },
  {
   "cell_type": "code",
   "execution_count": 53,
   "metadata": {},
   "outputs": [],
   "source": [
    "# identify top 5 similar review\n",
    "n = 5\n",
    "top_similar_review = get_top_values(similarity_scores[0], n, documents_test[:100])"
   ]
  },
  {
   "cell_type": "code",
   "execution_count": 54,
   "metadata": {},
   "outputs": [],
   "source": [
    "n = 5\n",
    "top_similar_review2 = get_top_values(similarity_scores2[0],n,documents_test[:100])"
   ]
  },
  {
   "cell_type": "code",
   "execution_count": 55,
   "metadata": {},
   "outputs": [
    {
     "name": "stdout",
     "output_type": "stream",
     "text": [
      "Our search query:\n",
      "['Went here for my 50th birthday and had a very enjoyable night.  I had the Smoked Prime Rib w/Mac and Cheese and Potato Salad.  It had a wonderful flavor and was tender as well.  Perfectly cooked.\\n\\nThe place was just starting to get busy, but it in no way took away from the great service I had.  The place has a fully stocked bar, so I had to have a spicy Bloody Mary.  \\n\\nI started with the Cajun Shrimp appetizer and the flavor was spot on.  The shrimp were juicy and delicious and it comes with like garlic bread sticks to sop up the wonderful juices in the bowl.  \\n\\nTo top the night off, I was presented with a Brownie Sundae with candle for my birthday!  (Totally unexpected and delicious)  \\n\\nOnly regret was not going back and getting some BBQ to take home with me.']\n"
     ]
    }
   ],
   "source": [
    "print('Our search query:')\n",
    "print(sample_review) "
   ]
  },
  {
   "cell_type": "code",
   "execution_count": 56,
   "metadata": {},
   "outputs": [
    {
     "name": "stdout",
     "output_type": "stream",
     "text": [
      "Most 5 similar reviews:\n",
      "top 0 review:\n",
      "Went here for my 50th birthday and had a very enjoyable night.  I had the Smoked Prime Rib w/Mac and Cheese and Potato Salad.  It had a wonderful flavor and was tender as well.  Perfectly cooked.\n",
      "\n",
      "The place was just starting to get busy, but it in no way took away from the great service I had.  The place has a fully stocked bar, so I had to have a spicy Bloody Mary.  \n",
      "\n",
      "I started with the Cajun Shrimp appetizer and the flavor was spot on.  The shrimp were juicy and delicious and it comes with like garlic bread sticks to sop up the wonderful juices in the bowl.  \n",
      "\n",
      "To top the night off, I was presented with a Brownie Sundae with candle for my birthday!  (Totally unexpected and delicious)  \n",
      "\n",
      "Only regret was not going back and getting some BBQ to take home with me.\n",
      "top 1 review:\n",
      "Yesterday my husband and I were celebrating our wedding anniversary, so we decided on Firebirds.  Hands down Firebirds Wood Fired Grill  in the west valley! Everything on the menu is amazing! \n",
      "\n",
      "We got there around 6:30pm hoping that we could be seated before our 7:00pm reservation.  As we walked in the restaurant was PACKED, and people were waiting.  We thought as soon as a seat opened up at the bar we could have a drink.  We did just that!  The bartenders (male with redish hair and a beard and female with long brown hair) were sooooo friendly and fast, even though it was a packed house. You both are a reason why my husband and I will definitely be back just for drinks.  BTW you were right about the double black diamond.  It snuck up on me. Haha!  It was such an amazing drink!!! \n",
      "\n",
      "Finally we sat down for dinner and our food was so delicious!! We ordered crab cakes for an appetizer, we will definitely be having that again.  My husband ordered the kabobs and shrimp with mashed potatoes and I had the rib eye with a baked potato (best baked potato ever).  \n",
      "\n",
      "The last thing I wanted to talk about was Breezy's service. She was such an amazing server.  She was friendly, fast and always had a smile.  I watched her with all of her customers and it was that way all around.  I also wanted to say thank you for the anniversary card which you wrote out in this pretty blue ink.  I loved how you personalized it by wishing us a \"Happy 3rd Anniversary.\"  It made it even more special.  So thank you for that.  \n",
      "\n",
      "So thank you again to everyone at Firebirds last night for making our night wonderful!\n",
      "top 2 review:\n",
      "Brought my son here for his birthday, amazing food and service. Great dining experience and our waiter Tristan was awesome. Will definitely be back soon!!!!!\n",
      "top 3 review:\n",
      "The food was delicious and the service was great! The curry and PadThai were delicious.  The vegetables were cooked perfectly.  The owner/staff was so kind and respectful to us and made time to connect and chat with us.  It definitely had a family feel.\n",
      "top 4 review:\n",
      "It's a small place but they have good food. When it first opened, I was into grilled octopus and had to try it. It was good but thought it was a bit pricey. We were told to try their flat iron steak so we did. It was so juicy and tasty that we look foward to going there just for that. We also tried their pork chop. It was good but would have been better if it was cooked right the first time. They took it back, cooked it a longer and it got slightly dried but still good. Great service. Manager came by to make sure we were happy.\n"
     ]
    }
   ],
   "source": [
    "print('Most %s similar reviews:' % n)\n",
    "for i in range(len(top_similar_review)):\n",
    "    print ('top %s review:' % i)\n",
    "    print (top_similar_review[i])"
   ]
  },
  {
   "cell_type": "code",
   "execution_count": 57,
   "metadata": {},
   "outputs": [
    {
     "name": "stdout",
     "output_type": "stream",
     "text": [
      "Most 5 similar reviews:\n",
      "top 0 review:\n",
      "Went here for my 50th birthday and had a very enjoyable night.  I had the Smoked Prime Rib w/Mac and Cheese and Potato Salad.  It had a wonderful flavor and was tender as well.  Perfectly cooked.\n",
      "\n",
      "The place was just starting to get busy, but it in no way took away from the great service I had.  The place has a fully stocked bar, so I had to have a spicy Bloody Mary.  \n",
      "\n",
      "I started with the Cajun Shrimp appetizer and the flavor was spot on.  The shrimp were juicy and delicious and it comes with like garlic bread sticks to sop up the wonderful juices in the bowl.  \n",
      "\n",
      "To top the night off, I was presented with a Brownie Sundae with candle for my birthday!  (Totally unexpected and delicious)  \n",
      "\n",
      "Only regret was not going back and getting some BBQ to take home with me.\n",
      "top 1 review:\n",
      "Any stars given is solely for our server who did everything he could to give us great service. But his great service unfortunately doesn't make up for the terrible food or the fact that 4 out of 5 us were practically finished eating before the 5th person in our party received his simple order of mac n cheese. And lighting sucks.\n",
      "top 2 review:\n",
      "Yesterday my husband and I were celebrating our wedding anniversary, so we decided on Firebirds.  Hands down Firebirds Wood Fired Grill  in the west valley! Everything on the menu is amazing! \n",
      "\n",
      "We got there around 6:30pm hoping that we could be seated before our 7:00pm reservation.  As we walked in the restaurant was PACKED, and people were waiting.  We thought as soon as a seat opened up at the bar we could have a drink.  We did just that!  The bartenders (male with redish hair and a beard and female with long brown hair) were sooooo friendly and fast, even though it was a packed house. You both are a reason why my husband and I will definitely be back just for drinks.  BTW you were right about the double black diamond.  It snuck up on me. Haha!  It was such an amazing drink!!! \n",
      "\n",
      "Finally we sat down for dinner and our food was so delicious!! We ordered crab cakes for an appetizer, we will definitely be having that again.  My husband ordered the kabobs and shrimp with mashed potatoes and I had the rib eye with a baked potato (best baked potato ever).  \n",
      "\n",
      "The last thing I wanted to talk about was Breezy's service. She was such an amazing server.  She was friendly, fast and always had a smile.  I watched her with all of her customers and it was that way all around.  I also wanted to say thank you for the anniversary card which you wrote out in this pretty blue ink.  I loved how you personalized it by wishing us a \"Happy 3rd Anniversary.\"  It made it even more special.  So thank you for that.  \n",
      "\n",
      "So thank you again to everyone at Firebirds last night for making our night wonderful!\n",
      "top 3 review:\n",
      "The food was delicious and the service was great! The curry and PadThai were delicious.  The vegetables were cooked perfectly.  The owner/staff was so kind and respectful to us and made time to connect and chat with us.  It definitely had a family feel.\n",
      "top 4 review:\n",
      "It's a small place but they have good food. When it first opened, I was into grilled octopus and had to try it. It was good but thought it was a bit pricey. We were told to try their flat iron steak so we did. It was so juicy and tasty that we look foward to going there just for that. We also tried their pork chop. It was good but would have been better if it was cooked right the first time. They took it back, cooked it a longer and it got slightly dried but still good. Great service. Manager came by to make sure we were happy.\n"
     ]
    }
   ],
   "source": [
    "print('Most %s similar reviews:' % n)\n",
    "for i in range(len(top_similar_review2)):\n",
    "    print ('top %s review:' % i)\n",
    "    print (top_similar_review2[i])"
   ]
  },
  {
   "cell_type": "markdown",
   "metadata": {},
   "source": [
    "##### single gram and bigram produce very similar review. 4 of the 5 review text are the same between the two method."
   ]
  },
  {
   "cell_type": "markdown",
   "metadata": {},
   "source": [
    "### Classifying positive/negative review"
   ]
  },
  {
   "cell_type": "code",
   "execution_count": 58,
   "metadata": {},
   "outputs": [],
   "source": [
    "from sklearn.metrics import precision_score,accuracy_score,recall_score,f1_score,roc_auc_score"
   ]
  },
  {
   "cell_type": "code",
   "execution_count": 59,
   "metadata": {},
   "outputs": [],
   "source": [
    "# Helper method to print metric scores    \n",
    "def get_performance_metrics(y_train, y_train_pred, y_test, y_test_pred, threshold=0.5):\n",
    "    metric_names = ['AUC','Accuracy','Precision','Recall','f1-score']\n",
    "    metric_values_train = [roc_auc_score(y_train, y_train_pred),\n",
    "                    accuracy_score(y_train, y_train_pred>threshold),\n",
    "                    precision_score(y_train, y_train_pred>threshold),\n",
    "                    recall_score(y_train, y_train_pred>threshold),\n",
    "                    f1_score(y_train, y_train_pred>threshold)\n",
    "                   ]\n",
    "    metric_values_test = [roc_auc_score(y_test, y_test_pred),\n",
    "                    accuracy_score(y_test, y_test_pred>threshold),\n",
    "                    precision_score(y_test, y_test_pred>threshold),\n",
    "                    recall_score(y_test, y_test_pred>threshold),\n",
    "                    f1_score(y_test, y_test_pred>threshold)\n",
    "                   ]\n",
    "    all_metrics = pd.DataFrame({'metrics':metric_names,\n",
    "                                'train':metric_values_train,\n",
    "                                'test':metric_values_test},columns=['metrics','train','test']).set_index('metrics')\n",
    "    print(all_metrics)"
   ]
  },
  {
   "cell_type": "code",
   "execution_count": 60,
   "metadata": {},
   "outputs": [],
   "source": [
    "%matplotlib inline\n",
    "import matplotlib.pyplot as plt\n",
    "from sklearn.metrics import roc_curve, auc\n",
    "\n",
    "def plot_roc_curve(y_train, y_train_pred, y_test, y_test_pred):\n",
    "    roc_auc_train = roc_auc_score(y_train, y_train_pred)\n",
    "    fpr_train, tpr_train, _ = roc_curve(y_train, y_train_pred)\n",
    "\n",
    "    roc_auc_test = roc_auc_score(y_test, y_test_pred)\n",
    "    fpr_test, tpr_test, _ = roc_curve(y_test, y_test_pred)\n",
    "    plt.figure()\n",
    "    lw = 2\n",
    "    plt.plot(fpr_train, tpr_train, color='green',\n",
    "             lw=lw, label='ROC Train (AUC = %0.4f)' % roc_auc_train)\n",
    "    plt.plot(fpr_test, tpr_test, color='darkorange',\n",
    "             lw=lw, label='ROC Test (AUC = %0.4f)' % roc_auc_test)\n",
    "    plt.plot([0, 1], [0, 1], color='navy', lw=lw, linestyle='--')\n",
    "    plt.xlim([0.0, 1.0])\n",
    "    plt.ylim([0.0, 1.05])\n",
    "    plt.xlabel('False Positive Rate')\n",
    "    plt.ylabel('True Positive Rate')\n",
    "    plt.title('Receiver operating characteristic example')\n",
    "    plt.legend(loc=\"lower right\")\n",
    "    plt.show()"
   ]
  },
  {
   "cell_type": "code",
   "execution_count": 61,
   "metadata": {},
   "outputs": [],
   "source": [
    "# helper function to train models\n",
    "# define function to perform train, test, and get model performance\n",
    "def train_test_model(clf, X_train, y_train, X_test, y_test):\n",
    "    # Fit a model by providing X and y from training set\n",
    "    clf.fit(X_train, y_train)\n",
    "\n",
    "    # Make prediction on the training data\n",
    "    y_train_pred = clf.predict(X_train)\n",
    "    p_train_pred = clf.predict_proba(X_train)[:,1]\n",
    "\n",
    "    # Make predictions on test data\n",
    "    y_test_pred = clf.predict(X_test)\n",
    "    p_test_pred = clf.predict_proba(X_test)[:,1]\n",
    "\n",
    "    # print model results\n",
    "    get_performance_metrics(y_train, p_train_pred, y_test, p_test_pred)\n",
    "    plot_roc_curve(y_train, p_train_pred, y_test, p_test_pred)"
   ]
  },
  {
   "cell_type": "markdown",
   "metadata": {},
   "source": [
    "#### naive-bayes classifier"
   ]
  },
  {
   "cell_type": "code",
   "execution_count": 44,
   "metadata": {},
   "outputs": [
    {
     "data": {
      "text/plain": [
       "MultinomialNB(alpha=1.0, class_prior=None, fit_prior=True)"
      ]
     },
     "execution_count": 44,
     "metadata": {},
     "output_type": "execute_result"
    }
   ],
   "source": [
    "from sklearn.naive_bayes import MultinomialNB\n",
    "\n",
    "clf_nb = MultinomialNB()\n",
    "\n",
    "clf_nb.fit(x_train, target_train)"
   ]
  },
  {
   "cell_type": "code",
   "execution_count": 62,
   "metadata": {},
   "outputs": [
    {
     "name": "stdout",
     "output_type": "stream",
     "text": [
      "              train      test\n",
      "metrics                      \n",
      "AUC        0.890262  0.890128\n",
      "Accuracy   0.812451  0.812182\n",
      "Precision  0.776062  0.775958\n",
      "Recall     0.862845  0.860660\n",
      "f1-score   0.817156  0.816117\n"
     ]
    },
    {
     "data": {
      "image/png": "[encoded data removed]",
      "text/plain": [
       "<Figure size 432x288 with 1 Axes>"
      ]
     },
     "metadata": {
      "needs_background": "light"
     },
     "output_type": "display_data"
    }
   ],
   "source": [
    "train_test_model(clf_nb, x_train, target_train, x_test, target_test)"
   ]
  },
  {
   "cell_type": "markdown",
   "metadata": {},
   "source": [
    "#### logistic regression classifier"
   ]
  },
  {
   "cell_type": "code",
   "execution_count": 63,
   "metadata": {},
   "outputs": [
    {
     "data": {
      "text/plain": [
       "LogisticRegression(C=1.0, class_weight=None, dual=False, fit_intercept=True,\n",
       "          intercept_scaling=1, max_iter=100, multi_class='ovr', n_jobs=1,\n",
       "          penalty='l2', random_state=None, solver='liblinear', tol=0.0001,\n",
       "          verbose=0, warm_start=False)"
      ]
     },
     "execution_count": 63,
     "metadata": {},
     "output_type": "execute_result"
    }
   ],
   "source": [
    "from sklearn.linear_model import LogisticRegression\n",
    "\n",
    "clf_lrc = LogisticRegression()\n",
    "\n",
    "clf_lrc.fit(x_train, target_train)"
   ]
  },
  {
   "cell_type": "code",
   "execution_count": 64,
   "metadata": {},
   "outputs": [
    {
     "name": "stdout",
     "output_type": "stream",
     "text": [
      "              train      test\n",
      "metrics                      \n",
      "AUC        0.922517  0.918130\n",
      "Accuracy   0.846588  0.840932\n",
      "Precision  0.826903  0.822046\n",
      "Recall     0.865278  0.857062\n",
      "f1-score   0.845655  0.839189\n"
     ]
    },
    {
     "data": {
      "image/png": "[encoded data removed]",
      "text/plain": [
       "<Figure size 432x288 with 1 Axes>"
      ]
     },
     "metadata": {
      "needs_background": "light"
     },
     "output_type": "display_data"
    }
   ],
   "source": [
    "train_test_model(clf_lrc, x_train, target_train, x_test, target_test)"
   ]
  },
  {
   "cell_type": "code",
   "execution_count": 65,
   "metadata": {},
   "outputs": [
    {
     "data": {
      "text/plain": [
       "['amazing',\n",
       " 'best',\n",
       " 'phenomenal',\n",
       " 'thank',\n",
       " 'awesome',\n",
       " 'delicious',\n",
       " 'perfection',\n",
       " 'incredible',\n",
       " 'great',\n",
       " 'fantastic',\n",
       " 'perfectly',\n",
       " 'perfect',\n",
       " 'love',\n",
       " 'favorite',\n",
       " 'highly',\n",
       " 'excellent',\n",
       " 'outstanding',\n",
       " 'die',\n",
       " 'regret',\n",
       " 'wow']"
      ]
     },
     "execution_count": 65,
     "metadata": {},
     "output_type": "execute_result"
    }
   ],
   "source": [
    "# find key words that contribute to positive review\n",
    "n = 20\n",
    "get_top_values(clf_lrc.coef_[0], n, features_name)"
   ]
  },
  {
   "cell_type": "code",
   "execution_count": 66,
   "metadata": {},
   "outputs": [
    {
     "data": {
      "text/plain": [
       "['worst',\n",
       " 'rude',\n",
       " 'bland',\n",
       " 'disappointing',\n",
       " 'horrible',\n",
       " 'awful',\n",
       " 'ok',\n",
       " 'terrible',\n",
       " 'mediocre',\n",
       " 'okay',\n",
       " 'lacked',\n",
       " 'meh',\n",
       " 'lacking',\n",
       " 'slow',\n",
       " 'poor',\n",
       " 'average',\n",
       " 'overpriced',\n",
       " 'dry',\n",
       " 'flavorless',\n",
       " 'tasteless']"
      ]
     },
     "execution_count": 66,
     "metadata": {},
     "output_type": "execute_result"
    }
   ],
   "source": [
    "# find key words that contribute to negative review\n",
    "n = 20\n",
    "get_bottom_values(clf_lrc.coef_[0], n, features_name)"
   ]
  },
  {
   "cell_type": "markdown",
   "metadata": {},
   "source": [
    "#### random forest classifier"
   ]
  },
  {
   "cell_type": "code",
   "execution_count": 67,
   "metadata": {},
   "outputs": [
    {
     "name": "stderr",
     "output_type": "stream",
     "text": [
      "/usr/local/lib/python3.7/site-packages/sklearn/ensemble/weight_boosting.py:29: DeprecationWarning: numpy.core.umath_tests is an internal NumPy module and should not be imported. It will be removed in a future NumPy release.\n",
      "  from numpy.core.umath_tests import inner1d\n"
     ]
    },
    {
     "data": {
      "text/plain": [
       "RandomForestClassifier(bootstrap=True, class_weight=None, criterion='gini',\n",
       "            max_depth=20, max_features='auto', max_leaf_nodes=None,\n",
       "            min_impurity_decrease=0.0, min_impurity_split=None,\n",
       "            min_samples_leaf=100, min_samples_split=2,\n",
       "            min_weight_fraction_leaf=0.0, n_estimators=10, n_jobs=1,\n",
       "            oob_score=False, random_state=None, verbose=0,\n",
       "            warm_start=False)"
      ]
     },
     "execution_count": 67,
     "metadata": {},
     "output_type": "execute_result"
    }
   ],
   "source": [
    "from sklearn.ensemble import RandomForestClassifier\n",
    "\n",
    "clf_rfc = RandomForestClassifier(max_depth=20, n_estimators=10, min_samples_leaf=100)\n",
    "\n",
    "clf_rfc.fit(x_train, target_train)"
   ]
  },
  {
   "cell_type": "code",
   "execution_count": 68,
   "metadata": {},
   "outputs": [
    {
     "name": "stdout",
     "output_type": "stream",
     "text": [
      "              train      test\n",
      "metrics                      \n",
      "AUC        0.850422  0.850216\n",
      "Accuracy   0.772540  0.772676\n",
      "Precision  0.748823  0.748043\n",
      "Recall     0.800058  0.800059\n",
      "f1-score   0.773593  0.773178\n"
     ]
    },
    {
     "data": {
      "image/png": "[encoded data removed]",
      "text/plain": [
       "<Figure size 432x288 with 1 Axes>"
      ]
     },
     "metadata": {
      "needs_background": "light"
     },
     "output_type": "display_data"
    }
   ],
   "source": [
    "train_test_model(clf_rfc, x_train, target_train, x_test, target_test)"
   ]
  },
  {
   "cell_type": "code",
   "execution_count": 69,
   "metadata": {},
   "outputs": [
    {
     "data": {
      "text/plain": [
       "['amazing',\n",
       " 'delicious',\n",
       " 'best',\n",
       " 'asked',\n",
       " 'ordered',\n",
       " 'ok',\n",
       " 'friendly',\n",
       " 'awesome',\n",
       " 'minutes',\n",
       " 'said',\n",
       " 'pretty',\n",
       " 'told',\n",
       " 'terrible',\n",
       " 'order',\n",
       " 'love',\n",
       " 'excellent',\n",
       " 'horrible',\n",
       " 'don',\n",
       " 'great',\n",
       " 'place']"
      ]
     },
     "execution_count": 69,
     "metadata": {},
     "output_type": "execute_result"
    }
   ],
   "source": [
    "# find key words that contribute to positive review\n",
    "n = 20\n",
    "get_top_values(clf_rfc.feature_importances_, n, features_name)"
   ]
  },
  {
   "cell_type": "markdown",
   "metadata": {},
   "source": [
    "#### cross validation models"
   ]
  },
  {
   "cell_type": "code",
   "execution_count": 70,
   "metadata": {},
   "outputs": [],
   "source": [
    "from sklearn.metrics import precision_score,accuracy_score,recall_score,f1_score,roc_auc_score\n",
    "from sklearn.metrics import make_scorer\n",
    "from sklearn.model_selection import cross_validate\n",
    "def get_scores(clf,X,y,num_folds=5):\n",
    "    scoring = {'accuracy': make_scorer(accuracy_score),\n",
    "               'prec': 'precision',\n",
    "                'roc_auc': make_scorer(roc_auc_score),\n",
    "                'recall': make_scorer(recall_score),\n",
    "                'f1': make_scorer(f1_score)}\n",
    "    cv_results = cross_validate(clf, X, y, scoring=scoring,cv=num_folds,return_train_score=False)\n",
    "    return cv_results"
   ]
  },
  {
   "cell_type": "markdown",
   "metadata": {},
   "source": [
    "#### cross validation for naive bayes classifier"
   ]
  },
  {
   "cell_type": "code",
   "execution_count": 71,
   "metadata": {},
   "outputs": [],
   "source": [
    "cv_metrics_nb = get_scores(clf_nb,x_train,target_train,num_folds=5)"
   ]
  },
  {
   "cell_type": "code",
   "execution_count": 72,
   "metadata": {},
   "outputs": [
    {
     "data": {
      "text/plain": [
       "{'fit_time': array([51.15328002, 49.7785399 , 46.82202077, 48.91970301, 51.20480084]),\n",
       " 'score_time': array([4.93870091, 4.88113093, 5.152215  , 5.11455607, 5.09697008]),\n",
       " 'test_accuracy': array([0.80844236, 0.81323768, 0.80928797, 0.81117025, 0.81129077]),\n",
       " 'test_prec': array([0.77140986, 0.77765677, 0.77317408, 0.77414943, 0.77650101]),\n",
       " 'test_roc_auc': array([0.80989267, 0.81459068, 0.81068366, 0.81261074, 0.8126054 ]),\n",
       " 'test_recall': array([0.86065053, 0.86191671, 0.85950256, 0.86299673, 0.85861313]),\n",
       " 'test_f1': array([0.81359037, 0.81762162, 0.81405599, 0.81616222, 0.81549532])}"
      ]
     },
     "execution_count": 72,
     "metadata": {},
     "output_type": "execute_result"
    }
   ],
   "source": [
    "cv_metrics_nb"
   ]
  },
  {
   "cell_type": "markdown",
   "metadata": {},
   "source": [
    "#### cross validation for logistic regression classifier "
   ]
  },
  {
   "cell_type": "code",
   "execution_count": 73,
   "metadata": {},
   "outputs": [],
   "source": [
    "cv_metrics_lrc = get_scores(clf_lrc,x_train,target_train,num_folds=5)"
   ]
  },
  {
   "cell_type": "code",
   "execution_count": 74,
   "metadata": {},
   "outputs": [
    {
     "data": {
      "text/plain": [
       "{'fit_time': array([46.3230741 , 42.45321107, 42.11732984, 41.64488411, 44.50256991]),\n",
       " 'score_time': array([3.61982989, 3.48674297, 3.59239602, 3.70073676, 3.565485  ]),\n",
       " 'test_accuracy': array([0.83775611, 0.83912675, 0.83798503, 0.84159531, 0.84074428]),\n",
       " 'test_prec': array([0.81863222, 0.81958106, 0.81907775, 0.82126848, 0.82415663]),\n",
       " 'test_roc_auc': array([0.83824916, 0.83963922, 0.83846833, 0.84214336, 0.8411242 ]),\n",
       " 'test_recall': array([0.85550473, 0.85756488, 0.85537308, 0.86131317, 0.85442013]),\n",
       " 'test_f1': array([0.83666242, 0.83814284, 0.83683205, 0.8408143 , 0.83901557])}"
      ]
     },
     "execution_count": 74,
     "metadata": {},
     "output_type": "execute_result"
    }
   ],
   "source": [
    "cv_metrics_lrc"
   ]
  },
  {
   "cell_type": "markdown",
   "metadata": {},
   "source": [
    "#### cross validation for random forest classifier "
   ]
  },
  {
   "cell_type": "code",
   "execution_count": 75,
   "metadata": {},
   "outputs": [],
   "source": [
    "cv_metrics_rfc = get_scores(clf_rfc,x_train,target_train,num_folds=5)"
   ]
  },
  {
   "cell_type": "code",
   "execution_count": 76,
   "metadata": {},
   "outputs": [
    {
     "data": {
      "text/plain": [
       "{'fit_time': array([137.24497676, 138.23608589, 134.54665589, 135.42319584,\n",
       "        139.16078734]),\n",
       " 'score_time': array([ 8.88594508,  8.73103309,  9.271034  ,  8.45291424, 10.28512692]),\n",
       " 'test_accuracy': array([0.76420945, 0.77239836, 0.76047211, 0.76749209, 0.76972568]),\n",
       " 'test_prec': array([0.73800358, 0.74724365, 0.7423598 , 0.74255816, 0.74514333]),\n",
       " 'test_roc_auc': array([0.7651414 , 0.77324959, 0.76091054, 0.76833842, 0.77054659]),\n",
       " 'test_recall': array([0.79775745, 0.80302405, 0.77624599, 0.79794162, 0.79927575]),\n",
       " 'test_f1': array([0.76671806, 0.77413033, 0.75892483, 0.76925433, 0.77126086])}"
      ]
     },
     "execution_count": 76,
     "metadata": {},
     "output_type": "execute_result"
    }
   ],
   "source": [
    "cv_metrics_rfc"
   ]
  },
  {
   "cell_type": "markdown",
   "metadata": {},
   "source": [
    "#### grid search for logistic regression classifier "
   ]
  },
  {
   "cell_type": "code",
   "execution_count": 77,
   "metadata": {},
   "outputs": [
    {
     "data": {
      "text/plain": [
       "LogisticRegression(C=1, class_weight=None, dual=False, fit_intercept=True,\n",
       "          intercept_scaling=1, max_iter=100, multi_class='ovr', n_jobs=1,\n",
       "          penalty='l1', random_state=None, solver='liblinear', tol=0.0001,\n",
       "          verbose=0, warm_start=False)"
      ]
     },
     "execution_count": 77,
     "metadata": {},
     "output_type": "execute_result"
    }
   ],
   "source": [
    "from sklearn.linear_model import LogisticRegression\n",
    "from sklearn.metrics import make_scorer, roc_auc_score, accuracy_score\n",
    "from sklearn.model_selection import GridSearchCV\n",
    "\n",
    "clf = LogisticRegression()\n",
    "\n",
    "param_grid = {'penalty':['l1','l2'],\n",
    "               'C':[0.5,1,5,10],\n",
    "               'solver':['liblinear']}\n",
    "\n",
    "acc_scorer = make_scorer(roc_auc_score)\n",
    "\n",
    "grid_obj = GridSearchCV(clf, param_grid, cv=5, scoring=acc_scorer)\n",
    "grid_obj = grid_obj.fit(x_train, target_train)\n",
    "\n",
    "clf = grid_obj.best_estimator_\n",
    "\n",
    "clf.fit(x_train, target_train)"
   ]
  },
  {
   "cell_type": "code",
   "execution_count": 78,
   "metadata": {},
   "outputs": [
    {
     "name": "stdout",
     "output_type": "stream",
     "text": [
      "              train      test\n",
      "metrics                      \n",
      "AUC        0.922602  0.918306\n",
      "Accuracy   0.846813  0.841025\n",
      "Precision  0.826215  0.820963\n",
      "Recall     0.866968  0.859069\n",
      "f1-score   0.846101  0.839584\n"
     ]
    },
    {
     "data": {
      "image/png": "[encoded data removed]",
      "text/plain": [
       "<Figure size 432x288 with 1 Axes>"
      ]
     },
     "metadata": {
      "needs_background": "light"
     },
     "output_type": "display_data"
    }
   ],
   "source": [
    "train_test_model(clf, x_train, target_train, x_test, target_test)"
   ]
  },
  {
   "cell_type": "markdown",
   "metadata": {},
   "source": [
    "#### cross validation for naive bayes classifier"
   ]
  },
  {
   "cell_type": "code",
   "execution_count": 79,
   "metadata": {},
   "outputs": [
    {
     "data": {
      "text/plain": [
       "MultinomialNB(alpha=2, class_prior=None, fit_prior=True)"
      ]
     },
     "execution_count": 79,
     "metadata": {},
     "output_type": "execute_result"
    }
   ],
   "source": [
    "from sklearn.naive_bayes import MultinomialNB\n",
    "from sklearn.metrics import make_scorer, roc_auc_score, accuracy_score\n",
    "from sklearn.model_selection import GridSearchCV\n",
    "\n",
    "clf = MultinomialNB()\n",
    "\n",
    "param_grid = {'alpha':[0.5,1,2]}\n",
    "\n",
    "acc_scorer = make_scorer(roc_auc_score)\n",
    "\n",
    "grid_obj = GridSearchCV(clf, param_grid, cv=5, scoring=acc_scorer)\n",
    "grid_obj = grid_obj.fit(x_train, target_train)\n",
    "\n",
    "clf = grid_obj.best_estimator_\n",
    "\n",
    "clf.fit(x_train, target_train)"
   ]
  },
  {
   "cell_type": "code",
   "execution_count": 80,
   "metadata": {},
   "outputs": [
    {
     "name": "stdout",
     "output_type": "stream",
     "text": [
      "              train      test\n",
      "metrics                      \n",
      "AUC        0.890373  0.890289\n",
      "Accuracy   0.812658  0.812283\n",
      "Precision  0.775832  0.775697\n",
      "Recall     0.863906  0.861478\n",
      "f1-score   0.817504  0.816340\n"
     ]
    },
    {
     "data": {
      "image/png": "[encoded data removed]",
      "text/plain": [
       "<Figure size 432x288 with 1 Axes>"
      ]
     },
     "metadata": {
      "needs_background": "light"
     },
     "output_type": "display_data"
    }
   ],
   "source": [
    "train_test_model(clf, x_train, target_train, x_test, target_test)"
   ]
  }
 ],
 "metadata": {
  "anaconda-cloud": {},
  "kernelspec": {
   "display_name": "Python 3",
   "language": "python",
   "name": "python3"
  },
  "language_info": {
   "codemirror_mode": {
    "name": "ipython",
    "version": 3
   },
   "file_extension": ".py",
   "mimetype": "text/x-python",
   "name": "python",
   "nbconvert_exporter": "python",
   "pygments_lexer": "ipython3",
   "version": "3.7.1"
  }
 },
 "nbformat": 4,
 "nbformat_minor": 1
}
