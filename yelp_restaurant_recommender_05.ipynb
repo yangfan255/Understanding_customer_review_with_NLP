{
 "cells": [
  {
   "cell_type": "markdown",
   "metadata": {},
   "source": [
    "### Yelp capstone project part 5: \n",
    "Extract and prepare dataframe, containing user_id/business_id/stars, for utility matrix construction; build item-item recommender; build matrix factorization recommender by NMF and UVD methods; evaluate recommenders by comparing existing rating and predicted rating."
   ]
  },
  {
   "cell_type": "code",
   "execution_count": 2,
   "metadata": {},
   "outputs": [],
   "source": [
    "import pandas as pd\n",
    "import numpy as np\n",
    "import matplotlib.pyplot as plt\n",
    "% matplotlib inline\n",
    "plt.style.use(\"ggplot\")\n",
    "\n",
    "import warnings\n",
    "warnings.filterwarnings('ignore')"
   ]
  },
  {
   "cell_type": "code",
   "execution_count": 3,
   "metadata": {},
   "outputs": [],
   "source": [
    "df = pd.read_csv('/Users/fanyang/Documents/yelp_project/12_24/last_2_years_restaurant_reviews_AZ.csv')"
   ]
  },
  {
   "cell_type": "code",
   "execution_count": 4,
   "metadata": {},
   "outputs": [
    {
     "data": {
      "text/html": [
       "<div>\n",
       "<style scoped>\n",
       "    .dataframe tbody tr th:only-of-type {\n",
       "        vertical-align: middle;\n",
       "    }\n",
       "\n",
       "    .dataframe tbody tr th {\n",
       "        vertical-align: top;\n",
       "    }\n",
       "\n",
       "    .dataframe thead th {\n",
       "        text-align: right;\n",
       "    }\n",
       "</style>\n",
       "<table border=\"1\" class=\"dataframe\">\n",
       "  <thead>\n",
       "    <tr style=\"text-align: right;\">\n",
       "      <th></th>\n",
       "      <th>business_id</th>\n",
       "      <th>Unnamed: 0</th>\n",
       "      <th>name</th>\n",
       "      <th>categories</th>\n",
       "      <th>starts_business</th>\n",
       "      <th>cool</th>\n",
       "      <th>date</th>\n",
       "      <th>funny</th>\n",
       "      <th>review_id</th>\n",
       "      <th>stars</th>\n",
       "      <th>text</th>\n",
       "      <th>useful</th>\n",
       "      <th>user_id</th>\n",
       "    </tr>\n",
       "  </thead>\n",
       "  <tbody>\n",
       "    <tr>\n",
       "      <th>0</th>\n",
       "      <td>-01XupAWZEXbdNbxNg5mEg</td>\n",
       "      <td>8836</td>\n",
       "      <td>18 Degrees Neighborhood Grill</td>\n",
       "      <td>Nightlife, Bars, Restaurants, American (Tradit...</td>\n",
       "      <td>3.0</td>\n",
       "      <td>0</td>\n",
       "      <td>2017-06-26</td>\n",
       "      <td>0</td>\n",
       "      <td>VpdB20xoSH514ks0MkNqGQ</td>\n",
       "      <td>1</td>\n",
       "      <td>False advertisement! Website says open until 1...</td>\n",
       "      <td>0</td>\n",
       "      <td>GbYhdXKQGYGp6D2_S3Oyfw</td>\n",
       "    </tr>\n",
       "    <tr>\n",
       "      <th>1</th>\n",
       "      <td>-01XupAWZEXbdNbxNg5mEg</td>\n",
       "      <td>8836</td>\n",
       "      <td>18 Degrees Neighborhood Grill</td>\n",
       "      <td>Nightlife, Bars, Restaurants, American (Tradit...</td>\n",
       "      <td>3.0</td>\n",
       "      <td>1</td>\n",
       "      <td>2017-01-29</td>\n",
       "      <td>0</td>\n",
       "      <td>Xvdqblf2f7nx2h4B2UuD-g</td>\n",
       "      <td>2</td>\n",
       "      <td>Came in so my kiddo could skate and I could ju...</td>\n",
       "      <td>0</td>\n",
       "      <td>CU_RU1o3sKSwymRotn3DUg</td>\n",
       "    </tr>\n",
       "    <tr>\n",
       "      <th>2</th>\n",
       "      <td>-01XupAWZEXbdNbxNg5mEg</td>\n",
       "      <td>8836</td>\n",
       "      <td>18 Degrees Neighborhood Grill</td>\n",
       "      <td>Nightlife, Bars, Restaurants, American (Tradit...</td>\n",
       "      <td>3.0</td>\n",
       "      <td>0</td>\n",
       "      <td>2016-09-03</td>\n",
       "      <td>1</td>\n",
       "      <td>Z7ufB8dFZ_9VjkcntOEsig</td>\n",
       "      <td>1</td>\n",
       "      <td>Horrible!  Had the happy hour nachos.  The che...</td>\n",
       "      <td>2</td>\n",
       "      <td>-XoCb6sUMa7NoFayUW0FlA</td>\n",
       "    </tr>\n",
       "  </tbody>\n",
       "</table>\n",
       "</div>"
      ],
      "text/plain": [
       "              business_id  Unnamed: 0                           name  \\\n",
       "0  -01XupAWZEXbdNbxNg5mEg        8836  18 Degrees Neighborhood Grill   \n",
       "1  -01XupAWZEXbdNbxNg5mEg        8836  18 Degrees Neighborhood Grill   \n",
       "2  -01XupAWZEXbdNbxNg5mEg        8836  18 Degrees Neighborhood Grill   \n",
       "\n",
       "                                          categories  starts_business  cool  \\\n",
       "0  Nightlife, Bars, Restaurants, American (Tradit...              3.0     0   \n",
       "1  Nightlife, Bars, Restaurants, American (Tradit...              3.0     1   \n",
       "2  Nightlife, Bars, Restaurants, American (Tradit...              3.0     0   \n",
       "\n",
       "         date  funny               review_id  stars  \\\n",
       "0  2017-06-26      0  VpdB20xoSH514ks0MkNqGQ      1   \n",
       "1  2017-01-29      0  Xvdqblf2f7nx2h4B2UuD-g      2   \n",
       "2  2016-09-03      1  Z7ufB8dFZ_9VjkcntOEsig      1   \n",
       "\n",
       "                                                text  useful  \\\n",
       "0  False advertisement! Website says open until 1...       0   \n",
       "1  Came in so my kiddo could skate and I could ju...       0   \n",
       "2  Horrible!  Had the happy hour nachos.  The che...       2   \n",
       "\n",
       "                  user_id  \n",
       "0  GbYhdXKQGYGp6D2_S3Oyfw  \n",
       "1  CU_RU1o3sKSwymRotn3DUg  \n",
       "2  -XoCb6sUMa7NoFayUW0FlA  "
      ]
     },
     "execution_count": 4,
     "metadata": {},
     "output_type": "execute_result"
    }
   ],
   "source": [
    "df.head(3)"
   ]
  },
  {
   "cell_type": "code",
   "execution_count": 5,
   "metadata": {},
   "outputs": [
    {
     "name": "stdout",
     "output_type": "stream",
     "text": [
      "('number of unique restaurants is:', 8476)\n"
     ]
    }
   ],
   "source": [
    "print('number of unique restaurants is:', \n",
    "      len(df['business_id'].unique().tolist()))"
   ]
  },
  {
   "cell_type": "code",
   "execution_count": 6,
   "metadata": {},
   "outputs": [
    {
     "name": "stdout",
     "output_type": "stream",
     "text": [
      "('number of unique user is:', 180906)\n"
     ]
    }
   ],
   "source": [
    "print('number of unique user is:', len(df['user_id'].unique().tolist()))"
   ]
  },
  {
   "cell_type": "markdown",
   "metadata": {},
   "source": [
    "#### prepare dataframe containing user_id, business_id, stars"
   ]
  },
  {
   "cell_type": "code",
   "execution_count": 7,
   "metadata": {},
   "outputs": [],
   "source": [
    "# Get business_id, user_id, stars for recommender\n",
    "columns_selected = [u'business_id',u'user_id',u'stars']\n",
    "df_recommend = df[columns_selected]"
   ]
  },
  {
   "cell_type": "code",
   "execution_count": 8,
   "metadata": {
    "scrolled": true
   },
   "outputs": [
    {
     "data": {
      "text/html": [
       "<div>\n",
       "<style scoped>\n",
       "    .dataframe tbody tr th:only-of-type {\n",
       "        vertical-align: middle;\n",
       "    }\n",
       "\n",
       "    .dataframe tbody tr th {\n",
       "        vertical-align: top;\n",
       "    }\n",
       "\n",
       "    .dataframe thead th {\n",
       "        text-align: right;\n",
       "    }\n",
       "</style>\n",
       "<table border=\"1\" class=\"dataframe\">\n",
       "  <thead>\n",
       "    <tr style=\"text-align: right;\">\n",
       "      <th></th>\n",
       "      <th>business_id</th>\n",
       "      <th>user_id</th>\n",
       "      <th>stars</th>\n",
       "    </tr>\n",
       "  </thead>\n",
       "  <tbody>\n",
       "    <tr>\n",
       "      <th>0</th>\n",
       "      <td>-01XupAWZEXbdNbxNg5mEg</td>\n",
       "      <td>GbYhdXKQGYGp6D2_S3Oyfw</td>\n",
       "      <td>1</td>\n",
       "    </tr>\n",
       "    <tr>\n",
       "      <th>1</th>\n",
       "      <td>-01XupAWZEXbdNbxNg5mEg</td>\n",
       "      <td>CU_RU1o3sKSwymRotn3DUg</td>\n",
       "      <td>2</td>\n",
       "    </tr>\n",
       "    <tr>\n",
       "      <th>2</th>\n",
       "      <td>-01XupAWZEXbdNbxNg5mEg</td>\n",
       "      <td>-XoCb6sUMa7NoFayUW0FlA</td>\n",
       "      <td>1</td>\n",
       "    </tr>\n",
       "  </tbody>\n",
       "</table>\n",
       "</div>"
      ],
      "text/plain": [
       "              business_id                 user_id  stars\n",
       "0  -01XupAWZEXbdNbxNg5mEg  GbYhdXKQGYGp6D2_S3Oyfw      1\n",
       "1  -01XupAWZEXbdNbxNg5mEg  CU_RU1o3sKSwymRotn3DUg      2\n",
       "2  -01XupAWZEXbdNbxNg5mEg  -XoCb6sUMa7NoFayUW0FlA      1"
      ]
     },
     "execution_count": 8,
     "metadata": {},
     "output_type": "execute_result"
    }
   ],
   "source": [
    "df_recommend.head(3)"
   ]
  },
  {
   "cell_type": "code",
   "execution_count": 9,
   "metadata": {
    "scrolled": true
   },
   "outputs": [
    {
     "data": {
      "text/plain": [
       "5    224666\n",
       "4     87763\n",
       "1     66460\n",
       "3     44604\n",
       "2     39472\n",
       "Name: stars, dtype: int64"
      ]
     },
     "execution_count": 9,
     "metadata": {},
     "output_type": "execute_result"
    }
   ],
   "source": [
    "df_recommend['stars'].value_counts()"
   ]
  },
  {
   "cell_type": "code",
   "execution_count": 11,
   "metadata": {},
   "outputs": [
    {
     "data": {
      "image/png": "[encoded data removed]",
      "text/plain": [
       "<Figure size 432x288 with 1 Axes>"
      ]
     },
     "metadata": {
      "needs_background": "light"
     },
     "output_type": "display_data"
    }
   ],
   "source": [
    "p=df_recommend['stars'].value_counts().sort_index().plot(kind='bar')\n",
    "p.set(xlabel=\"stars\", ylabel=\"counts\")\n",
    "plt.rcParams.update({'font.size': 10})"
   ]
  },
  {
   "cell_type": "code",
   "execution_count": 9,
   "metadata": {},
   "outputs": [],
   "source": [
    "user_reviews = df_recommend.groupby('user_id').business_id.nunique()"
   ]
  },
  {
   "cell_type": "code",
   "execution_count": 10,
   "metadata": {},
   "outputs": [
    {
     "data": {
      "text/plain": [
       "user_id\n",
       "---94vtJ_5o_nikEs6hUjg    1\n",
       "---PLwSf5gKdIoVnyRHgBA    1\n",
       "--0LlX_UcypHnxW-4BUAdA    1\n",
       "Name: business_id, dtype: int64"
      ]
     },
     "execution_count": 10,
     "metadata": {},
     "output_type": "execute_result"
    }
   ],
   "source": [
    "user_reviews.head(3)"
   ]
  },
  {
   "cell_type": "code",
   "execution_count": 11,
   "metadata": {},
   "outputs": [
    {
     "data": {
      "text/plain": [
       "count    180906.000000\n",
       "mean          2.559147\n",
       "std           5.208918\n",
       "min           1.000000\n",
       "25%           1.000000\n",
       "50%           1.000000\n",
       "75%           2.000000\n",
       "max         335.000000\n",
       "Name: business_id, dtype: float64"
      ]
     },
     "execution_count": 11,
     "metadata": {},
     "output_type": "execute_result"
    }
   ],
   "source": [
    "user_reviews.describe()\n",
    "# suggest user give 2.6 review on average, user can give at most 335 reviews"
   ]
  },
  {
   "cell_type": "code",
   "execution_count": null,
   "metadata": {},
   "outputs": [],
   "source": [
    "# find users who give the most reviews\n",
    "#df['review_count'] = df.groupby(['user_id'])['business_id'].transform('count')\n",
    "#df['review_count'].quantile(q=(0.25, 0.5, 0.75, 0.90))"
   ]
  },
  {
   "cell_type": "code",
   "execution_count": null,
   "metadata": {},
   "outputs": [],
   "source": [
    "#df_top_user = df[df['review_count'] == df['review_count'].max()].copy()"
   ]
  },
  {
   "cell_type": "code",
   "execution_count": null,
   "metadata": {},
   "outputs": [],
   "source": [
    "#df_top_user['user_id'].value_counts()"
   ]
  },
  {
   "cell_type": "code",
   "execution_count": 12,
   "metadata": {},
   "outputs": [
    {
     "data": {
      "text/plain": [
       "business_id\n",
       "-01XupAWZEXbdNbxNg5mEg    29\n",
       "-050d_XIor1NpCuWkbIVaQ     1\n",
       "-092wE7j5HZOogMLAh40zA    23\n",
       "Name: user_id, dtype: int64"
      ]
     },
     "execution_count": 12,
     "metadata": {},
     "output_type": "execute_result"
    }
   ],
   "source": [
    "business_reviews = df_recommend.groupby('business_id').user_id.nunique()\n",
    "business_reviews.head(3)"
   ]
  },
  {
   "cell_type": "code",
   "execution_count": 13,
   "metadata": {},
   "outputs": [
    {
     "data": {
      "text/plain": [
       "count    8476.000000\n",
       "mean       54.620694\n",
       "std        80.026464\n",
       "min         1.000000\n",
       "25%         9.000000\n",
       "50%        26.000000\n",
       "75%        69.000000\n",
       "max      1061.000000\n",
       "Name: user_id, dtype: float64"
      ]
     },
     "execution_count": 13,
     "metadata": {},
     "output_type": "execute_result"
    }
   ],
   "source": [
    "business_reviews.describe()\n",
    "# suggest each restaurant recieve 55 reviews on average"
   ]
  },
  {
   "cell_type": "markdown",
   "metadata": {},
   "source": [
    "#### exlude user_id that do not give many reviews"
   ]
  },
  {
   "cell_type": "code",
   "execution_count": 14,
   "metadata": {},
   "outputs": [],
   "source": [
    "# count review number for each user_id\n",
    "df_copy = df.groupby(['user_id']).size().reset_index(name='counts') \n",
    "\n",
    "# select user_id that give more than 55 reviews, because on average a restaurant received 55 reviews\n",
    "counts_condition = df_copy['counts'] >= 55\n",
    "\n",
    "# convert pandas series into ndarray by .values, then make it as set\n",
    "select_user_id = set(df_copy[counts_condition]['user_id'].values)"
   ]
  },
  {
   "cell_type": "code",
   "execution_count": 15,
   "metadata": {},
   "outputs": [
    {
     "name": "stdout",
     "output_type": "stream",
     "text": [
      "('number of user_id been selected: ', 294)\n"
     ]
    }
   ],
   "source": [
    "print('number of user_id been selected: ', len(select_user_id))"
   ]
  },
  {
   "cell_type": "code",
   "execution_count": 16,
   "metadata": {},
   "outputs": [],
   "source": [
    "# filter user_id that has been selected \n",
    "\n",
    "def keep(row):\n",
    "    if row['user_id'] in select_user_id:\n",
    "        val = 1\n",
    "    else:\n",
    "        val = 0\n",
    "    return val\n",
    "df['keep'] = df.apply(keep,axis = 1)"
   ]
  },
  {
   "cell_type": "code",
   "execution_count": 17,
   "metadata": {},
   "outputs": [],
   "source": [
    "condition = df['keep'] == 1\n",
    "df_final = df[condition]"
   ]
  },
  {
   "cell_type": "code",
   "execution_count": 18,
   "metadata": {
    "scrolled": true
   },
   "outputs": [
    {
     "data": {
      "text/plain": [
       "(25062, 14)"
      ]
     },
     "execution_count": 18,
     "metadata": {},
     "output_type": "execute_result"
    }
   ],
   "source": [
    "df_final.shape"
   ]
  },
  {
   "cell_type": "code",
   "execution_count": 19,
   "metadata": {
    "scrolled": true
   },
   "outputs": [],
   "source": [
    "df_final = df_final.reset_index()"
   ]
  },
  {
   "cell_type": "markdown",
   "metadata": {},
   "source": [
    "#### create utility matrix "
   ]
  },
  {
   "cell_type": "code",
   "execution_count": 23,
   "metadata": {},
   "outputs": [],
   "source": [
    "df_utility = pd.pivot_table(data=df_final, \n",
    "                            index='user_id',\n",
    "                            values='stars', \n",
    "                            columns='business_id', \n",
    "                            fill_value=0)"
   ]
  },
  {
   "cell_type": "code",
   "execution_count": 24,
   "metadata": {},
   "outputs": [
    {
     "data": {
      "text/plain": [
       "(294, 5523)"
      ]
     },
     "execution_count": 24,
     "metadata": {},
     "output_type": "execute_result"
    }
   ],
   "source": [
    "df_utility.shape"
   ]
  },
  {
   "cell_type": "code",
   "execution_count": 28,
   "metadata": {},
   "outputs": [
    {
     "data": {
      "text/html": [
       "<div>\n",
       "<style scoped>\n",
       "    .dataframe tbody tr th:only-of-type {\n",
       "        vertical-align: middle;\n",
       "    }\n",
       "\n",
       "    .dataframe tbody tr th {\n",
       "        vertical-align: top;\n",
       "    }\n",
       "\n",
       "    .dataframe thead th {\n",
       "        text-align: right;\n",
       "    }\n",
       "</style>\n",
       "<table border=\"1\" class=\"dataframe\">\n",
       "  <thead>\n",
       "    <tr style=\"text-align: right;\">\n",
       "      <th>business_id</th>\n",
       "      <th>-01XupAWZEXbdNbxNg5mEg</th>\n",
       "      <th>-092wE7j5HZOogMLAh40zA</th>\n",
       "      <th>-0WegMt6Cy966qlDKhu6jA</th>\n",
       "      <th>-0aIra_B6iALlfqAriBSYA</th>\n",
       "      <th>-0tgMGl7D9B10YjSN2ujLA</th>\n",
       "      <th>-1UMR00eXtwaeh59pEiDjA</th>\n",
       "      <th>-1VaIJza42Hjev6ukacCNg</th>\n",
       "      <th>-2isRNVb6PDuBagELL5EBw</th>\n",
       "      <th>-34vSRcMz_RjN00dWIiQ3Q</th>\n",
       "      <th>-3oxnPPPU3YoxO9M1I2idg</th>\n",
       "      <th>...</th>\n",
       "      <th>ztP466jMUMtqLwwHqXbk9w</th>\n",
       "      <th>ztcdHj6EpUD7EemcntSsrg</th>\n",
       "      <th>zttn4Vekrnd5wEPxgqNvug</th>\n",
       "      <th>zuVvDYJkKAbXQTTBauAqJQ</th>\n",
       "      <th>zusXbyXnJfS1Q-pZE9elmQ</th>\n",
       "      <th>zvB0Vzhomsodw_iQ7FHY1Q</th>\n",
       "      <th>zwNLJ2VglfEvGu7DDZjJ4g</th>\n",
       "      <th>zwmps5SXn30g-f5wqg_r9A</th>\n",
       "      <th>zyPGYeXF4XKCqNN1pjFWhg</th>\n",
       "      <th>zzwicjPC9g246MK2M1ZFBA</th>\n",
       "    </tr>\n",
       "    <tr>\n",
       "      <th>user_id</th>\n",
       "      <th></th>\n",
       "      <th></th>\n",
       "      <th></th>\n",
       "      <th></th>\n",
       "      <th></th>\n",
       "      <th></th>\n",
       "      <th></th>\n",
       "      <th></th>\n",
       "      <th></th>\n",
       "      <th></th>\n",
       "      <th></th>\n",
       "      <th></th>\n",
       "      <th></th>\n",
       "      <th></th>\n",
       "      <th></th>\n",
       "      <th></th>\n",
       "      <th></th>\n",
       "      <th></th>\n",
       "      <th></th>\n",
       "      <th></th>\n",
       "      <th></th>\n",
       "    </tr>\n",
       "  </thead>\n",
       "  <tbody>\n",
       "    <tr>\n",
       "      <th>-0udWcFQEt2M8kM3xcIofw</th>\n",
       "      <td>0</td>\n",
       "      <td>0</td>\n",
       "      <td>0</td>\n",
       "      <td>0</td>\n",
       "      <td>0</td>\n",
       "      <td>0</td>\n",
       "      <td>0</td>\n",
       "      <td>0</td>\n",
       "      <td>0</td>\n",
       "      <td>0</td>\n",
       "      <td>...</td>\n",
       "      <td>0</td>\n",
       "      <td>0</td>\n",
       "      <td>0</td>\n",
       "      <td>0</td>\n",
       "      <td>0</td>\n",
       "      <td>0</td>\n",
       "      <td>0</td>\n",
       "      <td>0</td>\n",
       "      <td>0</td>\n",
       "      <td>0</td>\n",
       "    </tr>\n",
       "    <tr>\n",
       "      <th>-8rSnT5ztVk6vmTDkxTqsQ</th>\n",
       "      <td>0</td>\n",
       "      <td>0</td>\n",
       "      <td>0</td>\n",
       "      <td>0</td>\n",
       "      <td>0</td>\n",
       "      <td>0</td>\n",
       "      <td>0</td>\n",
       "      <td>0</td>\n",
       "      <td>0</td>\n",
       "      <td>0</td>\n",
       "      <td>...</td>\n",
       "      <td>0</td>\n",
       "      <td>0</td>\n",
       "      <td>0</td>\n",
       "      <td>0</td>\n",
       "      <td>0</td>\n",
       "      <td>0</td>\n",
       "      <td>0</td>\n",
       "      <td>0</td>\n",
       "      <td>0</td>\n",
       "      <td>0</td>\n",
       "    </tr>\n",
       "    <tr>\n",
       "      <th>-9S_Fh-sQebyB1yhEM5zHw</th>\n",
       "      <td>0</td>\n",
       "      <td>0</td>\n",
       "      <td>0</td>\n",
       "      <td>0</td>\n",
       "      <td>0</td>\n",
       "      <td>0</td>\n",
       "      <td>0</td>\n",
       "      <td>0</td>\n",
       "      <td>0</td>\n",
       "      <td>1</td>\n",
       "      <td>...</td>\n",
       "      <td>0</td>\n",
       "      <td>0</td>\n",
       "      <td>0</td>\n",
       "      <td>0</td>\n",
       "      <td>0</td>\n",
       "      <td>0</td>\n",
       "      <td>0</td>\n",
       "      <td>0</td>\n",
       "      <td>0</td>\n",
       "      <td>0</td>\n",
       "    </tr>\n",
       "  </tbody>\n",
       "</table>\n",
       "<p>3 rows × 5523 columns</p>\n",
       "</div>"
      ],
      "text/plain": [
       "business_id             -01XupAWZEXbdNbxNg5mEg  -092wE7j5HZOogMLAh40zA  \\\n",
       "user_id                                                                  \n",
       "-0udWcFQEt2M8kM3xcIofw                       0                       0   \n",
       "-8rSnT5ztVk6vmTDkxTqsQ                       0                       0   \n",
       "-9S_Fh-sQebyB1yhEM5zHw                       0                       0   \n",
       "\n",
       "business_id             -0WegMt6Cy966qlDKhu6jA  -0aIra_B6iALlfqAriBSYA  \\\n",
       "user_id                                                                  \n",
       "-0udWcFQEt2M8kM3xcIofw                       0                       0   \n",
       "-8rSnT5ztVk6vmTDkxTqsQ                       0                       0   \n",
       "-9S_Fh-sQebyB1yhEM5zHw                       0                       0   \n",
       "\n",
       "business_id             -0tgMGl7D9B10YjSN2ujLA  -1UMR00eXtwaeh59pEiDjA  \\\n",
       "user_id                                                                  \n",
       "-0udWcFQEt2M8kM3xcIofw                       0                       0   \n",
       "-8rSnT5ztVk6vmTDkxTqsQ                       0                       0   \n",
       "-9S_Fh-sQebyB1yhEM5zHw                       0                       0   \n",
       "\n",
       "business_id             -1VaIJza42Hjev6ukacCNg  -2isRNVb6PDuBagELL5EBw  \\\n",
       "user_id                                                                  \n",
       "-0udWcFQEt2M8kM3xcIofw                       0                       0   \n",
       "-8rSnT5ztVk6vmTDkxTqsQ                       0                       0   \n",
       "-9S_Fh-sQebyB1yhEM5zHw                       0                       0   \n",
       "\n",
       "business_id             -34vSRcMz_RjN00dWIiQ3Q  -3oxnPPPU3YoxO9M1I2idg  \\\n",
       "user_id                                                                  \n",
       "-0udWcFQEt2M8kM3xcIofw                       0                       0   \n",
       "-8rSnT5ztVk6vmTDkxTqsQ                       0                       0   \n",
       "-9S_Fh-sQebyB1yhEM5zHw                       0                       1   \n",
       "\n",
       "business_id                      ...            ztP466jMUMtqLwwHqXbk9w  \\\n",
       "user_id                          ...                                     \n",
       "-0udWcFQEt2M8kM3xcIofw           ...                                 0   \n",
       "-8rSnT5ztVk6vmTDkxTqsQ           ...                                 0   \n",
       "-9S_Fh-sQebyB1yhEM5zHw           ...                                 0   \n",
       "\n",
       "business_id             ztcdHj6EpUD7EemcntSsrg  zttn4Vekrnd5wEPxgqNvug  \\\n",
       "user_id                                                                  \n",
       "-0udWcFQEt2M8kM3xcIofw                       0                       0   \n",
       "-8rSnT5ztVk6vmTDkxTqsQ                       0                       0   \n",
       "-9S_Fh-sQebyB1yhEM5zHw                       0                       0   \n",
       "\n",
       "business_id             zuVvDYJkKAbXQTTBauAqJQ  zusXbyXnJfS1Q-pZE9elmQ  \\\n",
       "user_id                                                                  \n",
       "-0udWcFQEt2M8kM3xcIofw                       0                       0   \n",
       "-8rSnT5ztVk6vmTDkxTqsQ                       0                       0   \n",
       "-9S_Fh-sQebyB1yhEM5zHw                       0                       0   \n",
       "\n",
       "business_id             zvB0Vzhomsodw_iQ7FHY1Q  zwNLJ2VglfEvGu7DDZjJ4g  \\\n",
       "user_id                                                                  \n",
       "-0udWcFQEt2M8kM3xcIofw                       0                       0   \n",
       "-8rSnT5ztVk6vmTDkxTqsQ                       0                       0   \n",
       "-9S_Fh-sQebyB1yhEM5zHw                       0                       0   \n",
       "\n",
       "business_id             zwmps5SXn30g-f5wqg_r9A  zyPGYeXF4XKCqNN1pjFWhg  \\\n",
       "user_id                                                                  \n",
       "-0udWcFQEt2M8kM3xcIofw                       0                       0   \n",
       "-8rSnT5ztVk6vmTDkxTqsQ                       0                       0   \n",
       "-9S_Fh-sQebyB1yhEM5zHw                       0                       0   \n",
       "\n",
       "business_id             zzwicjPC9g246MK2M1ZFBA  \n",
       "user_id                                         \n",
       "-0udWcFQEt2M8kM3xcIofw                       0  \n",
       "-8rSnT5ztVk6vmTDkxTqsQ                       0  \n",
       "-9S_Fh-sQebyB1yhEM5zHw                       0  \n",
       "\n",
       "[3 rows x 5523 columns]"
      ]
     },
     "execution_count": 28,
     "metadata": {},
     "output_type": "execute_result"
    }
   ],
   "source": [
    "df_utility.head(3)"
   ]
  },
  {
   "cell_type": "code",
   "execution_count": 29,
   "metadata": {},
   "outputs": [],
   "source": [
    "df_mat = df_utility.as_matrix()"
   ]
  },
  {
   "cell_type": "code",
   "execution_count": 30,
   "metadata": {
    "scrolled": true
   },
   "outputs": [
    {
     "data": {
      "text/plain": [
       "((294, 5523), (294, 5523))"
      ]
     },
     "execution_count": 30,
     "metadata": {},
     "output_type": "execute_result"
    }
   ],
   "source": [
    "df_mat.shape,df_utility.shape"
   ]
  },
  {
   "cell_type": "code",
   "execution_count": 31,
   "metadata": {},
   "outputs": [],
   "source": [
    "# Compressed Sparse Row matrix\n",
    "\n",
    "from scipy import sparse\n",
    "ratings_mat = sparse.csr_matrix(df_mat)"
   ]
  },
  {
   "cell_type": "code",
   "execution_count": 32,
   "metadata": {},
   "outputs": [
    {
     "data": {
      "text/plain": [
       "<294x5523 sparse matrix of type '<type 'numpy.int64'>'\n",
       "\twith 25062 stored elements in Compressed Sparse Row format>"
      ]
     },
     "execution_count": 32,
     "metadata": {},
     "output_type": "execute_result"
    }
   ],
   "source": [
    "ratings_mat"
   ]
  },
  {
   "cell_type": "markdown",
   "metadata": {},
   "source": [
    "#### item-item similarity recommender"
   ]
  },
  {
   "cell_type": "code",
   "execution_count": 33,
   "metadata": {},
   "outputs": [],
   "source": [
    "utility_mat = ratings_mat"
   ]
  },
  {
   "cell_type": "code",
   "execution_count": 34,
   "metadata": {},
   "outputs": [],
   "source": [
    "# Item-Item Similarity Matrix\n",
    "\n",
    "from sklearn.metrics.pairwise import cosine_similarity\n",
    "item_sim_mat = cosine_similarity(utility_mat.T)"
   ]
  },
  {
   "cell_type": "code",
   "execution_count": 35,
   "metadata": {},
   "outputs": [],
   "source": [
    "least_to_most_sim_indexes = np.argsort(item_sim_mat, axis=1)\n",
    "\n",
    "# Neighborhoods\n",
    "neighborhood_size = 75\n",
    "neighborhoods = least_to_most_sim_indexes[:, -neighborhood_size:]"
   ]
  },
  {
   "cell_type": "code",
   "execution_count": 36,
   "metadata": {},
   "outputs": [
    {
     "data": {
      "text/plain": [
       "(5523, 75)"
      ]
     },
     "execution_count": 36,
     "metadata": {},
     "output_type": "execute_result"
    }
   ],
   "source": [
    "neighborhoods.shape"
   ]
  },
  {
   "cell_type": "code",
   "execution_count": 40,
   "metadata": {},
   "outputs": [],
   "source": [
    "# random choose user_id, and make recommendation\n",
    "user_id = 218"
   ]
  },
  {
   "cell_type": "code",
   "execution_count": 41,
   "metadata": {},
   "outputs": [
    {
     "name": "stdout",
     "output_type": "stream",
     "text": [
      "[4. 3. 0. ... 0. 5. 4.]\n",
      "Execution time: 2.298868 seconds\n"
     ]
    }
   ],
   "source": [
    "from time import time\n",
    "n_users = utility_mat.shape[0]\n",
    "n_items = utility_mat.shape[1]\n",
    "\n",
    "start_time = time()\n",
    "items_rated_by_this_user = ratings_mat[user_id].nonzero()[1]\n",
    "# Just initializing so we have somewhere to put rating preds\n",
    "out = np.zeros(n_items)\n",
    "for item_to_rate in range(n_items):\n",
    "    relevant_items = np.intersect1d(neighborhoods[item_to_rate],\n",
    "                                    items_rated_by_this_user,\n",
    "                                    assume_unique=True)  # assume_unique speeds up intersection op\n",
    "    out[item_to_rate] = ratings_mat[user_id, relevant_items] * \\\n",
    "        item_sim_mat[item_to_rate, relevant_items] / \\\n",
    "        item_sim_mat[item_to_rate, relevant_items].sum()\n",
    "\n",
    "\n",
    "pred_ratings = np.nan_to_num(out)\n",
    "print(pred_ratings)\n",
    "print(\"Execution time: %f seconds\" % (time()-start_time))"
   ]
  },
  {
   "cell_type": "code",
   "execution_count": 42,
   "metadata": {
    "scrolled": true
   },
   "outputs": [
    {
     "data": {
      "text/plain": [
       "[4272, 3017, 2378, 1091, 1717, 2788, 1484, 2613, 3296, 816]"
      ]
     },
     "execution_count": 42,
     "metadata": {},
     "output_type": "execute_result"
    }
   ],
   "source": [
    "# Get final recommendation\n",
    "# Recommend n choices\n",
    "n = 10\n",
    "\n",
    "# get item indexes sorted by predicted rating\n",
    "item_index_sorted_by_pred_rating = list(np.argsort(pred_ratings))[::-1]\n",
    "\n",
    "# find items that have been rated by user\n",
    "items_rated_by_this_user = ratings_mat[user_id].nonzero()[1]\n",
    "\n",
    "# exclude the items that have been rated by user\n",
    "unrated_items_by_pred_rating = [item for item in item_index_sorted_by_pred_rating\n",
    "                                if item not in items_rated_by_this_user]\n",
    "\n",
    "unrated_items_by_pred_rating[:n]"
   ]
  },
  {
   "cell_type": "code",
   "execution_count": 43,
   "metadata": {},
   "outputs": [],
   "source": [
    "business_id_lst = df_final['business_id'].unique()\n",
    "business_id_dict = {k: v for v, k in enumerate(business_id_lst)}\n",
    "df_final['business_id_map'] = df_final.apply(lambda x: business_id_dict[x['business_id']], axis=1)"
   ]
  },
  {
   "cell_type": "code",
   "execution_count": 44,
   "metadata": {},
   "outputs": [
    {
     "data": {
      "text/plain": [
       "['Everything Bagels',\n",
       " 'Mikado Sushi',\n",
       " \"Palermo's Pizza & Wings\",\n",
       " 'Sushi Stop Udon & Grill',\n",
       " 'Atlas Bistro',\n",
       " 'Chennai Fusion Grill',\n",
       " 'Los Favoritos',\n",
       " \"Big Jimmy's\",\n",
       " \"Pacino's Italian\",\n",
       " 'Which Wich']"
      ]
     },
     "execution_count": 44,
     "metadata": {},
     "output_type": "execute_result"
    }
   ],
   "source": [
    "business_id_map_top_n = unrated_items_by_pred_rating[:n]\n",
    "rec_business_name_lst = []\n",
    "for id_map in business_id_map_top_n:\n",
    "    #print id_map\n",
    "    rec_business_name_lst.append(df_final[df_final['business_id_map'] == id_map]['name'].unique()[0])\n",
    "\n",
    "rec_business_name_lst"
   ]
  },
  {
   "cell_type": "markdown",
   "metadata": {},
   "source": [
    "#### matrix factorization recommender\n",
    "#### 1.NMF"
   ]
  },
  {
   "cell_type": "code",
   "execution_count": 46,
   "metadata": {},
   "outputs": [
    {
     "name": "stdout",
     "output_type": "stream",
     "text": [
      "321.163026443915\n",
      "((294, 169), (169, 5523))\n"
     ]
    }
   ],
   "source": [
    "from sklearn.decomposition import NMF\n",
    "\n",
    "def fit_nmf(M,k):\n",
    "    nmf = NMF(n_components=k)\n",
    "    nmf.fit(M)\n",
    "    W = nmf.transform(M);\n",
    "    H = nmf.components_;\n",
    "    err = nmf.reconstruction_err_\n",
    "    return W,H,err\n",
    "\n",
    "# decompose\n",
    "W,H,err = fit_nmf(ratings_mat,169)\n",
    "print(err)\n",
    "print(W.shape,H.shape)"
   ]
  },
  {
   "cell_type": "code",
   "execution_count": 47,
   "metadata": {},
   "outputs": [
    {
     "name": "stdout",
     "output_type": "stream",
     "text": [
      "3.3525645676840417\n",
      "1.0843299025964888\n"
     ]
    }
   ],
   "source": [
    "# reconstruct\n",
    "ratings_mat_fitted = W.dot(H)\n",
    "errs = np.array((ratings_mat-ratings_mat_fitted).flatten()).squeeze()\n",
    "mask = np.array((ratings_mat.todense()).flatten()).squeeze()>0\n",
    "\n",
    "mse = np.mean(errs[mask]**2)\n",
    "average_abs_err = abs(errs[mask]).mean()\n",
    "print(mse)\n",
    "print(average_abs_err)"
   ]
  },
  {
   "cell_type": "code",
   "execution_count": 48,
   "metadata": {},
   "outputs": [
    {
     "data": {
      "text/plain": [
       "[289, 3178, 5335, 2479, 4047, 1518, 4954, 2694, 5313, 10]"
      ]
     },
     "execution_count": 48,
     "metadata": {},
     "output_type": "execute_result"
    }
   ],
   "source": [
    "# get recommendations for the same user\n",
    "\n",
    "user_id = 218\n",
    "n = 10\n",
    "\n",
    "pred_ratings = ratings_mat_fitted[user_id,:]\n",
    "item_index_sorted_by_pred_rating = list(np.argsort(pred_ratings))[::-1]\n",
    "\n",
    "items_rated_by_this_user = ratings_mat[user_id].nonzero()[1]\n",
    "\n",
    "unrated_items_by_pred_rating = [item for item in item_index_sorted_by_pred_rating\n",
    "                                if item not in items_rated_by_this_user]\n",
    "\n",
    "unrated_items_by_pred_rating[:n]"
   ]
  },
  {
   "cell_type": "code",
   "execution_count": 49,
   "metadata": {},
   "outputs": [
    {
     "data": {
      "text/plain": [
       "['Kodo Sushi Sake',\n",
       " \"Egg N' Joe\",\n",
       " \"D'lite Healthy On The Go\",\n",
       " 'Proof',\n",
       " 'Modern Margarita',\n",
       " \"Eden's Grill Inn\",\n",
       " \"Rita's Kitchen & R Bar\",\n",
       " 'Federal Pizza',\n",
       " 'The Covenant',\n",
       " \"Roland's Cafe Market Bar\"]"
      ]
     },
     "execution_count": 49,
     "metadata": {},
     "output_type": "execute_result"
    }
   ],
   "source": [
    "business_id_map_top_n_NVM = unrated_items_by_pred_rating[:n]\n",
    "rec_business_name_lst_NVM = []\n",
    "for id_map in business_id_map_top_n_NVM:\n",
    "    #print id_map\n",
    "    rec_business_name_lst_NVM.append(df_final[df_final['business_id_map'] == id_map]['name'].unique()[0])\n",
    "\n",
    "rec_business_name_lst_NVM"
   ]
  },
  {
   "cell_type": "code",
   "execution_count": 50,
   "metadata": {},
   "outputs": [
    {
     "name": "stdout",
     "output_type": "stream",
     "text": [
      "[(5, 4.829231392511372), (4, 4.237113756722353), (4, 3.945804603938651), (5, 4.828498680842989), (4, 4.136292955287677), (5, 4.731747400491311), (5, 5.000391081515752), (5, 4.9615934723387545), (3, 2.862711126726842), (4, 4.211950530293124), (4, 3.598129677802021), (5, 4.896722314382775), (5, 4.879312995472794), (4, 3.8403352622455147), (4, 3.849971930111493), (4, 3.7603247561059088), (4, 3.872323169482371), (4, 3.8296838519677796), (3, 3.0235636628962617), (4, 3.8149457446044703), (5, 4.659018553733263), (4, 4.122212529943341), (4, 3.9119401896883357), (4, 4.406322906293504), (4, 3.75900794743424), (4, 4.18066486238224), (4, 3.9632947569824317), (5, 4.833489164914977), (3, 2.756322355731598), (4, 3.936123384340995), (5, 4.8126491145411805), (5, 4.789006474124089), (5, 4.97750573213329), (4, 4.318848968207915), (5, 5.177759803048294), (4, 4.041873875706428), (4, 3.824643243024032), (5, 4.840403961852963), (5, 5.107662340915902), (5, 4.682964602841969), (4, 3.9341518800075184), (3, 2.904242377111778), (5, 5.087605541194824), (4, 3.7838576138719175), (5, 4.7554326600732315), (5, 4.797286880040176), (5, 4.790308601112038), (5, 4.770550005287277), (5, 4.842870593229803), (4, 3.817567172941469), (3, 2.9732475373889473), (3, 2.936494718408761), (5, 4.687166393675613), (4, 4.084952635686193), (5, 4.8944293282032785), (4, 3.9442604597717064), (4, 3.9458631966386517), (5, 5.237315685196591), (4, 4.3441739072538), (4, 4.102860016932295), (5, 5.375425715869998), (5, 5.45258177296405), (4, 3.716215957538224), (4, 4.1003910419939045), (3, 2.8930659522986244), (4, 3.817163113294073)]\n",
      "[[ 1.70768607e-01 -2.37113757e-01  5.41953961e-02  1.71501319e-01\n",
      "  -1.36292955e-01  2.68252600e-01 -3.91081516e-04  3.84065277e-02\n",
      "   1.37288873e-01 -2.11950530e-01  4.01870322e-01  1.03277686e-01\n",
      "   1.20687005e-01  1.59664738e-01  1.50028070e-01  2.39675244e-01\n",
      "   1.27676831e-01  1.70316148e-01 -2.35636629e-02  1.85054255e-01\n",
      "   3.40981446e-01 -1.22212530e-01  8.80598103e-02 -4.06322906e-01\n",
      "   2.40992053e-01 -1.80664862e-01  3.67052430e-02  1.66510835e-01\n",
      "   2.43677644e-01  6.38766157e-02  1.87350885e-01  2.10993526e-01\n",
      "   2.24942679e-02 -3.18848968e-01 -1.77759803e-01 -4.18738757e-02\n",
      "   1.75356757e-01  1.59596038e-01 -1.07662341e-01  3.17035397e-01\n",
      "   6.58481200e-02  9.57576229e-02 -8.76055412e-02  2.16142386e-01\n",
      "   2.44567340e-01  2.02713120e-01  2.09691399e-01  2.29449995e-01\n",
      "   1.57129407e-01  1.82432827e-01  2.67524626e-02  6.35052816e-02\n",
      "   3.12833606e-01 -8.49526357e-02  1.05570672e-01  5.57395402e-02\n",
      "   5.41368034e-02 -2.37315685e-01 -3.44173907e-01 -1.02860017e-01\n",
      "  -3.75425716e-01 -4.52581773e-01  2.83784042e-01 -1.00391042e-01\n",
      "   1.06934048e-01  1.82836887e-01]]\n",
      "0.17118308013701436\n"
     ]
    }
   ],
   "source": [
    "### check errors\n",
    "ratings_true = ratings_mat[user_id, items_rated_by_this_user].todense()\n",
    "\n",
    "# prediction\n",
    "ratings_pred = pred_ratings[items_rated_by_this_user]\n",
    "\n",
    "print(list(zip(np.array(ratings_true).squeeze(),ratings_pred)))\n",
    "err_one_user = ratings_true-ratings_pred\n",
    "print(err_one_user)\n",
    "print(abs(err_one_user).mean())"
   ]
  },
  {
   "cell_type": "markdown",
   "metadata": {},
   "source": [
    "#### 2. UVD/SVD"
   ]
  },
  {
   "cell_type": "code",
   "execution_count": 51,
   "metadata": {},
   "outputs": [],
   "source": [
    "from sklearn.decomposition import TruncatedSVD\n",
    "\n",
    "def fit_uvd(M,k):\n",
    "    svd = TruncatedSVD(n_components=k, n_iter=7, random_state=0)\n",
    "    svd.fit(M)\n",
    "\n",
    "    V = svd.components_\n",
    "    U = svd.transform(M) \n",
    "\n",
    "    return U,V, svd\n",
    "\n",
    "# decompose\n",
    "U,V,svd = fit_uvd(ratings_mat,169)"
   ]
  },
  {
   "cell_type": "code",
   "execution_count": 52,
   "metadata": {
    "scrolled": true
   },
   "outputs": [
    {
     "name": "stdout",
     "output_type": "stream",
     "text": [
      "((294, 169), (169, 5523))\n"
     ]
    }
   ],
   "source": [
    "print(U.shape,V.shape)"
   ]
  },
  {
   "cell_type": "code",
   "execution_count": 53,
   "metadata": {},
   "outputs": [
    {
     "name": "stdout",
     "output_type": "stream",
     "text": [
      "1.6378557353442986\n",
      "0.9073554511902541\n"
     ]
    }
   ],
   "source": [
    "ratings_mat_fitted = U.dot(V) \n",
    "\n",
    "errs = np.array((ratings_mat-ratings_mat_fitted).flatten()).squeeze()\n",
    "mask = np.array((ratings_mat.todense()).flatten()).squeeze()>0\n",
    "\n",
    "mse = np.mean(errs[mask]**2)\n",
    "average_abs_err = abs(errs[mask]).mean()\n",
    "print(mse)\n",
    "print(average_abs_err)"
   ]
  },
  {
   "cell_type": "code",
   "execution_count": 54,
   "metadata": {},
   "outputs": [
    {
     "name": "stdout",
     "output_type": "stream",
     "text": [
      "0.0\n"
     ]
    }
   ],
   "source": [
    "# compare with another way to reconstruct matrix\n",
    "\n",
    "ratings_mat_fitted_2 = svd.inverse_transform(svd.transform(ratings_mat))\n",
    "ratings_mat_fitted = U.dot(V)\n",
    "print(sum(sum(ratings_mat_fitted - ratings_mat_fitted_2)))"
   ]
  },
  {
   "cell_type": "code",
   "execution_count": 55,
   "metadata": {},
   "outputs": [
    {
     "data": {
      "text/plain": [
       "[3938, 4580, 3743, 4047, 3567, 3661, 1158, 2823, 3095, 3866]"
      ]
     },
     "execution_count": 55,
     "metadata": {},
     "output_type": "execute_result"
    }
   ],
   "source": [
    "# get recommendations for one user\n",
    "user_id = 218\n",
    "n = 10\n",
    "\n",
    "pred_ratings = ratings_mat_fitted[user_id,:]\n",
    "item_index_sorted_by_pred_rating = list(np.argsort(pred_ratings))[::-1]\n",
    "\n",
    "items_rated_by_this_user = ratings_mat[user_id].nonzero()[1]\n",
    "\n",
    "unrated_items_by_pred_rating = [item for item in item_index_sorted_by_pred_rating\n",
    "                                if item not in items_rated_by_this_user]\n",
    "\n",
    "unrated_items_by_pred_rating[:n]"
   ]
  },
  {
   "cell_type": "code",
   "execution_count": 56,
   "metadata": {},
   "outputs": [
    {
     "data": {
      "text/plain": [
       "['Toyama',\n",
       " 'Zinburger',\n",
       " \"Joe's Midnight Run\",\n",
       " 'Modern Margarita',\n",
       " 'The District',\n",
       " 'The Chicken Scoop',\n",
       " 'Spiga Cucina',\n",
       " 'True Food Kitchen',\n",
       " 'SOL Mexican Cocina',\n",
       " 'OBON Sushi Bar Ramen']"
      ]
     },
     "execution_count": 56,
     "metadata": {},
     "output_type": "execute_result"
    }
   ],
   "source": [
    "business_id_map_top_n_SVD = unrated_items_by_pred_rating[:n]\n",
    "rec_business_name_lst_SVD = []\n",
    "for id_map in business_id_map_top_n_SVD:\n",
    "    #print id_map\n",
    "    rec_business_name_lst_SVD.append(df_final[df_final['business_id_map'] == id_map]['name'].unique()[0])\n",
    "\n",
    "rec_business_name_lst_SVD"
   ]
  },
  {
   "cell_type": "code",
   "execution_count": 57,
   "metadata": {},
   "outputs": [
    {
     "name": "stdout",
     "output_type": "stream",
     "text": [
      "[(5, 3.0143755252601245), (4, 2.4302226038302965), (4, 3.5853683409819013), (5, 3.1091199967569625), (4, 4.019024770254777), (5, 3.391989581671839), (5, 3.9695143579686105), (5, 4.01951026681468), (3, 1.8320628557327128), (4, 2.619892327046581), (4, 2.2421162525325333), (5, 4.096158013671195), (5, 4.047366601551783), (4, 2.564410426715767), (4, 2.39728594475517), (4, 3.521424465177923), (4, 2.4450803821008997), (4, 2.7512634104571965), (3, 1.8190079014670693), (4, 2.2089339932561467), (5, 3.865566873207877), (4, 2.7153538884491604), (4, 2.513039473008522), (4, 3.9714061624558483), (4, 2.282652211208538), (4, 3.1835730320430287), (4, 3.388968359714871), (5, 3.3597922859460256), (3, 1.7540424603920208), (4, 3.791385285134458), (5, 3.03754718793955), (5, 3.2786827611755593), (5, 4.0953510729736005), (4, 3.214410429665929), (5, 3.7593091488468158), (4, 2.9356166859856163), (4, 2.8456108290866915), (5, 2.97873851510169), (5, 4.589539774891927), (5, 3.3907080974913923), (4, 2.833562000902472), (3, 1.7872431090610144), (5, 4.208634204887554), (4, 3.4984793002980026), (5, 4.418897893996191), (5, 3.889824697074461), (5, 3.8849721671267323), (5, 4.170891191321537), (5, 3.600206526259282), (4, 3.0365474028343593), (3, 1.9623431559001405), (3, 2.1768152490101573), (5, 3.128308086094484), (4, 3.1896518215025846), (5, 3.9057903083667305), (4, 2.671209564983755), (4, 2.610495586845057), (5, 3.9261008692737613), (4, 3.4134328188768164), (4, 3.5994418125785734), (5, 4.899704771715237), (5, 5.114668247657564), (4, 2.448976884656203), (4, 3.2109456205471765), (3, 1.9361668439262039), (4, 3.7117309433566334)]\n",
      "[[ 1.98562447  1.5697774   0.41463166  1.89088    -0.01902477  1.60801042\n",
      "   1.03048564  0.98048973  1.16793714  1.38010767  1.75788375  0.90384199\n",
      "   0.9526334   1.43558957  1.60271406  0.47857553  1.55491962  1.24873659\n",
      "   1.1809921   1.79106601  1.13443313  1.28464611  1.48696053  0.02859384\n",
      "   1.71734779  0.81642697  0.61103164  1.64020771  1.24595754  0.20861471\n",
      "   1.96245281  1.72131724  0.90464893  0.78558957  1.24069085  1.06438331\n",
      "   1.15438917  2.02126148  0.41046023  1.6092919   1.166438    1.21275689\n",
      "   0.7913658   0.5015207   0.58110211  1.1101753   1.11502783  0.82910881\n",
      "   1.39979347  0.9634526   1.03765684  0.82318475  1.87169191  0.81034818\n",
      "   1.09420969  1.32879044  1.38950441  1.07389913  0.58656718  0.40055819\n",
      "   0.10029523 -0.11466825  1.55102312  0.78905438  1.06383316  0.28826906]]\n",
      "1.0908624606674049\n"
     ]
    }
   ],
   "source": [
    "### check errors\n",
    "ratings_true = ratings_mat[user_id, items_rated_by_this_user].todense()\n",
    "\n",
    "# prediction\n",
    "ratings_pred = pred_ratings[items_rated_by_this_user]\n",
    "print(list(zip(np.array(ratings_true).squeeze(),ratings_pred)))\n",
    "err_one_user = ratings_true-ratings_pred\n",
    "print(err_one_user)\n",
    "print(abs(err_one_user).mean())"
   ]
  },
  {
   "cell_type": "markdown",
   "metadata": {},
   "source": []
  }
 ],
 "metadata": {
  "anaconda-cloud": {},
  "kernelspec": {
   "display_name": "Python 2",
   "language": "python",
   "name": "python2"
  },
  "language_info": {
   "codemirror_mode": {
    "name": "ipython",
    "version": 2
   },
   "file_extension": ".py",
   "mimetype": "text/x-python",
   "name": "python",
   "nbconvert_exporter": "python",
   "pygments_lexer": "ipython2",
   "version": "2.7.10"
  }
 },
 "nbformat": 4,
 "nbformat_minor": 1
}
