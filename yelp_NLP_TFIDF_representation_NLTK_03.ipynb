{
  "nbformat": 4,
  "nbformat_minor": 0,
  "metadata": {
    "colab": {
      "name": "yelp_NLP_TFIDF_representation_NLTK_03.ipynb",
      "version": "0.3.2",
      "provenance": [],
      "collapsed_sections": []
    },
    "language_info": {
      "codemirror_mode": {
        "name": "ipython",
        "version": 3
      },
      "file_extension": ".py",
      "mimetype": "text/x-python",
      "name": "python",
      "nbconvert_exporter": "python",
      "pygments_lexer": "ipython3",
      "version": "3.6.8"
    },
    "kernelspec": {
      "name": "python3",
      "display_name": "Python 3"
    },
    "accelerator": "TPU"
  },
  "cells": [
    {
      "cell_type": "markdown",
      "metadata": {
        "id": "rc8an36VTRw6",
        "colab_type": "text"
      },
      "source": [
        "### Yelp capstone project part 3: \n",
        "Extract review text of AZ restaurants between 2016 and 2018. \n",
        "To generate labels, I consider that review is positive when the restaurants received above 4 stars.\n",
        "Three methods were used to construct numerical representation of text.\n",
        "\n",
        "Method 3: term frequency + inverse document frequency. \n"
      ]
    },
    {
      "cell_type": "markdown",
      "metadata": {
        "id": "XIZ0A6cHqAvE",
        "colab_type": "text"
      },
      "source": [
        "**1. load data and down sample using 10% of original data**"
      ]
    },
    {
      "cell_type": "code",
      "metadata": {
        "id": "dmGUzMe5TXdl",
        "colab_type": "code",
        "outputId": "a7a5055c-58d9-4168-c0b8-b3abe03d0bd1",
        "colab": {
          "base_uri": "https://localhost:8080/",
          "height": 122
        }
      },
      "source": [
        "from google.colab import drive\n",
        "drive.mount('/content/gdrive')"
      ],
      "execution_count": 0,
      "outputs": [
        {
          "output_type": "stream",
          "text": [
            "Go to this URL in a browser: https://accounts.google.com/o/oauth2/auth?client_id=947318989803-6bn6qk8qdgf4n4g3pfee6491hc0brc4i.apps.googleusercontent.com&redirect_uri=urn%3Aietf%3Awg%3Aoauth%3A2.0%3Aoob&scope=email%20https%3A%2F%2Fwww.googleapis.com%2Fauth%2Fdocs.test%20https%3A%2F%2Fwww.googleapis.com%2Fauth%2Fdrive%20https%3A%2F%2Fwww.googleapis.com%2Fauth%2Fdrive.photos.readonly%20https%3A%2F%2Fwww.googleapis.com%2Fauth%2Fpeopleapi.readonly&response_type=code\n",
            "\n",
            "Enter your authorization code:\n",
            "··········\n",
            "Mounted at /content/gdrive\n"
          ],
          "name": "stdout"
        }
      ]
    },
    {
      "cell_type": "code",
      "metadata": {
        "id": "irbWeRx9TmPW",
        "colab_type": "code",
        "outputId": "43bd023d-572c-4d9b-d817-6fb632521c32",
        "colab": {
          "base_uri": "https://localhost:8080/",
          "height": 34
        }
      },
      "source": [
        "cd /content/gdrive/My Drive/Colab Notebooks/yelp"
      ],
      "execution_count": 0,
      "outputs": [
        {
          "output_type": "stream",
          "text": [
            "/content/gdrive/My Drive/Colab Notebooks/yelp\n"
          ],
          "name": "stdout"
        }
      ]
    },
    {
      "cell_type": "code",
      "metadata": {
        "id": "nO3DWZiLTRw-",
        "colab_type": "code",
        "colab": {}
      },
      "source": [
        "import pandas as pd\n",
        "import numpy as np\n",
        "import seaborn as sns\n",
        "\n",
        "import matplotlib.pyplot as plt\n",
        "%matplotlib inline\n",
        "plt.style.use('ggplot')\n",
        "\n",
        "import warnings\n",
        "warnings.filterwarnings('ignore')"
      ],
      "execution_count": 0,
      "outputs": []
    },
    {
      "cell_type": "code",
      "metadata": {
        "id": "g8TLt0mITRxC",
        "colab_type": "code",
        "colab": {}
      },
      "source": [
        "df = pd.read_csv('/content/gdrive/My Drive/Colab Notebooks/yelp/last_2_years_restaurant_reviews_AZ.csv')"
      ],
      "execution_count": 0,
      "outputs": []
    },
    {
      "cell_type": "code",
      "metadata": {
        "id": "9i7O9-bXjFRv",
        "colab_type": "code",
        "outputId": "94a25bdb-01cd-463f-ba07-05eb53ab0803",
        "colab": {
          "base_uri": "https://localhost:8080/",
          "height": 34
        }
      },
      "source": [
        "df.shape"
      ],
      "execution_count": 0,
      "outputs": [
        {
          "output_type": "execute_result",
          "data": {
            "text/plain": [
              "(462965, 13)"
            ]
          },
          "metadata": {
            "tags": []
          },
          "execution_count": 6
        }
      ]
    },
    {
      "cell_type": "code",
      "metadata": {
        "id": "B0qHsmXskXvn",
        "colab_type": "code",
        "outputId": "ee6a2e1a-5324-42b1-ff7a-0d38e2c75224",
        "colab": {
          "base_uri": "https://localhost:8080/",
          "height": 51
        }
      },
      "source": [
        "# ufo.sample(frac=0.75, random_state=99)\n",
        "\n",
        "df = df.sample(frac=0.1, random_state=0)\n",
        "\n",
        "print(\"sampling 0.1 data:\")\n",
        "df.shape"
      ],
      "execution_count": 0,
      "outputs": [
        {
          "output_type": "stream",
          "text": [
            "sampling 0.1 data:\n"
          ],
          "name": "stdout"
        },
        {
          "output_type": "execute_result",
          "data": {
            "text/plain": [
              "(46296, 13)"
            ]
          },
          "metadata": {
            "tags": []
          },
          "execution_count": 7
        }
      ]
    },
    {
      "cell_type": "code",
      "metadata": {
        "id": "fyj3LpofTRxE",
        "colab_type": "code",
        "outputId": "089803bb-9c8c-4765-b6e6-22871eb69a09",
        "colab": {
          "base_uri": "https://localhost:8080/",
          "height": 570
        }
      },
      "source": [
        "df.head(3)"
      ],
      "execution_count": 0,
      "outputs": [
        {
          "output_type": "execute_result",
          "data": {
            "text/html": [
              "<div>\n",
              "<style scoped>\n",
              "    .dataframe tbody tr th:only-of-type {\n",
              "        vertical-align: middle;\n",
              "    }\n",
              "\n",
              "    .dataframe tbody tr th {\n",
              "        vertical-align: top;\n",
              "    }\n",
              "\n",
              "    .dataframe thead th {\n",
              "        text-align: right;\n",
              "    }\n",
              "</style>\n",
              "<table border=\"1\" class=\"dataframe\">\n",
              "  <thead>\n",
              "    <tr style=\"text-align: right;\">\n",
              "      <th></th>\n",
              "      <th>business_id</th>\n",
              "      <th>Unnamed: 0</th>\n",
              "      <th>name</th>\n",
              "      <th>categories</th>\n",
              "      <th>starts_business</th>\n",
              "      <th>cool</th>\n",
              "      <th>date</th>\n",
              "      <th>funny</th>\n",
              "      <th>review_id</th>\n",
              "      <th>stars</th>\n",
              "      <th>text</th>\n",
              "      <th>useful</th>\n",
              "      <th>user_id</th>\n",
              "    </tr>\n",
              "  </thead>\n",
              "  <tbody>\n",
              "    <tr>\n",
              "      <th>114410</th>\n",
              "      <td>EEGajOchS2BIZNvJcPK3uw</td>\n",
              "      <td>4922</td>\n",
              "      <td>Crudo</td>\n",
              "      <td>Italian, Nightlife, American (Traditional), Re...</td>\n",
              "      <td>4.5</td>\n",
              "      <td>0</td>\n",
              "      <td>2018-05-31</td>\n",
              "      <td>0</td>\n",
              "      <td>JooJun7aUGOrVnkXWjywnw</td>\n",
              "      <td>1</td>\n",
              "      <td>I have been so excited to try Crudo. What a di...</td>\n",
              "      <td>0</td>\n",
              "      <td>7VNGBCqrd9JdhFlMWtEeMA</td>\n",
              "    </tr>\n",
              "    <tr>\n",
              "      <th>164615</th>\n",
              "      <td>LBAkHJJfCoDj9aa5sc0Mxw</td>\n",
              "      <td>1041</td>\n",
              "      <td>Steak 'n Shake</td>\n",
              "      <td>American (Traditional), Food, Burgers, Steakho...</td>\n",
              "      <td>2.5</td>\n",
              "      <td>0</td>\n",
              "      <td>2018-02-11</td>\n",
              "      <td>0</td>\n",
              "      <td>EZjy26BxRdooJWNrwQYlLw</td>\n",
              "      <td>1</td>\n",
              "      <td>If you have ever been to a 'real' Steak 'n Sha...</td>\n",
              "      <td>0</td>\n",
              "      <td>AHxMjZ0AXH_4meB7toaGlw</td>\n",
              "    </tr>\n",
              "    <tr>\n",
              "      <th>313571</th>\n",
              "      <td>f30-DOoIxvoV9btiDvKMTw</td>\n",
              "      <td>4686</td>\n",
              "      <td>Joe's Midnight Run</td>\n",
              "      <td>Nightlife, Bars, Restaurants, American (New)</td>\n",
              "      <td>4.0</td>\n",
              "      <td>0</td>\n",
              "      <td>2018-02-25</td>\n",
              "      <td>0</td>\n",
              "      <td>ZopiO_mcaEU3-puOqrlcAg</td>\n",
              "      <td>4</td>\n",
              "      <td>It's a small place but they have good food. Wh...</td>\n",
              "      <td>0</td>\n",
              "      <td>reUMLWwXDGiyUJWm-zQ7QA</td>\n",
              "    </tr>\n",
              "  </tbody>\n",
              "</table>\n",
              "</div>"
            ],
            "text/plain": [
              "                   business_id  Unnamed: 0                name  \\\n",
              "114410  EEGajOchS2BIZNvJcPK3uw        4922               Crudo   \n",
              "164615  LBAkHJJfCoDj9aa5sc0Mxw        1041      Steak 'n Shake   \n",
              "313571  f30-DOoIxvoV9btiDvKMTw        4686  Joe's Midnight Run   \n",
              "\n",
              "                                               categories  starts_business  \\\n",
              "114410  Italian, Nightlife, American (Traditional), Re...              4.5   \n",
              "164615  American (Traditional), Food, Burgers, Steakho...              2.5   \n",
              "313571       Nightlife, Bars, Restaurants, American (New)              4.0   \n",
              "\n",
              "        cool        date  funny               review_id  stars  \\\n",
              "114410     0  2018-05-31      0  JooJun7aUGOrVnkXWjywnw      1   \n",
              "164615     0  2018-02-11      0  EZjy26BxRdooJWNrwQYlLw      1   \n",
              "313571     0  2018-02-25      0  ZopiO_mcaEU3-puOqrlcAg      4   \n",
              "\n",
              "                                                     text  useful  \\\n",
              "114410  I have been so excited to try Crudo. What a di...       0   \n",
              "164615  If you have ever been to a 'real' Steak 'n Sha...       0   \n",
              "313571  It's a small place but they have good food. Wh...       0   \n",
              "\n",
              "                       user_id  \n",
              "114410  7VNGBCqrd9JdhFlMWtEeMA  \n",
              "164615  AHxMjZ0AXH_4meB7toaGlw  \n",
              "313571  reUMLWwXDGiyUJWm-zQ7QA  "
            ]
          },
          "metadata": {
            "tags": []
          },
          "execution_count": 8
        }
      ]
    },
    {
      "cell_type": "code",
      "metadata": {
        "id": "Aqyi4lNDTRxU",
        "colab_type": "code",
        "outputId": "cec4d1d5-f847-41e9-8b3e-f4dc7ab4802e",
        "colab": {
          "base_uri": "https://localhost:8080/",
          "height": 299
        }
      },
      "source": [
        "df.rename(columns={'stars':'stars_review'}, inplace=True)\n",
        "df['positive_review'] = df['stars_review'] >4\n",
        "df['positive_review'] = df['positive_review'].apply(lambda x: '1' if x is True else '0')\n",
        "df['positive_review'] = df['positive_review'].astype(int)\n",
        "\n",
        "df['positive_review'].value_counts(normalize=True).plot(kind='bar')\n",
        "plt.xlabel(\"Is_positive_reviewed\")\n",
        "plt.ylabel(\"counts\")"
      ],
      "execution_count": 0,
      "outputs": [
        {
          "output_type": "execute_result",
          "data": {
            "text/plain": [
              "Text(0, 0.5, 'counts')"
            ]
          },
          "metadata": {
            "tags": []
          },
          "execution_count": 9
        },
        {
          "output_type": "display_data",
          "data": {
            "image/png": "[encoded data removed]",
            "text/plain": [
              "<Figure size 432x288 with 1 Axes>"
            ]
          },
          "metadata": {
            "tags": []
          }
        }
      ]
    },
    {
      "cell_type": "code",
      "metadata": {
        "id": "-Dnhszxx1dhl",
        "colab_type": "code",
        "outputId": "bd5d34a1-2a0d-4c5c-eec5-c42a2f46f8be",
        "colab": {
          "base_uri": "https://localhost:8080/",
          "height": 34
        }
      },
      "source": [
        "df = df[['positive_review', 'text']]\n",
        "df.shape"
      ],
      "execution_count": 0,
      "outputs": [
        {
          "output_type": "execute_result",
          "data": {
            "text/plain": [
              "(46296, 2)"
            ]
          },
          "metadata": {
            "tags": []
          },
          "execution_count": 11
        }
      ]
    },
    {
      "cell_type": "code",
      "metadata": {
        "id": "SACvRa6c1s8M",
        "colab_type": "code",
        "outputId": "5ff3caaf-dddf-4cec-c812-22aa18f64e94",
        "colab": {
          "base_uri": "https://localhost:8080/",
          "height": 68
        }
      },
      "source": [
        "nltk.download(\"stopwords\")"
      ],
      "execution_count": 0,
      "outputs": [
        {
          "output_type": "stream",
          "text": [
            "[nltk_data] Downloading package stopwords to /root/nltk_data...\n",
            "[nltk_data]   Unzipping corpora/stopwords.zip.\n"
          ],
          "name": "stdout"
        },
        {
          "output_type": "execute_result",
          "data": {
            "text/plain": [
              "True"
            ]
          },
          "metadata": {
            "tags": []
          },
          "execution_count": 13
        }
      ]
    },
    {
      "cell_type": "code",
      "metadata": {
        "id": "C97nCX_P1J0D",
        "colab_type": "code",
        "colab": {}
      },
      "source": [
        "import re\n",
        "import nltk\n",
        "from nltk.corpus import stopwords\n",
        "from nltk.stem import SnowballStemmer\n",
        "\n",
        "\n",
        "stop_words = stopwords.words('english')\n",
        "stemmer = SnowballStemmer('english')\n",
        "\n",
        "TEXT_CLEANING_RE = '@\\S+|https?:\\S+|http?:\\S|[^A-Za-z0-9]+'\n",
        "\n",
        "def prepress(text, stem=False):\n",
        "    text = re.sub(TEXT_CLEANING_RE, ' ', str(text).lower()).strip()\n",
        "    tokens = []\n",
        "    for token in text.split():\n",
        "        if stem:\n",
        "            tokens.append(stemmer.stem(token))\n",
        "        else:\n",
        "            tokens.append(token)\n",
        "    return \" \".join(tokens)"
      ],
      "execution_count": 0,
      "outputs": []
    },
    {
      "cell_type": "code",
      "metadata": {
        "id": "X2ZkR7SF1ab1",
        "colab_type": "code",
        "colab": {}
      },
      "source": [
        "df.text = df.text.apply(lambda x: prepress(x))"
      ],
      "execution_count": 0,
      "outputs": []
    },
    {
      "cell_type": "code",
      "metadata": {
        "id": "6ukBNVB91agL",
        "colab_type": "code",
        "colab": {}
      },
      "source": [
        ""
      ],
      "execution_count": 0,
      "outputs": []
    },
    {
      "cell_type": "markdown",
      "metadata": {
        "id": "g1026YppTRxs",
        "colab_type": "text"
      },
      "source": [
        "**2. Numerical representation of Text method 2:**\n",
        "#### tf-idf"
      ]
    },
    {
      "cell_type": "code",
      "metadata": {
        "id": "uK8vpPlxb8Zh",
        "colab_type": "code",
        "outputId": "b81c3ad2-7ca8-4c40-a55f-100fe6a9a3cd",
        "colab": {
          "base_uri": "https://localhost:8080/",
          "height": 139
        }
      },
      "source": [
        "#1. prepare documents\n",
        "documents = df['text']\n",
        "\n",
        "# get non Null index\n",
        "indx = pd.notnull(documents)\n",
        "\n",
        "# select review that is not null\n",
        "documents = documents[indx].values\n",
        "\n",
        "# print first 5 documents\n",
        "documents[:5]"
      ],
      "execution_count": 0,
      "outputs": [
        {
          "output_type": "execute_result",
          "data": {
            "text/plain": [
              "array(['i have been so excited to try crudo what a disappointment everything is so over salted it is hardly eatable i will not return not good enough for a second chance',\n",
              "       'if you have ever been to a real steak n shake then don t go this restaurant burgers are not as good as all other locations they try to wrap the burgers like in and out burgers not sure why if you order the double it is so flimsy it looks just like a single',\n",
              "       'it s a small place but they have good food when it first opened i was into grilled octopus and had to try it it was good but thought it was a bit pricey we were told to try their flat iron steak so we did it was so juicy and tasty that we look foward to going there just for that we also tried their pork chop it was good but would have been better if it was cooked right the first time they took it back cooked it a longer and it got slightly dried but still good great service manager came by to make sure we were happy',\n",
              "       'the past four times i have ordered a grilled cheese with paying extra for extra cheese they have actually put less cheese than when ordering normal here i am paying extra and receiving less than original not to mention their cookies are always stale',\n",
              "       'this place is amazing the food is always good and the service is amazing every time i go here the people that work there are always nice and very accommodating will continue to go back'],\n",
              "      dtype=object)"
            ]
          },
          "metadata": {
            "tags": []
          },
          "execution_count": 16
        }
      ]
    },
    {
      "cell_type": "code",
      "metadata": {
        "id": "Hefg3KtVb8Z_",
        "colab_type": "code",
        "outputId": "eaa1dd6a-10f4-4392-e181-c410402030dc",
        "colab": {
          "base_uri": "https://localhost:8080/",
          "height": 34
        }
      },
      "source": [
        "#2. prepare label\n",
        "target = df['positive_review'].values\n",
        "\n",
        "# only select 'stars' that have review\n",
        "target = target[indx]\n",
        "\n",
        "# print first 5 review label\n",
        "target[:5]"
      ],
      "execution_count": 0,
      "outputs": [
        {
          "output_type": "execute_result",
          "data": {
            "text/plain": [
              "array([0, 0, 0, 0, 1])"
            ]
          },
          "metadata": {
            "tags": []
          },
          "execution_count": 17
        }
      ]
    },
    {
      "cell_type": "code",
      "metadata": {
        "id": "A7uXsfV2b8aL",
        "colab_type": "code",
        "outputId": "0df7b211-8d50-4090-844f-1deb1785cb5a",
        "colab": {
          "base_uri": "https://localhost:8080/",
          "height": 34
        }
      },
      "source": [
        "#3. review and target label should have the same size\n",
        "documents.size, target.size"
      ],
      "execution_count": 0,
      "outputs": [
        {
          "output_type": "execute_result",
          "data": {
            "text/plain": [
              "(46296, 46296)"
            ]
          },
          "metadata": {
            "tags": []
          },
          "execution_count": 18
        }
      ]
    },
    {
      "cell_type": "markdown",
      "metadata": {
        "id": "e9suVZdAb8aN",
        "colab_type": "text"
      },
      "source": [
        "**3. review text vectorization**"
      ]
    },
    {
      "cell_type": "code",
      "metadata": {
        "id": "fS8TPGhqb8aN",
        "colab_type": "code",
        "colab": {}
      },
      "source": [
        "# split train and test dataset\n",
        "#from sklearn.cross_validation import train_test_split\n",
        "from sklearn.model_selection import train_test_split\n",
        "\n",
        "documents_train,documents_test,target_train,target_test = train_test_split(documents,target,test_size=0.3, random_state=0)"
      ],
      "execution_count": 0,
      "outputs": []
    },
    {
      "cell_type": "code",
      "metadata": {
        "id": "vokdS1sVb8aQ",
        "colab_type": "code",
        "colab": {}
      },
      "source": [
        "# single gram\n",
        "from sklearn.feature_extraction.text import TfidfVectorizer\n",
        "\n",
        "vectorizer = TfidfVectorizer(stop_words='english',max_features=5000,min_df=1)\n",
        "\n",
        "# model training\n",
        "X_train = vectorizer.fit_transform(documents_train).toarray()\n",
        "\n",
        "# get tfidf\n",
        "features_name = vectorizer.get_feature_names()\n",
        "\n",
        "# let model to transform test dataset\n",
        "X_test = vectorizer.transform(documents_test).toarray()"
      ],
      "execution_count": 0,
      "outputs": []
    },
    {
      "cell_type": "code",
      "metadata": {
        "id": "2L-BBK2ib8aS",
        "colab_type": "code",
        "colab": {}
      },
      "source": [
        "# CountVectorizer - count vector\n",
        "# TfidfVectorizer - word frequency vectors\n",
        "# HashingVectorizer - unique integers "
      ],
      "execution_count": 0,
      "outputs": []
    },
    {
      "cell_type": "code",
      "metadata": {
        "id": "hzTE0pX8b8aY",
        "colab_type": "code",
        "colab": {}
      },
      "source": [
        "# bigram\n",
        "\n",
        "vectorizer2 = TfidfVectorizer(stop_words='english',max_features=5000,min_df=1,ngram_range=(1, 2))\n",
        "X_train2 = vectorizer2.fit_transform(documents_train).toarray()\n",
        "features_name2 = vectorizer2.get_feature_names()\n",
        "X_test2 = vectorizer2.transform(documents_test).toarray()"
      ],
      "execution_count": 0,
      "outputs": []
    },
    {
      "cell_type": "markdown",
      "metadata": {
        "id": "W52zYt0db8aa",
        "colab_type": "text"
      },
      "source": [
        "**4. search for similar review text**"
      ]
    },
    {
      "cell_type": "code",
      "metadata": {
        "id": "qG9Uuh0Ab8ab",
        "colab_type": "code",
        "colab": {}
      },
      "source": [
        "# generate function that return top and bottom values\n",
        "import numpy as np\n",
        "\n",
        "\n",
        "def get_top_values(lst, n, labels):\n",
        "    return [labels[i] for i in np.argsort(lst)[::-1][:n]]  \n",
        "\n",
        "def get_bottom_values(lst, n, labels):\n",
        "    return [labels[i] for i in np.argsort(lst)[:n]]"
      ],
      "execution_count": 0,
      "outputs": []
    },
    {
      "cell_type": "code",
      "metadata": {
        "id": "NLcfkPV7b8af",
        "colab_type": "code",
        "outputId": "aed7885e-035a-4848-f020-3fdb894bedb7",
        "colab": {
          "base_uri": "https://localhost:8080/",
          "height": 54
        }
      },
      "source": [
        "# Draw an arbitrary review from test (unseen in training) documents\n",
        "sample_review = [documents_test[10]]\n",
        "sample_review"
      ],
      "execution_count": 0,
      "outputs": [
        {
          "output_type": "execute_result",
          "data": {
            "text/plain": [
              "['the staff was very pleasant and friendly i ordered the special which was 3 eggs scrambled with jalape o sausage and cheese with a dude of homestyle potatoes the eggs were still runny and sausages didn t even seem to be cooked all the way the potatoes were still hard its likely i won t order from there again what a waste of 16 i work in the building next store and would rather drive somewhere else than eat that food again']"
            ]
          },
          "metadata": {
            "tags": []
          },
          "execution_count": 24
        }
      ]
    },
    {
      "cell_type": "code",
      "metadata": {
        "id": "ePr1p-v1b8aj",
        "colab_type": "code",
        "colab": {}
      },
      "source": [
        "# Transform the drawn review(s) to vector(s)\n",
        "vector_review = vectorizer.transform(sample_review).toarray()\n",
        "\n",
        "vector_review2 = vectorizer2.transform(sample_review).toarray()"
      ],
      "execution_count": 0,
      "outputs": []
    },
    {
      "cell_type": "code",
      "metadata": {
        "id": "cDCeM9kBb8an",
        "colab_type": "code",
        "outputId": "e2ee51e2-0a90-4e38-8ef8-bdd720e74bca",
        "colab": {
          "base_uri": "https://localhost:8080/",
          "height": 306
        }
      },
      "source": [
        "# Calculate the similarity score between vector and training vectors\n",
        "from sklearn.metrics.pairwise import cosine_similarity\n",
        "\n",
        "similarity_scores = cosine_similarity(vector_review, X_test[:100])\n",
        "\n",
        "print(similarity_scores[0])"
      ],
      "execution_count": 0,
      "outputs": [
        {
          "output_type": "stream",
          "text": [
            "[0.         0.02895703 0.02432764 0.         0.04684344 0.02728223\n",
            " 0.00502791 0.03032702 0.00631917 0.03989682 1.         0.01975957\n",
            " 0.03130375 0.02076141 0.01725164 0.         0.06843275 0.\n",
            " 0.04064754 0.         0.03897373 0.         0.07639302 0.01625296\n",
            " 0.         0.02637558 0.0479126  0.09887902 0.00611086 0.01228449\n",
            " 0.00598159 0.01716517 0.03402372 0.         0.01424784 0.\n",
            " 0.         0.01997436 0.04502855 0.02713927 0.02671827 0.\n",
            " 0.         0.01621121 0.02894157 0.02559106 0.01658571 0.\n",
            " 0.         0.00595082 0.01286663 0.05710259 0.00883638 0.01625668\n",
            " 0.         0.         0.0176439  0.01251369 0.00476802 0.\n",
            " 0.01272929 0.         0.06039578 0.01532529 0.         0.01371691\n",
            " 0.         0.01656012 0.02450143 0.01857473 0.03154731 0.00360263\n",
            " 0.01386504 0.         0.02958156 0.         0.03695558 0.01460452\n",
            " 0.01698476 0.04044699 0.03086218 0.         0.0220706  0.004742\n",
            " 0.0148572  0.00729918 0.05017218 0.         0.01858226 0.04695168\n",
            " 0.02135772 0.00597924 0.         0.03602858 0.01359149 0.011171\n",
            " 0.02233839 0.01563061 0.05373672 0.03437456]\n"
          ],
          "name": "stdout"
        }
      ]
    },
    {
      "cell_type": "code",
      "metadata": {
        "id": "A-RfXntcb8ao",
        "colab_type": "code",
        "outputId": "247bf36d-3d3e-4e27-9176-bd36d806aa50",
        "colab": {
          "base_uri": "https://localhost:8080/",
          "height": 306
        }
      },
      "source": [
        "similarity_scores2 = cosine_similarity(vector_review2,X_test2[:100])\n",
        "print(similarity_scores2[0])"
      ],
      "execution_count": 0,
      "outputs": [
        {
          "output_type": "stream",
          "text": [
            "[0.         0.02819006 0.02213457 0.         0.04445981 0.02346744\n",
            " 0.00457261 0.02897874 0.00517924 0.0388837  1.         0.01737253\n",
            " 0.03085428 0.01556661 0.01549129 0.         0.06045345 0.\n",
            " 0.04009314 0.         0.02654554 0.         0.06454216 0.01546963\n",
            " 0.         0.02242827 0.04607674 0.11452751 0.00579736 0.01346342\n",
            " 0.00445876 0.01440111 0.03185147 0.         0.01406963 0.\n",
            " 0.         0.02359544 0.04606379 0.02494124 0.02151199 0.\n",
            " 0.         0.01413853 0.0248759  0.02639595 0.01647592 0.\n",
            " 0.         0.0038596  0.01215442 0.03504691 0.00691308 0.0171118\n",
            " 0.         0.         0.01660785 0.01052644 0.00448751 0.\n",
            " 0.01254052 0.         0.05346341 0.01516472 0.         0.01239096\n",
            " 0.         0.01574619 0.02429017 0.01869452 0.03323251 0.0032724\n",
            " 0.01369181 0.         0.02793455 0.         0.03173497 0.01232663\n",
            " 0.01526793 0.03851932 0.02318429 0.         0.02081722 0.00453435\n",
            " 0.01277747 0.00789388 0.05060582 0.         0.01948754 0.04549486\n",
            " 0.01465474 0.00419952 0.         0.03590098 0.00900827 0.00797703\n",
            " 0.02213373 0.01462179 0.0515982  0.03246987]\n"
          ],
          "name": "stdout"
        }
      ]
    },
    {
      "cell_type": "code",
      "metadata": {
        "id": "8Hrw_W-Db8at",
        "colab_type": "code",
        "colab": {}
      },
      "source": [
        "# identify top 5 similar review\n",
        "n = 5\n",
        "top_similar_review = get_top_values(similarity_scores[0], n, documents_test[:100])"
      ],
      "execution_count": 0,
      "outputs": []
    },
    {
      "cell_type": "code",
      "metadata": {
        "id": "n1M_SdSUb8a1",
        "colab_type": "code",
        "colab": {}
      },
      "source": [
        "n = 5\n",
        "top_similar_review2 = get_top_values(similarity_scores2[0],n,documents_test[:100])"
      ],
      "execution_count": 0,
      "outputs": []
    },
    {
      "cell_type": "code",
      "metadata": {
        "id": "8Bsz2o2lb8a3",
        "colab_type": "code",
        "outputId": "adff4501-a5d2-413b-b11e-f3334b446bf0",
        "colab": {
          "base_uri": "https://localhost:8080/",
          "height": 71
        }
      },
      "source": [
        "print('Our search query:')\n",
        "print(sample_review) "
      ],
      "execution_count": 0,
      "outputs": [
        {
          "output_type": "stream",
          "text": [
            "Our search query:\n",
            "['the staff was very pleasant and friendly i ordered the special which was 3 eggs scrambled with jalape o sausage and cheese with a dude of homestyle potatoes the eggs were still runny and sausages didn t even seem to be cooked all the way the potatoes were still hard its likely i won t order from there again what a waste of 16 i work in the building next store and would rather drive somewhere else than eat that food again']\n"
          ],
          "name": "stdout"
        }
      ]
    },
    {
      "cell_type": "code",
      "metadata": {
        "id": "IMm7r1rXb8a6",
        "colab_type": "code",
        "outputId": "d311b498-8869-4415-8136-a7d8d6d1f953",
        "colab": {
          "base_uri": "https://localhost:8080/",
          "height": 224
        }
      },
      "source": [
        "print('Most %s similar reviews:' % n)\n",
        "for i in range(len(top_similar_review)):\n",
        "    print ('top %s review:' % i)\n",
        "    print (top_similar_review[i])"
      ],
      "execution_count": 0,
      "outputs": [
        {
          "output_type": "stream",
          "text": [
            "Most 5 similar reviews:\n",
            "top 0 review:\n",
            "the staff was very pleasant and friendly i ordered the special which was 3 eggs scrambled with jalape o sausage and cheese with a dude of homestyle potatoes the eggs were still runny and sausages didn t even seem to be cooked all the way the potatoes were still hard its likely i won t order from there again what a waste of 16 i work in the building next store and would rather drive somewhere else than eat that food again\n",
            "top 1 review:\n",
            "we tried the oysters beef cheeks with bone marrow ribeye wagyu steak green chili mashed potatoes crushed potatoes with pancetta and the mousse dome the beef cheeks with marrow were delicious the oysters were pretty tiny steaks were seasoned very well the view was nice but it does depend on which booth you get also even though it may seem private you are divided by a curtain so you can hear the conversations next to you pretty clearly we ordered the mousse to go which did not hold up well we wish the server would have mentioned this to us when we ordered it to take with us\n",
            "top 2 review:\n",
            "this place was really good it is on the corner of a strip mall i had the chopped salad with crispy chicken i got the half size and couldn t eat it all also eaten at the table was cinnamon pancakes and a eggs benedict i took a bit of the pancakes they were yummy not overly sweet like some can be i would return to this place again if in the area\n",
            "top 3 review:\n",
            "i am really glad i didn t check this place on yelp first cause just by looking at the reviews i probably wouldn t have went so we went there today and i really liked it i love the fact that the kitchen is open and its all just very cute just a nice looking place i don t care for the bread they bring you too salty and too hard on the outside we ordered the cheese loaded fries as a appetizer for my taste it was not enough cheese and the bacon was a little too salty i had the fettuccini alfredo delicioso i am super picky when it comes to alfredo sauce but this was some good s lol i will for sure go back to try their grilled cheese and maybe check out their bar for happy hour we paid 40 for 1 appetizer 2 entrees and some raspberry tea and someone had to get extra cheese on their pizza for 3 75 seth was our server and i cant complain i was too hungry to take pictures of the food maybe next time\n",
            "top 4 review:\n",
            "this was my wife and i first visit what a pleasant treat for lunch service was impeccable and the food was amazing the cost was reasonable and will be returning again soon\n"
          ],
          "name": "stdout"
        }
      ]
    },
    {
      "cell_type": "code",
      "metadata": {
        "id": "osIGXbzIb8a7",
        "colab_type": "code",
        "outputId": "4429ac72-f87b-4b39-840e-67570a2578aa",
        "colab": {
          "base_uri": "https://localhost:8080/",
          "height": 224
        }
      },
      "source": [
        "print('Most %s similar reviews:' % n)\n",
        "for i in range(len(top_similar_review2)):\n",
        "    print ('top %s review:' % i)\n",
        "    print (top_similar_review2[i])"
      ],
      "execution_count": 0,
      "outputs": [
        {
          "output_type": "stream",
          "text": [
            "Most 5 similar reviews:\n",
            "top 0 review:\n",
            "the staff was very pleasant and friendly i ordered the special which was 3 eggs scrambled with jalape o sausage and cheese with a dude of homestyle potatoes the eggs were still runny and sausages didn t even seem to be cooked all the way the potatoes were still hard its likely i won t order from there again what a waste of 16 i work in the building next store and would rather drive somewhere else than eat that food again\n",
            "top 1 review:\n",
            "we tried the oysters beef cheeks with bone marrow ribeye wagyu steak green chili mashed potatoes crushed potatoes with pancetta and the mousse dome the beef cheeks with marrow were delicious the oysters were pretty tiny steaks were seasoned very well the view was nice but it does depend on which booth you get also even though it may seem private you are divided by a curtain so you can hear the conversations next to you pretty clearly we ordered the mousse to go which did not hold up well we wish the server would have mentioned this to us when we ordered it to take with us\n",
            "top 2 review:\n",
            "this place was really good it is on the corner of a strip mall i had the chopped salad with crispy chicken i got the half size and couldn t eat it all also eaten at the table was cinnamon pancakes and a eggs benedict i took a bit of the pancakes they were yummy not overly sweet like some can be i would return to this place again if in the area\n",
            "top 3 review:\n",
            "i am really glad i didn t check this place on yelp first cause just by looking at the reviews i probably wouldn t have went so we went there today and i really liked it i love the fact that the kitchen is open and its all just very cute just a nice looking place i don t care for the bread they bring you too salty and too hard on the outside we ordered the cheese loaded fries as a appetizer for my taste it was not enough cheese and the bacon was a little too salty i had the fettuccini alfredo delicioso i am super picky when it comes to alfredo sauce but this was some good s lol i will for sure go back to try their grilled cheese and maybe check out their bar for happy hour we paid 40 for 1 appetizer 2 entrees and some raspberry tea and someone had to get extra cheese on their pizza for 3 75 seth was our server and i cant complain i was too hungry to take pictures of the food maybe next time\n",
            "top 4 review:\n",
            "this was my wife and i first visit what a pleasant treat for lunch service was impeccable and the food was amazing the cost was reasonable and will be returning again soon\n"
          ],
          "name": "stdout"
        }
      ]
    },
    {
      "cell_type": "markdown",
      "metadata": {
        "id": "ZAWvXADeqV5W",
        "colab_type": "text"
      },
      "source": [
        "***conclusion: single gram and bi gram produce every similar results of document searching***"
      ]
    },
    {
      "cell_type": "markdown",
      "metadata": {
        "id": "pfVqI1YSqg-c",
        "colab_type": "text"
      },
      "source": [
        "**5. classification modeling**"
      ]
    },
    {
      "cell_type": "code",
      "metadata": {
        "id": "E1pHniY6TRzX",
        "colab_type": "code",
        "outputId": "5cb0c717-8216-4a3b-f723-0226b7c898f1",
        "colab": {
          "base_uri": "https://localhost:8080/",
          "height": 68
        }
      },
      "source": [
        "print(\"use tf-idf from single gram\")\n",
        "print(\"train set size is: \", X_train.shape, target_train.shape)\n",
        "print(\"test set size is: \", X_test.shape, target_test.shape)\n"
      ],
      "execution_count": 0,
      "outputs": [
        {
          "output_type": "stream",
          "text": [
            "use tf-idf from single gram\n",
            "train set size is:  (32407, 5000) (32407,)\n",
            "test set size is:  (13889, 5000) (13889,)\n"
          ],
          "name": "stdout"
        }
      ]
    },
    {
      "cell_type": "code",
      "metadata": {
        "id": "LpxMh9tNTRzZ",
        "colab_type": "code",
        "colab": {}
      },
      "source": [
        "%matplotlib inline\n",
        "import matplotlib.pyplot as plt\n",
        "from sklearn.metrics import roc_curve, auc\n",
        "from sklearn.metrics import precision_score, accuracy_score, recall_score, f1_score, roc_auc_score\n",
        "\n",
        "def plot_roc_curve(y_train, y_train_pred, y_test, y_test_pred):\n",
        "    roc_auc_train = roc_auc_score(y_train, y_train_pred)\n",
        "    fpr_train, tpr_train, _ = roc_curve(y_train, y_train_pred)\n",
        "\n",
        "    roc_auc_test = roc_auc_score(y_test, y_test_pred)\n",
        "    fpr_test, tpr_test, _ = roc_curve(y_test, y_test_pred)\n",
        "    plt.figure()\n",
        "    lw = 2\n",
        "    plt.plot(fpr_train, tpr_train, color='green',\n",
        "             lw=lw, label='ROC Train (AUC = %0.4f)' % roc_auc_train)\n",
        "    plt.plot(fpr_test, tpr_test, color='darkorange',\n",
        "             lw=lw, label='ROC Test (AUC = %0.4f)' % roc_auc_test)\n",
        "    plt.plot([0, 1], [0, 1], color='navy', lw=lw, linestyle='--')\n",
        "    plt.xlim([0.0, 1.0])\n",
        "    plt.ylim([0.0, 1.05])\n",
        "    plt.xlabel('False Positive Rate')\n",
        "    plt.ylabel('True Positive Rate')\n",
        "    plt.title('Receiver operating characteristic example')\n",
        "    plt.legend(loc=\"lower right\")\n",
        "    plt.show()\n",
        "\n",
        " \n",
        "def get_performance_metrics(y_train, y_train_pred, y_test, y_test_pred, threshold=0.5):\n",
        "    metric_names = ['AUC','Accuracy','Precision','Recall','f1-score']\n",
        "    metric_values_train = [roc_auc_score(y_train, y_train_pred),\n",
        "                    accuracy_score(y_train, y_train_pred>threshold),\n",
        "                    precision_score(y_train, y_train_pred>threshold),\n",
        "                    recall_score(y_train, y_train_pred>threshold),\n",
        "                    f1_score(y_train, y_train_pred>threshold)\n",
        "                   ]\n",
        "    metric_values_test = [roc_auc_score(y_test, y_test_pred),\n",
        "                    accuracy_score(y_test, y_test_pred>threshold),\n",
        "                    precision_score(y_test, y_test_pred>threshold),\n",
        "                    recall_score(y_test, y_test_pred>threshold),\n",
        "                    f1_score(y_test, y_test_pred>threshold)\n",
        "                   ]\n",
        "    all_metrics = pd.DataFrame({'metrics':metric_names,\n",
        "                                'train':metric_values_train,\n",
        "                                'test':metric_values_test},columns=['metrics','train','test']).set_index('metrics')\n",
        "    print(all_metrics)\n",
        "\n",
        "def train_test_model(clf, X_train, y_train, X_test, y_test):\n",
        "    clf.fit(X_train, y_train)\n",
        "\n",
        "    y_train_pred = clf.predict(X_train)\n",
        "    p_train_pred = clf.predict_proba(X_train)[:,1]\n",
        "\n",
        "    y_test_pred = clf.predict(X_test)\n",
        "    p_test_pred = clf.predict_proba(X_test)[:,1]\n",
        "\n",
        "    get_performance_metrics(y_train, p_train_pred, y_test, p_test_pred)\n",
        "    plot_roc_curve(y_train, p_train_pred, y_test, p_test_pred)"
      ],
      "execution_count": 0,
      "outputs": []
    },
    {
      "cell_type": "markdown",
      "metadata": {
        "id": "c8i3erGgqwLv",
        "colab_type": "text"
      },
      "source": [
        "***5.1 Logistic regression***"
      ]
    },
    {
      "cell_type": "code",
      "metadata": {
        "id": "smOjjhAnTRzb",
        "colab_type": "code",
        "outputId": "522be3e1-40e8-461d-ae3f-113699c53777",
        "colab": {
          "base_uri": "https://localhost:8080/",
          "height": 452
        }
      },
      "source": [
        "%%time\n",
        "from sklearn.linear_model import LogisticRegression\n",
        "\n",
        "clf = LogisticRegression(C=1.0, penalty='l2')\n",
        "\n",
        "LRmodel = clf.fit(X_train, target_train)\n",
        "\n",
        "train_test_model(clf, X_train, target_train, X_test, target_test)"
      ],
      "execution_count": 0,
      "outputs": [
        {
          "output_type": "stream",
          "text": [
            "              train      test\n",
            "metrics                      \n",
            "AUC        0.934585  0.908815\n",
            "Accuracy   0.862406  0.825905\n",
            "Precision  0.847842  0.809565\n",
            "Recall     0.874929  0.834978\n",
            "f1-score   0.861173  0.822075\n"
          ],
          "name": "stdout"
        },
        {
          "output_type": "display_data",
          "data": {
            "image/png": "[encoded data removed]",
            "text/plain": [
              "<Figure size 432x288 with 1 Axes>"
            ]
          },
          "metadata": {
            "tags": []
          }
        },
        {
          "output_type": "stream",
          "text": [
            "CPU times: user 3.55 s, sys: 517 ms, total: 4.07 s\n",
            "Wall time: 3.19 s\n"
          ],
          "name": "stdout"
        }
      ]
    },
    {
      "cell_type": "code",
      "metadata": {
        "id": "3mh7lr6Jnycj",
        "colab_type": "code",
        "outputId": "57496ce9-2599-4ffc-8636-04c32c3a5356",
        "colab": {
          "base_uri": "https://localhost:8080/",
          "height": 357
        }
      },
      "source": [
        "# find key words that contribute to positive review\n",
        "n = 20\n",
        "get_top_values(LRmodel.coef_[0], n, features_name)"
      ],
      "execution_count": 0,
      "outputs": [
        {
          "output_type": "execute_result",
          "data": {
            "text/plain": [
              "['amazing',\n",
              " 'best',\n",
              " 'delicious',\n",
              " 'thank',\n",
              " 'favorite',\n",
              " 'great',\n",
              " 'awesome',\n",
              " 'fantastic',\n",
              " 'love',\n",
              " 'incredible',\n",
              " 'highly',\n",
              " 'excellent',\n",
              " 'wonderful',\n",
              " 'perfect',\n",
              " 'gem',\n",
              " 'outstanding',\n",
              " 'perfectly',\n",
              " 'owner',\n",
              " 'glad',\n",
              " 'perfection']"
            ]
          },
          "metadata": {
            "tags": []
          },
          "execution_count": 39
        }
      ]
    },
    {
      "cell_type": "code",
      "metadata": {
        "id": "ocH8uTgHnyfd",
        "colab_type": "code",
        "outputId": "ef474fcb-8eb9-48f3-b175-fef6f60aa4f0",
        "colab": {
          "base_uri": "https://localhost:8080/",
          "height": 357
        }
      },
      "source": [
        "# find key words that contribute to negative review\n",
        "n = 20\n",
        "get_bottom_values(LRmodel.coef_[0], n, features_name)"
      ],
      "execution_count": 0,
      "outputs": [
        {
          "output_type": "execute_result",
          "data": {
            "text/plain": [
              "['rude',\n",
              " 'ok',\n",
              " 'bland',\n",
              " 'horrible',\n",
              " 'mediocre',\n",
              " 'worst',\n",
              " 'disappointing',\n",
              " 'terrible',\n",
              " 'okay',\n",
              " 'slow',\n",
              " 'average',\n",
              " 'wasn',\n",
              " 'pretty',\n",
              " 'decent',\n",
              " 'dry',\n",
              " 'reason',\n",
              " 'didn',\n",
              " 'unfortunately',\n",
              " 'overall',\n",
              " 'bad']"
            ]
          },
          "metadata": {
            "tags": []
          },
          "execution_count": 40
        }
      ]
    },
    {
      "cell_type": "markdown",
      "metadata": {
        "id": "wd2w-Gcpq4fu",
        "colab_type": "text"
      },
      "source": [
        "***5.2 Random forest***"
      ]
    },
    {
      "cell_type": "code",
      "metadata": {
        "id": "Bv-RuxJYTRzl",
        "colab_type": "code",
        "outputId": "a21ac884-943f-4696-af12-66892992109f",
        "colab": {
          "base_uri": "https://localhost:8080/",
          "height": 452
        }
      },
      "source": [
        "%%time\n",
        "from sklearn.ensemble import RandomForestClassifier\n",
        "\n",
        "parameters = {'n_estimators': 50,\n",
        "              'max_features': 'auto',\n",
        "              'criterion': 'gini',\n",
        "              'max_depth': 20,\n",
        "              'min_samples_split': 5,\n",
        "              'min_samples_leaf': 40,\n",
        "              'random_state': 0,\n",
        "              'n_jobs': -1}\n",
        "\n",
        "clf = RandomForestClassifier(**parameters)\n",
        "\n",
        "\n",
        "\n",
        "rfmodel = clf.fit(X_train, target_train)\n",
        "\n",
        "train_test_model(clf, X_train, target_train, X_test, target_test)"
      ],
      "execution_count": 0,
      "outputs": [
        {
          "output_type": "stream",
          "text": [
            "              train      test\n",
            "metrics                      \n",
            "AUC        0.868841  0.855633\n",
            "Accuracy   0.788811  0.780906\n",
            "Precision  0.768241  0.757957\n",
            "Recall     0.811982  0.800897\n",
            "f1-score   0.789506  0.778836\n"
          ],
          "name": "stdout"
        },
        {
          "output_type": "display_data",
          "data": {
            "image/png": "[encoded data removed]",
            "text/plain": [
              "<Figure size 432x288 with 1 Axes>"
            ]
          },
          "metadata": {
            "tags": []
          }
        },
        {
          "output_type": "stream",
          "text": [
            "CPU times: user 1min 49s, sys: 801 ms, total: 1min 50s\n",
            "Wall time: 57.4 s\n"
          ],
          "name": "stdout"
        }
      ]
    },
    {
      "cell_type": "code",
      "metadata": {
        "colab_type": "code",
        "id": "t1umJWY8ocrm",
        "outputId": "c4294b10-a87b-44a6-ff81-0c275fa751fb",
        "colab": {
          "base_uri": "https://localhost:8080/",
          "height": 357
        }
      },
      "source": [
        "# find key words that contribute to positive review\n",
        "n = 20\n",
        "get_top_values(rfmodel.feature_importances_, n, features_name)"
      ],
      "execution_count": 0,
      "outputs": [
        {
          "output_type": "execute_result",
          "data": {
            "text/plain": [
              "['great',\n",
              " 'best',\n",
              " 'amazing',\n",
              " 'delicious',\n",
              " 'love',\n",
              " 'ordered',\n",
              " 'didn',\n",
              " 'awesome',\n",
              " 'minutes',\n",
              " 'favorite',\n",
              " 'asked',\n",
              " 'wasn',\n",
              " 'definitely',\n",
              " 'order',\n",
              " 'ok',\n",
              " 'like',\n",
              " 'bad',\n",
              " 'horrible',\n",
              " 'terrible',\n",
              " 'worst']"
            ]
          },
          "metadata": {
            "tags": []
          },
          "execution_count": 42
        }
      ]
    },
    {
      "cell_type": "code",
      "metadata": {
        "colab_type": "code",
        "id": "G4Rgf1S1ocro",
        "outputId": "3c181b3d-154a-4a1e-d2f8-2d1fce29f694",
        "colab": {
          "base_uri": "https://localhost:8080/",
          "height": 357
        }
      },
      "source": [
        "# find key words that contribute to negative review\n",
        "n = 20\n",
        "get_bottom_values(rfmodel.feature_importances_, n, features_name)"
      ],
      "execution_count": 0,
      "outputs": [
        {
          "output_type": "execute_result",
          "data": {
            "text/plain": [
              "['ladies',\n",
              " 'pick',\n",
              " 'piccata',\n",
              " 'pic',\n",
              " 'phx',\n",
              " 'photos',\n",
              " 'photo',\n",
              " 'picked',\n",
              " 'phones',\n",
              " 'philly',\n",
              " 'pf',\n",
              " 'petite',\n",
              " 'peter',\n",
              " 'pete',\n",
              " 'pet',\n",
              " 'pho',\n",
              " 'picking',\n",
              " 'pickle',\n",
              " 'pickled',\n",
              " 'piled']"
            ]
          },
          "metadata": {
            "tags": []
          },
          "execution_count": 43
        }
      ]
    },
    {
      "cell_type": "markdown",
      "metadata": {
        "id": "LSX8Fxb1q_j_",
        "colab_type": "text"
      },
      "source": [
        "***5.3 Gradient boost***"
      ]
    },
    {
      "cell_type": "code",
      "metadata": {
        "id": "UPXr9c18Xu84",
        "colab_type": "code",
        "outputId": "52bc53a6-5854-4130-f366-be734bfd2b80",
        "colab": {
          "base_uri": "https://localhost:8080/",
          "height": 452
        }
      },
      "source": [
        "%%time\n",
        "from sklearn.ensemble import GradientBoostingClassifier\n",
        "\n",
        "parameters = {\n",
        "    'n_estimators': 50,\n",
        "    'max_depth': 5,\n",
        "    'learning_rate': 0.2,\n",
        "    'random_state': 42\n",
        "}\n",
        "\n",
        "\n",
        "clf = GradientBoostingClassifier(**parameters)\n",
        "\n",
        "train_test_model(clf, X_train, target_train, X_test, target_test)"
      ],
      "execution_count": 0,
      "outputs": [
        {
          "output_type": "stream",
          "text": [
            "              train      test\n",
            "metrics                      \n",
            "AUC        0.916214  0.877629\n",
            "Accuracy   0.831796  0.794586\n",
            "Precision  0.821495  0.780770\n",
            "Recall     0.837034  0.797459\n",
            "f1-score   0.829192  0.789026\n"
          ],
          "name": "stdout"
        },
        {
          "output_type": "display_data",
          "data": {
            "image/png": "[encoded data removed]",
            "text/plain": [
              "<Figure size 432x288 with 1 Axes>"
            ]
          },
          "metadata": {
            "tags": []
          }
        },
        {
          "output_type": "stream",
          "text": [
            "CPU times: user 26min 55s, sys: 2.45 s, total: 26min 57s\n",
            "Wall time: 26min 57s\n"
          ],
          "name": "stdout"
        }
      ]
    },
    {
      "cell_type": "markdown",
      "metadata": {
        "id": "0emyeSmjrFol",
        "colab_type": "text"
      },
      "source": [
        "***5.4 naive bayes***"
      ]
    },
    {
      "cell_type": "code",
      "metadata": {
        "id": "0aG8uIG8pYpY",
        "colab_type": "code",
        "colab": {}
      },
      "source": [
        "%%time\n",
        "from sklearn.naive_bayes import MultinomialNB\n",
        "\n",
        "clf_nb = MultinomialNB()\n",
        "\n",
        "clf_nb.fit(x_train, target_train)\n",
        "\n",
        "train_test_model(clf_nb, X_train, target_train, X_test, target_test)"
      ],
      "execution_count": 0,
      "outputs": []
    },
    {
      "cell_type": "code",
      "metadata": {
        "id": "yMcHhykZrLHw",
        "colab_type": "code",
        "colab": {}
      },
      "source": [
        ""
      ],
      "execution_count": 0,
      "outputs": []
    },
    {
      "cell_type": "markdown",
      "metadata": {
        "id": "-15VlxeqrLXR",
        "colab_type": "text"
      },
      "source": [
        "***5.5 Feedforward neural network***"
      ]
    },
    {
      "cell_type": "code",
      "metadata": {
        "id": "qzoj1rfnTRzq",
        "colab_type": "code",
        "outputId": "edefebda-fbb4-4641-ede1-b4516abce0a1",
        "colab": {
          "base_uri": "https://localhost:8080/",
          "height": 452
        }
      },
      "source": [
        "%%time\n",
        "from sklearn.neural_network import MLPClassifier\n",
        "\n",
        "\n",
        "parameters = {\n",
        "    'solver':'adam', \n",
        "    'activation':'relu',\n",
        "    'alpha':1e-5, \n",
        "    'hidden_layer_sizes':(5,5), \n",
        "    'learning_rate':'adaptive',\n",
        "    'random_state':1\n",
        "    }\n",
        "\n",
        "ffnn = clf = MLPClassifier(**parameters)\n",
        "\n",
        "train_test_model(ffnn, X_train, target_train, X_test, target_test)"
      ],
      "execution_count": 0,
      "outputs": [
        {
          "output_type": "stream",
          "text": [
            "              train      test\n",
            "metrics                      \n",
            "AUC        0.500000  0.500000\n",
            "Accuracy   0.512235  0.518324\n",
            "Precision  0.000000  0.000000\n",
            "Recall     0.000000  0.000000\n",
            "f1-score   0.000000  0.000000\n"
          ],
          "name": "stdout"
        },
        {
          "output_type": "display_data",
          "data": {
            "image/png": "[encoded data removed]",
            "text/plain": [
              "<Figure size 432x288 with 1 Axes>"
            ]
          },
          "metadata": {
            "tags": []
          }
        },
        {
          "output_type": "stream",
          "text": [
            "CPU times: user 1min 3s, sys: 7.87 s, total: 1min 11s\n",
            "Wall time: 39.9 s\n"
          ],
          "name": "stdout"
        }
      ]
    },
    {
      "cell_type": "code",
      "metadata": {
        "id": "zgzHgtRCTRzs",
        "colab_type": "code",
        "outputId": "c645ae6e-cbe1-4834-902a-fbd546b5def5",
        "colab": {
          "base_uri": "https://localhost:8080/",
          "height": 452
        }
      },
      "source": [
        "%%time\n",
        "\n",
        "from sklearn.svm import SVC\n",
        "\n",
        "parameters = {'probability':True, \n",
        "    'max_iter':200}\n",
        "    \n",
        "svc = clf = SVC(**parameters)    \n",
        "\n",
        "train_test_model(svc, X_train, target_train, X_test, target_test)"
      ],
      "execution_count": 0,
      "outputs": [
        {
          "output_type": "stream",
          "text": [
            "              train      test\n",
            "metrics                      \n",
            "AUC        0.775086  0.768264\n",
            "Accuracy   0.623199  0.622723\n",
            "Precision  0.571673  0.567492\n",
            "Recall     0.907256  0.911211\n",
            "f1-score   0.701391  0.699403\n"
          ],
          "name": "stdout"
        },
        {
          "output_type": "display_data",
          "data": {
            "image/png": "[encoded data removed]",
            "text/plain": [
              "<Figure size 432x288 with 1 Axes>"
            ]
          },
          "metadata": {
            "tags": []
          }
        },
        {
          "output_type": "stream",
          "text": [
            "CPU times: user 18min 23s, sys: 396 ms, total: 18min 23s\n",
            "Wall time: 18min 23s\n"
          ],
          "name": "stdout"
        }
      ]
    },
    {
      "cell_type": "code",
      "metadata": {
        "id": "J9cLc7713iZL",
        "colab_type": "code",
        "colab": {}
      },
      "source": [
        ""
      ],
      "execution_count": 0,
      "outputs": []
    }
  ]
}